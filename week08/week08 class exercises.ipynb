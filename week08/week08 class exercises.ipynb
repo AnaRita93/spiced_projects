{
 "cells": [
  {
   "cell_type": "code",
   "execution_count": 1,
   "id": "43097d15",
   "metadata": {},
   "outputs": [
    {
     "data": {
      "text/plain": "['cold']"
     },
     "execution_count": 1,
     "metadata": {},
     "output_type": "execute_result"
    }
   ],
   "source": [
    "## Monday class: Markov chain\n",
    "\n",
    "import random\n",
    "random.choices(['hot','cold'],[0.1,0.9])"
   ]
  },
  {
   "cell_type": "code",
   "execution_count": 2,
   "id": "b80db9c6",
   "metadata": {},
   "outputs": [
    {
     "data": {
      "text/plain": "['cold']"
     },
     "execution_count": 2,
     "metadata": {},
     "output_type": "execute_result"
    }
   ],
   "source": [
    "random.choices(['hot','cold'],[0.1,0.9])"
   ]
  },
  {
   "cell_type": "code",
   "execution_count": 3,
   "id": "78339776",
   "metadata": {},
   "outputs": [
    {
     "data": {
      "text/plain": "['cold']"
     },
     "execution_count": 3,
     "metadata": {},
     "output_type": "execute_result"
    }
   ],
   "source": [
    "random.choices(['hot','cold'],[0.1,0.9])"
   ]
  },
  {
   "cell_type": "code",
   "execution_count": 4,
   "id": "3ea750fd",
   "metadata": {},
   "outputs": [],
   "source": [
    "state = 'hot'\n",
    "\n",
    "if state=='hot':\n",
    "    probs = [0.8,0.2]\n",
    "else:\n",
    "    probs = [0.1,0.9]\n",
    "state = random.choices(['hot','cold', probs])[0]    "
   ]
  },
  {
   "cell_type": "code",
   "execution_count": 5,
   "id": "c7e8032c",
   "metadata": {},
   "outputs": [
    {
     "data": {
      "text/plain": "'cold'"
     },
     "execution_count": 5,
     "metadata": {},
     "output_type": "execute_result"
    }
   ],
   "source": [
    "state"
   ]
  },
  {
   "cell_type": "code",
   "execution_count": 5,
   "id": "2e97d860",
   "metadata": {},
   "outputs": [],
   "source": []
  }
 ],
 "metadata": {
  "kernelspec": {
   "display_name": "Python 3 (ipykernel)",
   "language": "python",
   "name": "python3"
  },
  "language_info": {
   "codemirror_mode": {
    "name": "ipython",
    "version": 3
   },
   "file_extension": ".py",
   "mimetype": "text/x-python",
   "name": "python",
   "nbconvert_exporter": "python",
   "pygments_lexer": "ipython3",
   "version": "3.7.11"
  }
 },
 "nbformat": 4,
 "nbformat_minor": 5
}