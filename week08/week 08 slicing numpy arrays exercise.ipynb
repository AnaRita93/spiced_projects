{
 "cells": [
  {
   "cell_type": "code",
   "execution_count": 1,
   "id": "b9b61927",
   "metadata": {},
   "outputs": [],
   "source": [
    "import numpy as np"
   ]
  },
  {
   "cell_type": "code",
   "execution_count": 5,
   "id": "497efda0",
   "metadata": {},
   "outputs": [
    {
     "data": {
      "text/plain": [
       "array([1, 3, 5, 7, 9])"
      ]
     },
     "execution_count": 5,
     "metadata": {},
     "output_type": "execute_result"
    }
   ],
   "source": [
    "np.arange(1,10,2) #n.arange(start, stop, step)"
   ]
  },
  {
   "cell_type": "code",
   "execution_count": 3,
   "id": "a4e7ade0",
   "metadata": {},
   "outputs": [
    {
     "data": {
      "text/plain": [
       "7.38905609893065"
      ]
     },
     "execution_count": 3,
     "metadata": {},
     "output_type": "execute_result"
    }
   ],
   "source": [
    "np.exp(2)"
   ]
  },
  {
   "cell_type": "code",
   "execution_count": 4,
   "id": "3c8097ba",
   "metadata": {},
   "outputs": [
    {
     "data": {
      "text/plain": [
       "2.0"
      ]
     },
     "execution_count": 4,
     "metadata": {},
     "output_type": "execute_result"
    }
   ],
   "source": [
    "np.log(7.38905609893065)"
   ]
  },
  {
   "cell_type": "code",
   "execution_count": null,
   "id": "aa5166ce",
   "metadata": {},
   "outputs": [],
   "source": [
    "np.random.normal(mean, std, size) #samples from a Normal distribution"
   ]
  },
  {
   "cell_type": "code",
   "execution_count": null,
   "id": "a7e7606d",
   "metadata": {},
   "outputs": [],
   "source": [
    "np.random.random(min,max,size) #samples from an Uniform distribution"
   ]
  },
  {
   "cell_type": "code",
   "execution_count": null,
   "id": "1dc5fa7d",
   "metadata": {},
   "outputs": [],
   "source": [
    "a.shape #returns dimensions of array\n",
    "a.reshape # reshapes arrays to matrices and vice versa "
   ]
  },
  {
   "cell_type": "code",
   "execution_count": 10,
   "id": "62033eb4",
   "metadata": {},
   "outputs": [
    {
     "data": {
      "text/plain": [
       "array([ 1.        ,  1.64285714,  2.28571429,  2.92857143,  3.57142857,\n",
       "        4.21428571,  4.85714286,  5.5       ,  6.14285714,  6.78571429,\n",
       "        7.42857143,  8.07142857,  8.71428571,  9.35714286, 10.        ])"
      ]
     },
     "execution_count": 10,
     "metadata": {},
     "output_type": "execute_result"
    }
   ],
   "source": [
    "np.linspace(1,10,15)"
   ]
  },
  {
   "cell_type": "code",
   "execution_count": null,
   "id": "bd023a24",
   "metadata": {},
   "outputs": [],
   "source": [
    "np.dot(v1,v2) # Product of 2 vectors -> number"
   ]
  },
  {
   "cell_type": "code",
   "execution_count": null,
   "id": "dbee7a43",
   "metadata": {},
   "outputs": [],
   "source": [
    "np.matmul(m1,m2) # matrix multiplication m1 ~(5,2), m2 ~(2,4), m1*m2 ~(5,4)"
   ]
  },
  {
   "cell_type": "code",
   "execution_count": null,
   "id": "80fd2762",
   "metadata": {},
   "outputs": [],
   "source": [
    "a.T #turns array by 90 degrees"
   ]
  },
  {
   "cell_type": "code",
   "execution_count": 62,
   "id": "36f87582",
   "metadata": {},
   "outputs": [
    {
     "data": {
      "text/plain": [
       "array([[[0, 0, 0],\n",
       "        [0, 0, 0],\n",
       "        [0, 0, 0],\n",
       "        ...,\n",
       "        [0, 0, 0],\n",
       "        [0, 0, 0],\n",
       "        [0, 0, 0]],\n",
       "\n",
       "       [[0, 0, 0],\n",
       "        [0, 0, 0],\n",
       "        [0, 0, 0],\n",
       "        ...,\n",
       "        [0, 0, 0],\n",
       "        [0, 0, 0],\n",
       "        [0, 0, 0]],\n",
       "\n",
       "       [[0, 0, 0],\n",
       "        [0, 0, 0],\n",
       "        [0, 0, 0],\n",
       "        ...,\n",
       "        [0, 0, 0],\n",
       "        [0, 0, 0],\n",
       "        [0, 0, 0]],\n",
       "\n",
       "       ...,\n",
       "\n",
       "       [[0, 0, 0],\n",
       "        [0, 0, 0],\n",
       "        [0, 0, 0],\n",
       "        ...,\n",
       "        [0, 0, 0],\n",
       "        [0, 0, 0],\n",
       "        [0, 0, 0]],\n",
       "\n",
       "       [[0, 0, 0],\n",
       "        [0, 0, 0],\n",
       "        [0, 0, 0],\n",
       "        ...,\n",
       "        [0, 0, 0],\n",
       "        [0, 0, 0],\n",
       "        [0, 0, 0]],\n",
       "\n",
       "       [[0, 0, 0],\n",
       "        [0, 0, 0],\n",
       "        [0, 0, 0],\n",
       "        ...,\n",
       "        [0, 0, 0],\n",
       "        [0, 0, 0],\n",
       "        [0, 0, 0]]], dtype=uint8)"
      ]
     },
     "execution_count": 62,
     "metadata": {},
     "output_type": "execute_result"
    }
   ],
   "source": [
    "from PIL import Image\n",
    "a = np.zeros((100,100,3), dtype=np.uint8)\n",
    "a"
   ]
  },
  {
   "cell_type": "code",
   "execution_count": 47,
   "id": "e3ed0930",
   "metadata": {},
   "outputs": [
    {
     "data": {
      "text/plain": [
       "(100, 100, 3)"
      ]
     },
     "execution_count": 47,
     "metadata": {},
     "output_type": "execute_result"
    }
   ],
   "source": [
    "a.shape"
   ]
  },
  {
   "cell_type": "code",
   "execution_count": 48,
   "id": "b814bf00",
   "metadata": {},
   "outputs": [
    {
     "data": {
      "image/png": "[encoded data removed]",
      "text/plain": [
       "<PIL.Image.Image image mode=RGB size=100x100 at 0x7FD33BE4CD50>"
      ]
     },
     "execution_count": 48,
     "metadata": {},
     "output_type": "execute_result"
    }
   ],
   "source": [
    "im = Image.fromarray(a)\n",
    "im"
   ]
  },
  {
   "cell_type": "code",
   "execution_count": 42,
   "id": "7073a148",
   "metadata": {},
   "outputs": [],
   "source": [
    "a = 255"
   ]
  },
  {
   "cell_type": "code",
   "execution_count": 43,
   "id": "6d3f1bca",
   "metadata": {},
   "outputs": [
    {
     "data": {
      "text/plain": [
       "255"
      ]
     },
     "execution_count": 43,
     "metadata": {},
     "output_type": "execute_result"
    }
   ],
   "source": [
    "a"
   ]
  },
  {
   "cell_type": "code",
   "execution_count": 30,
   "id": "4f2155dd",
   "metadata": {},
   "outputs": [
    {
     "data": {
      "image/png": "[encoded data removed]",
      "text/plain": [
       "<PIL.Image.Image image mode=RGB size=100x100 at 0x7FD33BEE6710>"
      ]
     },
     "execution_count": 30,
     "metadata": {},
     "output_type": "execute_result"
    }
   ],
   "source": [
    "im"
   ]
  },
  {
   "cell_type": "code",
   "execution_count": 81,
   "id": "eefb27ea",
   "metadata": {},
   "outputs": [],
   "source": [
    "a[ :, :,0] = 255\n",
    "a[ :100, :,1] = 255\n",
    "a[:,50:150,2] = 200\n",
    "\n",
    "a[80:120,80:120, :] = (255,128,0)"
   ]
  },
  {
   "cell_type": "code",
   "execution_count": 82,
   "id": "04de876f",
   "metadata": {},
   "outputs": [
    {
     "data": {
      "image/png": "[encoded data removed]",
      "text/plain": [
       "<PIL.Image.Image image mode=RGB size=100x100 at 0x7FD33BE5EA90>"
      ]
     },
     "execution_count": 82,
     "metadata": {},
     "output_type": "execute_result"
    }
   ],
   "source": [
    "im = Image.fromarray(a)\n",
    "im"
   ]
  },
  {
   "cell_type": "code",
   "execution_count": 83,
   "id": "e02dba43",
   "metadata": {},
   "outputs": [],
   "source": [
    "a = np.zeros((200,200,3), dtype=np.uint8)\n",
    "\n",
    "gradient = np.linspace(0,255,200, dtype=np.uint8)"
   ]
  },
  {
   "cell_type": "code",
   "execution_count": 88,
   "id": "d8c3f786",
   "metadata": {},
   "outputs": [],
   "source": [
    "a[:, :, 0] = gradient\n",
    "a[:, ::-1, 2] = gradient"
   ]
  },
  {
   "cell_type": "code",
   "execution_count": 89,
   "id": "6ed00571",
   "metadata": {},
   "outputs": [
    {
     "data": {
      "image/png": "[encoded data removed]",
      "text/plain": [
       "<PIL.Image.Image image mode=RGB size=200x200 at 0x7FD33BE32B50>"
      ]
     },
     "execution_count": 89,
     "metadata": {},
     "output_type": "execute_result"
    }
   ],
   "source": [
    "Image.fromarray(a)"
   ]
  },
  {
   "cell_type": "code",
   "execution_count": null,
   "id": "eec49194",
   "metadata": {},
   "outputs": [],
   "source": []
  }
 ],
 "metadata": {
  "kernelspec": {
   "display_name": "Python 3 (ipykernel)",
   "language": "python",
   "name": "python3"
  },
  "language_info": {
   "codemirror_mode": {
    "name": "ipython",
    "version": 3
   },
   "file_extension": ".py",
   "mimetype": "text/x-python",
   "name": "python",
   "nbconvert_exporter": "python",
   "pygments_lexer": "ipython3",
   "version": "3.7.11"
  }
 },
 "nbformat": 4,
 "nbformat_minor": 5
}
