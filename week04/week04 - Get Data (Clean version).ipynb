{
 "cells": [
  {
   "cell_type": "code",
   "execution_count": 1,
   "id": "2d73aa4a",
   "metadata": {},
   "outputs": [],
   "source": [
    "#Set a user agent:\n",
    "headers = {\"User-Agent\": \"Mozilla/5.0 (X11; Linux x86_64) AppleWebKit/537.36 (KHTML, like Gecko) Chrome/93.0.4577.63 Safari/537.36\"}\n",
    "timer = 1 #second"
   ]
  },
  {
   "cell_type": "code",
   "execution_count": 2,
   "id": "20506343",
   "metadata": {},
   "outputs": [],
   "source": [
    "import requests\n",
    "import re\n",
    "import time\n",
    "\n",
    "#Inspect a lyrics webpage and find all artists songs linked\n",
    "florence = 'https://www.azlyrics.com/f/florencethemachine.html'\n"
   ]
  },
  {
   "cell_type": "code",
   "execution_count": 3,
   "id": "cbcd5a77",
   "metadata": {},
   "outputs": [],
   "source": [
    "#sleep? NO - its just one request\n",
    "florence_response = requests.get(florence, headers=headers)"
   ]
  },
  {
   "cell_type": "code",
   "execution_count": 4,
   "id": "7d482e04",
   "metadata": {},
   "outputs": [
    {
     "data": {
      "text/plain": [
       "'<!DOCTYPE html>\\r\\n<html lang=\"en\">\\r\\n  <head>\\r\\n    <meta charset=\"utf-8\">\\r\\n    <meta http-equiv=\"X-UA-Compatible\" content=\"IE=edge\">\\r\\n    <meta name=\"viewport\" content=\"width=device-width, initial-scale=1\">\\r\\n    <meta name=\"robots\" content=\"noindex,nofollow\">\\r\\n    <title>AZLyrics - request for access</title>\\r\\n\\r\\n\\t<link rel=\"stylesheet\" href=\"https://maxcdn.bootstrapcdn.com/bootstrap/3.3.7/css/bootstrap.min.css\" integrity=\"sha384-BVYiiSIFeK1dGmJRAkycuHAHRg32OmUcww7on3RYdg4Va+PmSTsz/K68vbdEjh4u\" crossorigin=\"anonymous\">\\r\\n\\t<link rel=\"stylesheet\" href=\"https://code.jquery.com/ui/1.12.1/themes/base/jquery-ui.min.css\">\\r\\n\\t<link rel=\"stylesheet\" href=\"/bsaz.css\">\\r\\n\\r\\n    <!-- HTML5 shim and Respond.js for IE8 support of HTML5 elements and media queries -->\\r\\n    <!--[if lt IE 9]>\\r\\n      <script src=\"https://oss.maxcdn.com/html5shiv/3.7.2/html5shiv.min.js\"></script>\\r\\n      <script src=\"https://oss.maxcdn.com/respond/1.4.2/respond.min.js\"></script>\\r\\n    <![endif]-->\\r\\n    \\r\\n    <script src=\"https://www.google.com/recaptcha/api.js\" async defer></script>\\r\\n\\t<script src=\"https://code.jquery.com/jquery-1.12.4.min.js\" integrity=\"sha256-ZosEbRLbNQzLpnKIkEdrPv7lOy9C27hHQ+Xp8a4MxAQ=\" crossorigin=\"anonymous\"></script>\\r\\n\\t<script src=\"https://code.jquery.com/ui/1.12.1/jquery-ui.min.js\"></script>\\r\\n\\t<script src=\"https://maxcdn.bootstrapcdn.com/bootstrap/3.3.7/js/bootstrap.min.js\" integrity=\"sha384-Tc5IQib027qvyjSMfHjOMaLkfuWVxZxUPnCJA7l2mCWNIpG9mGCD8wGNIcPD7Txa\" crossorigin=\"anonymous\"></script>\\r\\n\\r\\n    <script type=\"text/javascript\">\\r\\n    <!-- \\r\\n      if (top.location != self.location) {\\r\\n      top.location = self.location.href\\r\\n     }\\r\\n    //--> \\r\\n    function az_recaptcha_success(){\\r\\n        document.getElementById(\"az_unblock\").submit();\\r\\n    }\\r\\n    </script>\\r\\n\\r\\n  </head>\\r\\n\\t  <body>\\r\\n\\r\\n  <nav class=\"navbar navbar-default navbar-static-top text-center\">\\r\\n  <div class=\"container text-center\">\\r\\n    <div class=\"navbar-header\" style=\"float:none; display:inline-block;\">\\r\\n      <a class=\"navbar-brand\" href=\"https://www.azlyrics.com\"><img alt=\"AZLyrics.com\" class=\"pull-left\" style=\"max-height:40px; margin-top:-10px;\" src=\"/az_logo_tr.png\"></a>\\r\\n    </div>\\r\\n  </div><!-- /.container -->\\r\\n  </nav>\\r\\n\\r\\n<!-- top ban -->\\r\\n<!--  <div class=\"lboard-wrap\">\\r\\n  <div class=\"container\">\\r\\n    <div class=\"row\">\\r\\n       <div class=\"col-xs-12 top-ad text-center\">\\r\\n         <span id=\"cf_banner_top_nofc\"></span>\\r\\n       </div>\\r\\n    </div>\\r\\n  </div>\\r\\n  </div> -->\\r\\n\\r\\n<!-- main -->\\r\\n  <div class=\"container main-page\">\\r\\n  <div class=\"row\">\\r\\n  <div class=\"col-xs-12 col-sm-10 col-sm-offset-1 col-md-8 col-md-offset-2 text-center\">\\r\\n      <div class=\"alert alert-info\"><b>\\r\\n              Our systems have detected unusual activity from your IP address (computer network). <br />\\r\\n              This page checks to see if it\\'s really you sending the requests, and not a robot.\\r\\n      </b></div>\\r\\n\\r\\n    <div class=\"panel\">\\r\\n    <div class=\"panel-body\">\\r\\n            <div class=\"alert alert-warning\">Please check the box below to regain access to AZLyrics.com.</div>\\r\\n        <form id=\"az_unblock\" method=\"POST\">\\r\\n        <div class=\"form-group\">\\r\\n        <div class=\"g-recaptcha\" data-sitekey=\"6Le3KzMUAAAAAILzez0f7PnFiFboGPKt0qpkINXw\" data-callback=\"az_recaptcha_success\" style=\"margin: 0 auto; width: 304px;\"></div>\\r\\n        </div>\\r\\n        <div class=\"alert\" id=\"resultBlock\" style=\"display: none\"></div>\\r\\n        </form>\\r\\n    </div>\\r\\n</div>\\r\\n\\r\\n             </div>\\r\\n    </div>\\r\\n  </div>  <!-- container main-page -->\\r\\n\\r\\n<!-- bot ban -->\\r\\n  <!--<div class=\"lboard-wrap\">\\r\\n  <div class=\"container\">\\r\\n    <div class=\"row\">\\r\\n       <div class=\"col-xs-12 top-ad text-center\">\\r\\n          <span id=\"cf_banner_bottom\"></span>\\r\\n       </div>\\r\\n    </div>\\r\\n  </div>\\r\\n  </div>-->\\r\\n\\r\\n<!-- footer -->\\r\\n     <!--<nav class=\"navbar navbar-footer\">\\r\\n          <div class=\"container text-center\">\\r\\n          <ul class=\"nav navbar-nav navbar-center\">\\r\\n            <li><a href=\"//www.azlyrics.com/adv.html\">Advertise Here</a></li>\\r\\n            <li><a href=\"//www.azlyrics.com/privacy.html\">Privacy Policy</a></li>\\r\\n            <li><a href=\"//www.azlyrics.com/cookie.html\">Cookie Policy</a></li>\\r\\n            <li><a href=\"//www.azlyrics.com/copyright.html\">DMCA Policy</a></li>\\r\\n          </ul>\\r\\n          </div> \\r\\n     </nav>-->\\r\\n     <div class=\"footer-wrap\">\\r\\n          <div class=\"container\">\\r\\n          <small>\\r\\n             <script type=\"text/javascript\">\\r\\n                curdate=new Date();\\r\\n                document.write(\"<strong>Copyright &copy; 2000-\"+curdate.getFullYear()+\" AZLyrics.com<\\\\/strong>\");\\r\\n             </script>\\r\\n          </small>\\r\\n          </div>\\r\\n     </div>\\r\\n  </body>\\r\\n</html>\\r\\n'"
      ]
     },
     "execution_count": 4,
     "metadata": {},
     "output_type": "execute_result"
    }
   ],
   "source": [
    "florence_response.text[0:10000]"
   ]
  },
  {
   "cell_type": "code",
   "execution_count": 5,
   "id": "2ff2733b",
   "metadata": {},
   "outputs": [],
   "source": [
    "# find a way to extract all the urls that point to the lyrics from that page\n",
    "# test on https://regex101.com/\n",
    "all_florence_links = re.findall('\\/lyrics\\/florencethemachine\\/.*html', florence_response.text)"
   ]
  },
  {
   "cell_type": "code",
   "execution_count": 6,
   "id": "e922a3e1",
   "metadata": {},
   "outputs": [
    {
     "data": {
      "text/plain": [
       "[]"
      ]
     },
     "execution_count": 6,
     "metadata": {},
     "output_type": "execute_result"
    }
   ],
   "source": [
    "all_florence_links"
   ]
  },
  {
   "cell_type": "code",
   "execution_count": null,
   "id": "2df2a40c",
   "metadata": {},
   "outputs": [],
   "source": []
  },
  {
   "cell_type": "code",
   "execution_count": null,
   "id": "7244b3e6",
   "metadata": {},
   "outputs": [],
   "source": []
  },
  {
   "cell_type": "code",
   "execution_count": null,
   "id": "b4ba5ac5",
   "metadata": {},
   "outputs": [],
   "source": []
  }
 ],
 "metadata": {
  "kernelspec": {
   "display_name": "Python 3 (ipykernel)",
   "language": "python",
   "name": "python3"
  },
  "language_info": {
   "codemirror_mode": {
    "name": "ipython",
    "version": 3
   },
   "file_extension": ".py",
   "mimetype": "text/x-python",
   "name": "python",
   "nbconvert_exporter": "python",
   "pygments_lexer": "ipython3",
   "version": "3.7.11"
  }
 },
 "nbformat": 4,
 "nbformat_minor": 5
}
