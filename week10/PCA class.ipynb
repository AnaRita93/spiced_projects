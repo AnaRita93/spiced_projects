{
 "cells": [
  {
   "cell_type": "code",
   "execution_count": 4,
   "id": "7b1a7c30",
   "metadata": {},
   "outputs": [],
   "source": [
    "#Packages\n",
    "import pandas as pd\n",
    "import seaborn as sns\n",
    "import matplotlib.pyplot as plt\n",
    "#from sklearn.cluster import Kmeans\n",
    "#from sklearn.preprocessing "
   ]
  },
  {
   "cell_type": "code",
   "execution_count": null,
   "id": "538fe900",
   "metadata": {},
   "outputs": [],
   "source": [
    "# get data \n",
    "df = sns.load_dataset('penguins')"
   ]
  },
  {
   "cell_type": "code",
   "execution_count": null,
   "id": "6b6f1b3a",
   "metadata": {},
   "outputs": [],
   "source": [
    "# Scale the numeric data\n",
    "pen_stats = penguins[['flipper_length_mm', body_mass_g]]\n",
    "scaler = MinMaxScaler()\n",
    "pen"
   ]
  },
  {
   "cell_type": "code",
   "execution_count": null,
   "id": "1e5f4fdc",
   "metadata": {},
   "outputs": [],
   "source": [
    "# Instantiate the algorithm (set hyperparameter) # only works on numeric features \n",
    "# 6 centroids randomly located --> check techniques on how to decide the number of clusters \n",
    "# its going to iterate so that the dist around centroid is min and distance between clusters is max\n",
    "kmeans = KMeans(n_clusters=6)\n",
    "kmeans.fit(pens)"
   ]
  },
  {
   "cell_type": "code",
   "execution_count": null,
   "id": "bb7ae146",
   "metadata": {},
   "outputs": [],
   "source": [
    "## Check hierarchical clustering "
   ]
  }
 ],
 "metadata": {
  "kernelspec": {
   "display_name": "Python 3 (ipykernel)",
   "language": "python",
   "name": "python3"
  },
  "language_info": {
   "codemirror_mode": {
    "name": "ipython",
    "version": 3
   },
   "file_extension": ".py",
   "mimetype": "text/x-python",
   "name": "python",
   "nbconvert_exporter": "python",
   "pygments_lexer": "ipython3",
   "version": "3.7.11"
  }
 },
 "nbformat": 4,
 "nbformat_minor": 5
}
