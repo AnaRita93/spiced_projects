{
 "cells": [
  {
   "cell_type": "code",
   "execution_count": 1,
   "id": "448ef87e",
   "metadata": {},
   "outputs": [],
   "source": [
    "def recommender (df,var):\n",
    "    names = df[var].unique()\n",
    "    random.choice(names)\n",
    "    "
   ]
  },
  {
   "cell_type": "code",
   "execution_count": 2,
   "id": "2c125fce",
   "metadata": {},
   "outputs": [
    {
     "ename": "SyntaxError",
     "evalue": "invalid syntax (<ipython-input-2-9bf0f8a7d584>, line 1)",
     "output_type": "error",
     "traceback": [
      "\u001b[0;36m  File \u001b[0;32m\"<ipython-input-2-9bf0f8a7d584>\"\u001b[0;36m, line \u001b[0;32m1\u001b[0m\n\u001b[0;31m    pip install flask\u001b[0m\n\u001b[0m              ^\u001b[0m\n\u001b[0;31mSyntaxError\u001b[0m\u001b[0;31m:\u001b[0m invalid syntax\n"
     ]
    }
   ],
   "source": [
    "\n",
    "pip install flask \n",
    "\n",
    "import flask\n",
    "\n",
    "from flask import Flask\n",
    "\n",
    "#set up flask\n",
    "app = Flask('movie_recommender')\n",
    "\n",
    "#create a page and connect it to Flask\n",
    "@app.route('/')\n",
    "def main_page():\n",
    "    return 'hello world '\n",
    "\n",
    "#starts the server \n",
    "app.run(host='127.0.0.1',debug=True)"
   ]
  },
  {
   "cell_type": "code",
   "execution_count": null,
   "id": "f39ea6dc",
   "metadata": {},
   "outputs": [],
   "source": []
  }
 ],
 "metadata": {
  "kernelspec": {
   "display_name": "Python 3 (ipykernel)",
   "language": "python",
   "name": "python3"
  },
  "language_info": {
   "codemirror_mode": {
    "name": "ipython",
    "version": 3
   },
   "file_extension": ".py",
   "mimetype": "text/x-python",
   "name": "python",
   "nbconvert_exporter": "python",
   "pygments_lexer": "ipython3",
   "version": "3.7.11"
  }
 },
 "nbformat": 4,
 "nbformat_minor": 5
}
