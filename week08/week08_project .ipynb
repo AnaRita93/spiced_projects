{
 "cells": [
  {
   "cell_type": "code",
   "execution_count": 119,
   "id": "e4b7fab6",
   "metadata": {},
   "outputs": [],
   "source": [
    "import pandas as pd\n",
    "\n",
    "#monday = pd.read_csv('monday.csv')\n",
    "tuesday = pd.read_csv('tuesday.csv', sep=';')\n",
    "wednesday = pd.read_csv('wednesday.csv',sep=';')\n",
    "#thursday = pd.read_csv('thursday.csv')\n",
    "#friday= pd.read_csv('friday.csv')"
   ]
  },
  {
   "cell_type": "code",
   "execution_count": 4,
   "id": "aa89c90d",
   "metadata": {},
   "outputs": [
    {
     "data": {
      "text/plain": [
       "((5050, 3), (4714, 3))"
      ]
     },
     "execution_count": 4,
     "metadata": {},
     "output_type": "execute_result"
    }
   ],
   "source": [
    "wednesday.shape, tuesday.shape"
   ]
  },
  {
   "cell_type": "code",
   "execution_count": 6,
   "id": "81493b2a",
   "metadata": {},
   "outputs": [
    {
     "data": {
      "text/html": [
       "<div>\n",
       "<style scoped>\n",
       "    .dataframe tbody tr th:only-of-type {\n",
       "        vertical-align: middle;\n",
       "    }\n",
       "\n",
       "    .dataframe tbody tr th {\n",
       "        vertical-align: top;\n",
       "    }\n",
       "\n",
       "    .dataframe thead th {\n",
       "        text-align: right;\n",
       "    }\n",
       "</style>\n",
       "<table border=\"1\" class=\"dataframe\">\n",
       "  <thead>\n",
       "    <tr style=\"text-align: right;\">\n",
       "      <th></th>\n",
       "      <th>timestamp</th>\n",
       "      <th>customer_no</th>\n",
       "      <th>location</th>\n",
       "    </tr>\n",
       "  </thead>\n",
       "  <tbody>\n",
       "    <tr>\n",
       "      <th>0</th>\n",
       "      <td>2019-09-03 07:02:00</td>\n",
       "      <td>1</td>\n",
       "      <td>fruit</td>\n",
       "    </tr>\n",
       "    <tr>\n",
       "      <th>1</th>\n",
       "      <td>2019-09-03 07:02:00</td>\n",
       "      <td>2</td>\n",
       "      <td>drinks</td>\n",
       "    </tr>\n",
       "    <tr>\n",
       "      <th>2</th>\n",
       "      <td>2019-09-03 07:03:00</td>\n",
       "      <td>3</td>\n",
       "      <td>dairy</td>\n",
       "    </tr>\n",
       "    <tr>\n",
       "      <th>3</th>\n",
       "      <td>2019-09-03 07:05:00</td>\n",
       "      <td>1</td>\n",
       "      <td>drinks</td>\n",
       "    </tr>\n",
       "    <tr>\n",
       "      <th>4</th>\n",
       "      <td>2019-09-03 07:06:00</td>\n",
       "      <td>4</td>\n",
       "      <td>dairy</td>\n",
       "    </tr>\n",
       "  </tbody>\n",
       "</table>\n",
       "</div>"
      ],
      "text/plain": [
       "             timestamp  customer_no location\n",
       "0  2019-09-03 07:02:00            1    fruit\n",
       "1  2019-09-03 07:02:00            2   drinks\n",
       "2  2019-09-03 07:03:00            3    dairy\n",
       "3  2019-09-03 07:05:00            1   drinks\n",
       "4  2019-09-03 07:06:00            4    dairy"
      ]
     },
     "execution_count": 6,
     "metadata": {},
     "output_type": "execute_result"
    }
   ],
   "source": [
    "tuesday.head()"
   ]
  },
  {
   "cell_type": "code",
   "execution_count": 7,
   "id": "a3a216ea",
   "metadata": {},
   "outputs": [
    {
     "name": "stdout",
     "output_type": "stream",
     "text": [
      "<class 'pandas.core.frame.DataFrame'>\n",
      "RangeIndex: 4714 entries, 0 to 4713\n",
      "Data columns (total 3 columns):\n",
      " #   Column       Non-Null Count  Dtype \n",
      "---  ------       --------------  ----- \n",
      " 0   timestamp    4714 non-null   object\n",
      " 1   customer_no  4714 non-null   int64 \n",
      " 2   location     4714 non-null   object\n",
      "dtypes: int64(1), object(2)\n",
      "memory usage: 110.6+ KB\n"
     ]
    }
   ],
   "source": [
    "tuesday.info()"
   ]
  },
  {
   "cell_type": "code",
   "execution_count": 120,
   "id": "af817b5c",
   "metadata": {},
   "outputs": [],
   "source": [
    "tuesday['timestamp'] = pd.to_datetime(tuesday['timestamp'], infer_datetime_format=True)"
   ]
  },
  {
   "cell_type": "code",
   "execution_count": 9,
   "id": "4cb3f68f",
   "metadata": {},
   "outputs": [
    {
     "data": {
      "text/html": [
       "<div>\n",
       "<style scoped>\n",
       "    .dataframe tbody tr th:only-of-type {\n",
       "        vertical-align: middle;\n",
       "    }\n",
       "\n",
       "    .dataframe tbody tr th {\n",
       "        vertical-align: top;\n",
       "    }\n",
       "\n",
       "    .dataframe thead th {\n",
       "        text-align: right;\n",
       "    }\n",
       "</style>\n",
       "<table border=\"1\" class=\"dataframe\">\n",
       "  <thead>\n",
       "    <tr style=\"text-align: right;\">\n",
       "      <th></th>\n",
       "      <th>customer_no</th>\n",
       "    </tr>\n",
       "  </thead>\n",
       "  <tbody>\n",
       "    <tr>\n",
       "      <th>count</th>\n",
       "      <td>4714.000000</td>\n",
       "    </tr>\n",
       "    <tr>\n",
       "      <th>mean</th>\n",
       "      <td>706.052397</td>\n",
       "    </tr>\n",
       "    <tr>\n",
       "      <th>std</th>\n",
       "      <td>414.187438</td>\n",
       "    </tr>\n",
       "    <tr>\n",
       "      <th>min</th>\n",
       "      <td>1.000000</td>\n",
       "    </tr>\n",
       "    <tr>\n",
       "      <th>25%</th>\n",
       "      <td>338.250000</td>\n",
       "    </tr>\n",
       "    <tr>\n",
       "      <th>50%</th>\n",
       "      <td>710.000000</td>\n",
       "    </tr>\n",
       "    <tr>\n",
       "      <th>75%</th>\n",
       "      <td>1067.750000</td>\n",
       "    </tr>\n",
       "    <tr>\n",
       "      <th>max</th>\n",
       "      <td>1422.000000</td>\n",
       "    </tr>\n",
       "  </tbody>\n",
       "</table>\n",
       "</div>"
      ],
      "text/plain": [
       "       customer_no\n",
       "count  4714.000000\n",
       "mean    706.052397\n",
       "std     414.187438\n",
       "min       1.000000\n",
       "25%     338.250000\n",
       "50%     710.000000\n",
       "75%    1067.750000\n",
       "max    1422.000000"
      ]
     },
     "execution_count": 9,
     "metadata": {},
     "output_type": "execute_result"
    }
   ],
   "source": [
    "tuesday.describe()"
   ]
  },
  {
   "cell_type": "code",
   "execution_count": 10,
   "id": "ec287c29",
   "metadata": {},
   "outputs": [
    {
     "data": {
      "text/html": [
       "<div>\n",
       "<style scoped>\n",
       "    .dataframe tbody tr th:only-of-type {\n",
       "        vertical-align: middle;\n",
       "    }\n",
       "\n",
       "    .dataframe tbody tr th {\n",
       "        vertical-align: top;\n",
       "    }\n",
       "\n",
       "    .dataframe thead th {\n",
       "        text-align: right;\n",
       "    }\n",
       "</style>\n",
       "<table border=\"1\" class=\"dataframe\">\n",
       "  <thead>\n",
       "    <tr style=\"text-align: right;\">\n",
       "      <th></th>\n",
       "      <th>timestamp</th>\n",
       "      <th>customer_no</th>\n",
       "    </tr>\n",
       "    <tr>\n",
       "      <th>location</th>\n",
       "      <th></th>\n",
       "      <th></th>\n",
       "    </tr>\n",
       "  </thead>\n",
       "  <tbody>\n",
       "    <tr>\n",
       "      <th>checkout</th>\n",
       "      <td>1420</td>\n",
       "      <td>1420</td>\n",
       "    </tr>\n",
       "    <tr>\n",
       "      <th>dairy</th>\n",
       "      <td>911</td>\n",
       "      <td>911</td>\n",
       "    </tr>\n",
       "    <tr>\n",
       "      <th>drinks</th>\n",
       "      <td>713</td>\n",
       "      <td>713</td>\n",
       "    </tr>\n",
       "    <tr>\n",
       "      <th>fruit</th>\n",
       "      <td>976</td>\n",
       "      <td>976</td>\n",
       "    </tr>\n",
       "    <tr>\n",
       "      <th>spices</th>\n",
       "      <td>694</td>\n",
       "      <td>694</td>\n",
       "    </tr>\n",
       "  </tbody>\n",
       "</table>\n",
       "</div>"
      ],
      "text/plain": [
       "          timestamp  customer_no\n",
       "location                        \n",
       "checkout       1420         1420\n",
       "dairy           911          911\n",
       "drinks          713          713\n",
       "fruit           976          976\n",
       "spices          694          694"
      ]
     },
     "execution_count": 10,
     "metadata": {},
     "output_type": "execute_result"
    }
   ],
   "source": [
    "#Number of customers per section\n",
    "tuesday.groupby('location').count()"
   ]
  },
  {
   "cell_type": "code",
   "execution_count": 14,
   "id": "8242a532",
   "metadata": {},
   "outputs": [
    {
     "data": {
      "text/plain": [
       "<AxesSubplot:xlabel='timestamp', ylabel='customer_no'>"
      ]
     },
     "execution_count": 14,
     "metadata": {},
     "output_type": "execute_result"
    },
    {
     "data": {
      "image/png": "[encoded data removed]",
      "text/plain": [
       "<Figure size 432x288 with 1 Axes>"
      ]
     },
     "metadata": {
      "needs_background": "light"
     },
     "output_type": "display_data"
    }
   ],
   "source": [
    "#Number of customers per section over time\n",
    "\n",
    "import seaborn as sns\n",
    "\n",
    "gb_1 = pd.DataFrame(wednesday.groupby(['location','timestamp']).count())\n",
    "\n",
    "sns.lineplot(data=gb_1, x='timestamp', y='customer_no',hue='location')\n",
    "\n",
    "\n"
   ]
  },
  {
   "cell_type": "code",
   "execution_count": null,
   "id": "a5bacd03",
   "metadata": {},
   "outputs": [],
   "source": [
    "#Number of customers at checkout over time"
   ]
  },
  {
   "cell_type": "code",
   "execution_count": null,
   "id": "3bedb5a1",
   "metadata": {},
   "outputs": [],
   "source": [
    "#time each customer spent in the market"
   ]
  },
  {
   "cell_type": "code",
   "execution_count": null,
   "id": "70e6a666",
   "metadata": {},
   "outputs": [],
   "source": [
    "#Total number of customers over time "
   ]
  },
  {
   "cell_type": "code",
   "execution_count": 40,
   "id": "b070cf7d",
   "metadata": {},
   "outputs": [
    {
     "data": {
      "text/plain": [
       "<AxesSubplot:xlabel='timestamp'>"
      ]
     },
     "execution_count": 40,
     "metadata": {},
     "output_type": "execute_result"
    },
    {
     "data": {
      "image/png": "[encoded data removed]",
      "text/plain": [
       "<Figure size 432x288 with 1 Axes>"
      ]
     },
     "metadata": {
      "needs_background": "light"
     },
     "output_type": "display_data"
    }
   ],
   "source": [
    "wednesday.groupby('timestamp').count().plot()"
   ]
  },
  {
   "cell_type": "code",
   "execution_count": 45,
   "id": "47e63ac5",
   "metadata": {},
   "outputs": [],
   "source": [
    "cust_2 = wednesday[wednesday['customer_no'] == 2]\n",
    "cust_1 = wednesday[wednesday['customer_no'] == 1]"
   ]
  },
  {
   "cell_type": "code",
   "execution_count": 41,
   "id": "b92efb02",
   "metadata": {},
   "outputs": [
    {
     "data": {
      "text/html": [
       "<div>\n",
       "<style scoped>\n",
       "    .dataframe tbody tr th:only-of-type {\n",
       "        vertical-align: middle;\n",
       "    }\n",
       "\n",
       "    .dataframe tbody tr th {\n",
       "        vertical-align: top;\n",
       "    }\n",
       "\n",
       "    .dataframe thead th {\n",
       "        text-align: right;\n",
       "    }\n",
       "</style>\n",
       "<table border=\"1\" class=\"dataframe\">\n",
       "  <thead>\n",
       "    <tr style=\"text-align: right;\">\n",
       "      <th></th>\n",
       "      <th>timestamp</th>\n",
       "      <th>customer_no</th>\n",
       "    </tr>\n",
       "    <tr>\n",
       "      <th>location</th>\n",
       "      <th></th>\n",
       "      <th></th>\n",
       "    </tr>\n",
       "  </thead>\n",
       "  <tbody>\n",
       "    <tr>\n",
       "      <th>checkout</th>\n",
       "      <td>1526</td>\n",
       "      <td>1526</td>\n",
       "    </tr>\n",
       "    <tr>\n",
       "      <th>dairy</th>\n",
       "      <td>976</td>\n",
       "      <td>976</td>\n",
       "    </tr>\n",
       "    <tr>\n",
       "      <th>drinks</th>\n",
       "      <td>775</td>\n",
       "      <td>775</td>\n",
       "    </tr>\n",
       "    <tr>\n",
       "      <th>fruit</th>\n",
       "      <td>1043</td>\n",
       "      <td>1043</td>\n",
       "    </tr>\n",
       "    <tr>\n",
       "      <th>spices</th>\n",
       "      <td>730</td>\n",
       "      <td>730</td>\n",
       "    </tr>\n",
       "  </tbody>\n",
       "</table>\n",
       "</div>"
      ],
      "text/plain": [
       "          timestamp  customer_no\n",
       "location                        \n",
       "checkout       1526         1526\n",
       "dairy           976          976\n",
       "drinks          775          775\n",
       "fruit          1043         1043\n",
       "spices          730          730"
      ]
     },
     "execution_count": 41,
     "metadata": {},
     "output_type": "execute_result"
    }
   ],
   "source": [
    "wednesday.groupby('location').count()"
   ]
  },
  {
   "cell_type": "code",
   "execution_count": 46,
   "id": "59aac715",
   "metadata": {},
   "outputs": [
    {
     "data": {
      "text/html": [
       "<div>\n",
       "<style scoped>\n",
       "    .dataframe tbody tr th:only-of-type {\n",
       "        vertical-align: middle;\n",
       "    }\n",
       "\n",
       "    .dataframe tbody tr th {\n",
       "        vertical-align: top;\n",
       "    }\n",
       "\n",
       "    .dataframe thead th {\n",
       "        text-align: right;\n",
       "    }\n",
       "</style>\n",
       "<table border=\"1\" class=\"dataframe\">\n",
       "  <thead>\n",
       "    <tr style=\"text-align: right;\">\n",
       "      <th></th>\n",
       "      <th>timestamp</th>\n",
       "      <th>customer_no</th>\n",
       "      <th>location</th>\n",
       "    </tr>\n",
       "  </thead>\n",
       "  <tbody>\n",
       "    <tr>\n",
       "      <th>0</th>\n",
       "      <td>2019-09-04 07:00:00</td>\n",
       "      <td>1</td>\n",
       "      <td>fruit</td>\n",
       "    </tr>\n",
       "    <tr>\n",
       "      <th>9</th>\n",
       "      <td>2019-09-04 07:02:00</td>\n",
       "      <td>1</td>\n",
       "      <td>checkout</td>\n",
       "    </tr>\n",
       "  </tbody>\n",
       "</table>\n",
       "</div>"
      ],
      "text/plain": [
       "            timestamp  customer_no  location\n",
       "0 2019-09-04 07:00:00            1     fruit\n",
       "9 2019-09-04 07:02:00            1  checkout"
      ]
     },
     "execution_count": 46,
     "metadata": {},
     "output_type": "execute_result"
    }
   ],
   "source": [
    "cust_1.head()"
   ]
  },
  {
   "cell_type": "code",
   "execution_count": 48,
   "id": "74b0c8e3",
   "metadata": {},
   "outputs": [
    {
     "data": {
      "text/html": [
       "<div>\n",
       "<style scoped>\n",
       "    .dataframe tbody tr th:only-of-type {\n",
       "        vertical-align: middle;\n",
       "    }\n",
       "\n",
       "    .dataframe tbody tr th {\n",
       "        vertical-align: top;\n",
       "    }\n",
       "\n",
       "    .dataframe thead tr th {\n",
       "        text-align: left;\n",
       "    }\n",
       "\n",
       "    .dataframe thead tr:last-of-type th {\n",
       "        text-align: right;\n",
       "    }\n",
       "</style>\n",
       "<table border=\"1\" class=\"dataframe\">\n",
       "  <thead>\n",
       "    <tr>\n",
       "      <th></th>\n",
       "      <th colspan=\"2\" halign=\"left\">timestamp</th>\n",
       "    </tr>\n",
       "    <tr>\n",
       "      <th>location</th>\n",
       "      <th>checkout</th>\n",
       "      <th>fruit</th>\n",
       "    </tr>\n",
       "    <tr>\n",
       "      <th>customer_no</th>\n",
       "      <th></th>\n",
       "      <th></th>\n",
       "    </tr>\n",
       "  </thead>\n",
       "  <tbody>\n",
       "    <tr>\n",
       "      <th>1</th>\n",
       "      <td>2019-09-04 07:02:00</td>\n",
       "      <td>2019-09-04 07:00:00</td>\n",
       "    </tr>\n",
       "  </tbody>\n",
       "</table>\n",
       "</div>"
      ],
      "text/plain": [
       "                      timestamp                    \n",
       "location               checkout               fruit\n",
       "customer_no                                        \n",
       "1           2019-09-04 07:02:00 2019-09-04 07:00:00"
      ]
     },
     "execution_count": 48,
     "metadata": {},
     "output_type": "execute_result"
    }
   ],
   "source": [
    "cust_1.pivot(index ='customer_no', columns='location')"
   ]
  },
  {
   "cell_type": "code",
   "execution_count": 49,
   "id": "29415463",
   "metadata": {},
   "outputs": [
    {
     "data": {
      "text/html": [
       "<div>\n",
       "<style scoped>\n",
       "    .dataframe tbody tr th:only-of-type {\n",
       "        vertical-align: middle;\n",
       "    }\n",
       "\n",
       "    .dataframe tbody tr th {\n",
       "        vertical-align: top;\n",
       "    }\n",
       "\n",
       "    .dataframe thead tr th {\n",
       "        text-align: left;\n",
       "    }\n",
       "\n",
       "    .dataframe thead tr:last-of-type th {\n",
       "        text-align: right;\n",
       "    }\n",
       "</style>\n",
       "<table border=\"1\" class=\"dataframe\">\n",
       "  <thead>\n",
       "    <tr>\n",
       "      <th></th>\n",
       "      <th colspan=\"3\" halign=\"left\">timestamp</th>\n",
       "    </tr>\n",
       "    <tr>\n",
       "      <th>location</th>\n",
       "      <th>checkout</th>\n",
       "      <th>dairy</th>\n",
       "      <th>spices</th>\n",
       "    </tr>\n",
       "    <tr>\n",
       "      <th>customer_no</th>\n",
       "      <th></th>\n",
       "      <th></th>\n",
       "      <th></th>\n",
       "    </tr>\n",
       "  </thead>\n",
       "  <tbody>\n",
       "    <tr>\n",
       "      <th>2</th>\n",
       "      <td>2019-09-04 07:06:00</td>\n",
       "      <td>2019-09-04 07:00:00</td>\n",
       "      <td>2019-09-04 07:05:00</td>\n",
       "    </tr>\n",
       "  </tbody>\n",
       "</table>\n",
       "</div>"
      ],
      "text/plain": [
       "                      timestamp                                        \n",
       "location               checkout               dairy              spices\n",
       "customer_no                                                            \n",
       "2           2019-09-04 07:06:00 2019-09-04 07:00:00 2019-09-04 07:05:00"
      ]
     },
     "execution_count": 49,
     "metadata": {},
     "output_type": "execute_result"
    }
   ],
   "source": [
    "cust_2.pivot(index ='customer_no', columns='location')"
   ]
  },
  {
   "cell_type": "code",
   "execution_count": 54,
   "id": "0ef758d0",
   "metadata": {},
   "outputs": [
    {
     "data": {
      "text/html": [
       "<div>\n",
       "<style scoped>\n",
       "    .dataframe tbody tr th:only-of-type {\n",
       "        vertical-align: middle;\n",
       "    }\n",
       "\n",
       "    .dataframe tbody tr th {\n",
       "        vertical-align: top;\n",
       "    }\n",
       "\n",
       "    .dataframe thead th {\n",
       "        text-align: right;\n",
       "    }\n",
       "</style>\n",
       "<table border=\"1\" class=\"dataframe\">\n",
       "  <thead>\n",
       "    <tr style=\"text-align: right;\">\n",
       "      <th>timestamp</th>\n",
       "      <th>2019-09-04 07:00:00</th>\n",
       "      <th>2019-09-04 07:02:00</th>\n",
       "    </tr>\n",
       "    <tr>\n",
       "      <th>customer_no</th>\n",
       "      <th></th>\n",
       "      <th></th>\n",
       "    </tr>\n",
       "  </thead>\n",
       "  <tbody>\n",
       "    <tr>\n",
       "      <th>1</th>\n",
       "      <td>0.5</td>\n",
       "      <td>0.5</td>\n",
       "    </tr>\n",
       "  </tbody>\n",
       "</table>\n",
       "</div>"
      ],
      "text/plain": [
       "timestamp    2019-09-04 07:00:00  2019-09-04 07:02:00\n",
       "customer_no                                          \n",
       "1                            0.5                  0.5"
      ]
     },
     "execution_count": 54,
     "metadata": {},
     "output_type": "execute_result"
    }
   ],
   "source": [
    "pd.crosstab(cust_1['customer_no'], cust_1['timestamp'], normalize=0)"
   ]
  },
  {
   "cell_type": "code",
   "execution_count": 55,
   "id": "8a116d15",
   "metadata": {},
   "outputs": [
    {
     "data": {
      "text/html": [
       "<div>\n",
       "<style scoped>\n",
       "    .dataframe tbody tr th:only-of-type {\n",
       "        vertical-align: middle;\n",
       "    }\n",
       "\n",
       "    .dataframe tbody tr th {\n",
       "        vertical-align: top;\n",
       "    }\n",
       "\n",
       "    .dataframe thead th {\n",
       "        text-align: right;\n",
       "    }\n",
       "</style>\n",
       "<table border=\"1\" class=\"dataframe\">\n",
       "  <thead>\n",
       "    <tr style=\"text-align: right;\">\n",
       "      <th></th>\n",
       "      <th>timestamp</th>\n",
       "      <th>customer_no</th>\n",
       "      <th>location</th>\n",
       "    </tr>\n",
       "  </thead>\n",
       "  <tbody>\n",
       "    <tr>\n",
       "      <th>1</th>\n",
       "      <td>2019-09-04 07:00:00</td>\n",
       "      <td>2</td>\n",
       "      <td>dairy</td>\n",
       "    </tr>\n",
       "    <tr>\n",
       "      <th>23</th>\n",
       "      <td>2019-09-04 07:05:00</td>\n",
       "      <td>2</td>\n",
       "      <td>spices</td>\n",
       "    </tr>\n",
       "    <tr>\n",
       "      <th>25</th>\n",
       "      <td>2019-09-04 07:06:00</td>\n",
       "      <td>2</td>\n",
       "      <td>checkout</td>\n",
       "    </tr>\n",
       "  </tbody>\n",
       "</table>\n",
       "</div>"
      ],
      "text/plain": [
       "             timestamp  customer_no  location\n",
       "1  2019-09-04 07:00:00            2     dairy\n",
       "23 2019-09-04 07:05:00            2    spices\n",
       "25 2019-09-04 07:06:00            2  checkout"
      ]
     },
     "execution_count": 55,
     "metadata": {},
     "output_type": "execute_result"
    }
   ],
   "source": [
    "cust_2"
   ]
  },
  {
   "cell_type": "code",
   "execution_count": 109,
   "id": "b91c54d4",
   "metadata": {},
   "outputs": [
    {
     "ename": "KeyError",
     "evalue": "'timestamp'",
     "output_type": "error",
     "traceback": [
      "\u001b[0;31m---------------------------------------------------------------------------\u001b[0m",
      "\u001b[0;31mKeyError\u001b[0m                                  Traceback (most recent call last)",
      "\u001b[0;32m~/anaconda3/lib/python3.7/site-packages/pandas/core/indexes/base.py\u001b[0m in \u001b[0;36mget_loc\u001b[0;34m(self, key, method, tolerance)\u001b[0m\n\u001b[1;32m   3360\u001b[0m             \u001b[0;32mtry\u001b[0m\u001b[0;34m:\u001b[0m\u001b[0;34m\u001b[0m\u001b[0;34m\u001b[0m\u001b[0m\n\u001b[0;32m-> 3361\u001b[0;31m                 \u001b[0;32mreturn\u001b[0m \u001b[0mself\u001b[0m\u001b[0;34m.\u001b[0m\u001b[0m_engine\u001b[0m\u001b[0;34m.\u001b[0m\u001b[0mget_loc\u001b[0m\u001b[0;34m(\u001b[0m\u001b[0mcasted_key\u001b[0m\u001b[0;34m)\u001b[0m\u001b[0;34m\u001b[0m\u001b[0;34m\u001b[0m\u001b[0m\n\u001b[0m\u001b[1;32m   3362\u001b[0m             \u001b[0;32mexcept\u001b[0m \u001b[0mKeyError\u001b[0m \u001b[0;32mas\u001b[0m \u001b[0merr\u001b[0m\u001b[0;34m:\u001b[0m\u001b[0;34m\u001b[0m\u001b[0;34m\u001b[0m\u001b[0m\n",
      "\u001b[0;32m~/anaconda3/lib/python3.7/site-packages/pandas/_libs/index.pyx\u001b[0m in \u001b[0;36mpandas._libs.index.IndexEngine.get_loc\u001b[0;34m()\u001b[0m\n",
      "\u001b[0;32m~/anaconda3/lib/python3.7/site-packages/pandas/_libs/index.pyx\u001b[0m in \u001b[0;36mpandas._libs.index.IndexEngine.get_loc\u001b[0;34m()\u001b[0m\n",
      "\u001b[0;32mpandas/_libs/hashtable_class_helper.pxi\u001b[0m in \u001b[0;36mpandas._libs.hashtable.PyObjectHashTable.get_item\u001b[0;34m()\u001b[0m\n",
      "\u001b[0;32mpandas/_libs/hashtable_class_helper.pxi\u001b[0m in \u001b[0;36mpandas._libs.hashtable.PyObjectHashTable.get_item\u001b[0;34m()\u001b[0m\n",
      "\u001b[0;31mKeyError\u001b[0m: 'timestamp'",
      "\nThe above exception was the direct cause of the following exception:\n",
      "\u001b[0;31mKeyError\u001b[0m                                  Traceback (most recent call last)",
      "\u001b[0;32m<ipython-input-109-131c34fc0bfc>\u001b[0m in \u001b[0;36m<module>\u001b[0;34m\u001b[0m\n\u001b[0;32m----> 1\u001b[0;31m \u001b[0mcust_2\u001b[0m \u001b[0;34m=\u001b[0m \u001b[0mcust_2\u001b[0m\u001b[0;34m.\u001b[0m\u001b[0mset_index\u001b[0m\u001b[0;34m(\u001b[0m\u001b[0mcust_2\u001b[0m\u001b[0;34m[\u001b[0m\u001b[0;34m'timestamp'\u001b[0m\u001b[0;34m]\u001b[0m\u001b[0;34m)\u001b[0m\u001b[0;34m\u001b[0m\u001b[0;34m\u001b[0m\u001b[0m\n\u001b[0m",
      "\u001b[0;32m~/anaconda3/lib/python3.7/site-packages/pandas/core/frame.py\u001b[0m in \u001b[0;36m__getitem__\u001b[0;34m(self, key)\u001b[0m\n\u001b[1;32m   3453\u001b[0m             \u001b[0;32mif\u001b[0m \u001b[0mself\u001b[0m\u001b[0;34m.\u001b[0m\u001b[0mcolumns\u001b[0m\u001b[0;34m.\u001b[0m\u001b[0mnlevels\u001b[0m \u001b[0;34m>\u001b[0m \u001b[0;36m1\u001b[0m\u001b[0;34m:\u001b[0m\u001b[0;34m\u001b[0m\u001b[0;34m\u001b[0m\u001b[0m\n\u001b[1;32m   3454\u001b[0m                 \u001b[0;32mreturn\u001b[0m \u001b[0mself\u001b[0m\u001b[0;34m.\u001b[0m\u001b[0m_getitem_multilevel\u001b[0m\u001b[0;34m(\u001b[0m\u001b[0mkey\u001b[0m\u001b[0;34m)\u001b[0m\u001b[0;34m\u001b[0m\u001b[0;34m\u001b[0m\u001b[0m\n\u001b[0;32m-> 3455\u001b[0;31m             \u001b[0mindexer\u001b[0m \u001b[0;34m=\u001b[0m \u001b[0mself\u001b[0m\u001b[0;34m.\u001b[0m\u001b[0mcolumns\u001b[0m\u001b[0;34m.\u001b[0m\u001b[0mget_loc\u001b[0m\u001b[0;34m(\u001b[0m\u001b[0mkey\u001b[0m\u001b[0;34m)\u001b[0m\u001b[0;34m\u001b[0m\u001b[0;34m\u001b[0m\u001b[0m\n\u001b[0m\u001b[1;32m   3456\u001b[0m             \u001b[0;32mif\u001b[0m \u001b[0mis_integer\u001b[0m\u001b[0;34m(\u001b[0m\u001b[0mindexer\u001b[0m\u001b[0;34m)\u001b[0m\u001b[0;34m:\u001b[0m\u001b[0;34m\u001b[0m\u001b[0;34m\u001b[0m\u001b[0m\n\u001b[1;32m   3457\u001b[0m                 \u001b[0mindexer\u001b[0m \u001b[0;34m=\u001b[0m \u001b[0;34m[\u001b[0m\u001b[0mindexer\u001b[0m\u001b[0;34m]\u001b[0m\u001b[0;34m\u001b[0m\u001b[0;34m\u001b[0m\u001b[0m\n",
      "\u001b[0;32m~/anaconda3/lib/python3.7/site-packages/pandas/core/indexes/base.py\u001b[0m in \u001b[0;36mget_loc\u001b[0;34m(self, key, method, tolerance)\u001b[0m\n\u001b[1;32m   3361\u001b[0m                 \u001b[0;32mreturn\u001b[0m \u001b[0mself\u001b[0m\u001b[0;34m.\u001b[0m\u001b[0m_engine\u001b[0m\u001b[0;34m.\u001b[0m\u001b[0mget_loc\u001b[0m\u001b[0;34m(\u001b[0m\u001b[0mcasted_key\u001b[0m\u001b[0;34m)\u001b[0m\u001b[0;34m\u001b[0m\u001b[0;34m\u001b[0m\u001b[0m\n\u001b[1;32m   3362\u001b[0m             \u001b[0;32mexcept\u001b[0m \u001b[0mKeyError\u001b[0m \u001b[0;32mas\u001b[0m \u001b[0merr\u001b[0m\u001b[0;34m:\u001b[0m\u001b[0;34m\u001b[0m\u001b[0;34m\u001b[0m\u001b[0m\n\u001b[0;32m-> 3363\u001b[0;31m                 \u001b[0;32mraise\u001b[0m \u001b[0mKeyError\u001b[0m\u001b[0;34m(\u001b[0m\u001b[0mkey\u001b[0m\u001b[0;34m)\u001b[0m \u001b[0;32mfrom\u001b[0m \u001b[0merr\u001b[0m\u001b[0;34m\u001b[0m\u001b[0;34m\u001b[0m\u001b[0m\n\u001b[0m\u001b[1;32m   3364\u001b[0m \u001b[0;34m\u001b[0m\u001b[0m\n\u001b[1;32m   3365\u001b[0m         \u001b[0;32mif\u001b[0m \u001b[0mis_scalar\u001b[0m\u001b[0;34m(\u001b[0m\u001b[0mkey\u001b[0m\u001b[0;34m)\u001b[0m \u001b[0;32mand\u001b[0m \u001b[0misna\u001b[0m\u001b[0;34m(\u001b[0m\u001b[0mkey\u001b[0m\u001b[0;34m)\u001b[0m \u001b[0;32mand\u001b[0m \u001b[0;32mnot\u001b[0m \u001b[0mself\u001b[0m\u001b[0;34m.\u001b[0m\u001b[0mhasnans\u001b[0m\u001b[0;34m:\u001b[0m\u001b[0;34m\u001b[0m\u001b[0;34m\u001b[0m\u001b[0m\n",
      "\u001b[0;31mKeyError\u001b[0m: 'timestamp'"
     ]
    }
   ],
   "source": [
    "cust_2 = cust_2.set_index(cust_2['timestamp'])\n"
   ]
  },
  {
   "cell_type": "code",
   "execution_count": 125,
   "id": "270901d8",
   "metadata": {},
   "outputs": [],
   "source": [
    "#for i in [0,1,2,3]:\n",
    "cust_2['before']= cust_2['location'].shift(periods=1)\n",
    "cust_2['after'] = cust_2['location']"
   ]
  },
  {
   "cell_type": "code",
   "execution_count": 126,
   "id": "7fa32613",
   "metadata": {},
   "outputs": [
    {
     "data": {
      "text/html": [
       "<div>\n",
       "<style scoped>\n",
       "    .dataframe tbody tr th:only-of-type {\n",
       "        vertical-align: middle;\n",
       "    }\n",
       "\n",
       "    .dataframe tbody tr th {\n",
       "        vertical-align: top;\n",
       "    }\n",
       "\n",
       "    .dataframe thead th {\n",
       "        text-align: right;\n",
       "    }\n",
       "</style>\n",
       "<table border=\"1\" class=\"dataframe\">\n",
       "  <thead>\n",
       "    <tr style=\"text-align: right;\">\n",
       "      <th></th>\n",
       "      <th>customer_no</th>\n",
       "      <th>location</th>\n",
       "      <th>after</th>\n",
       "      <th>before</th>\n",
       "    </tr>\n",
       "    <tr>\n",
       "      <th>timestamp</th>\n",
       "      <th></th>\n",
       "      <th></th>\n",
       "      <th></th>\n",
       "      <th></th>\n",
       "    </tr>\n",
       "  </thead>\n",
       "  <tbody>\n",
       "    <tr>\n",
       "      <th>2019-09-04 07:00:00</th>\n",
       "      <td>2</td>\n",
       "      <td>dairy</td>\n",
       "      <td>dairy</td>\n",
       "      <td>NaN</td>\n",
       "    </tr>\n",
       "    <tr>\n",
       "      <th>2019-09-04 07:05:00</th>\n",
       "      <td>2</td>\n",
       "      <td>spices</td>\n",
       "      <td>spices</td>\n",
       "      <td>dairy</td>\n",
       "    </tr>\n",
       "    <tr>\n",
       "      <th>2019-09-04 07:06:00</th>\n",
       "      <td>2</td>\n",
       "      <td>checkout</td>\n",
       "      <td>checkout</td>\n",
       "      <td>spices</td>\n",
       "    </tr>\n",
       "  </tbody>\n",
       "</table>\n",
       "</div>"
      ],
      "text/plain": [
       "                     customer_no  location     after  before\n",
       "timestamp                                                   \n",
       "2019-09-04 07:00:00            2     dairy     dairy     NaN\n",
       "2019-09-04 07:05:00            2    spices    spices   dairy\n",
       "2019-09-04 07:06:00            2  checkout  checkout  spices"
      ]
     },
     "execution_count": 126,
     "metadata": {},
     "output_type": "execute_result"
    }
   ],
   "source": [
    "cust_2.head()"
   ]
  },
  {
   "cell_type": "code",
   "execution_count": 128,
   "id": "9e769ca8",
   "metadata": {},
   "outputs": [
    {
     "data": {
      "text/html": [
       "<div>\n",
       "<style scoped>\n",
       "    .dataframe tbody tr th:only-of-type {\n",
       "        vertical-align: middle;\n",
       "    }\n",
       "\n",
       "    .dataframe tbody tr th {\n",
       "        vertical-align: top;\n",
       "    }\n",
       "\n",
       "    .dataframe thead th {\n",
       "        text-align: right;\n",
       "    }\n",
       "</style>\n",
       "<table border=\"1\" class=\"dataframe\">\n",
       "  <thead>\n",
       "    <tr style=\"text-align: right;\">\n",
       "      <th>before</th>\n",
       "      <th>dairy</th>\n",
       "      <th>spices</th>\n",
       "    </tr>\n",
       "    <tr>\n",
       "      <th>after</th>\n",
       "      <th></th>\n",
       "      <th></th>\n",
       "    </tr>\n",
       "  </thead>\n",
       "  <tbody>\n",
       "    <tr>\n",
       "      <th>checkout</th>\n",
       "      <td>0</td>\n",
       "      <td>1</td>\n",
       "    </tr>\n",
       "    <tr>\n",
       "      <th>spices</th>\n",
       "      <td>1</td>\n",
       "      <td>0</td>\n",
       "    </tr>\n",
       "  </tbody>\n",
       "</table>\n",
       "</div>"
      ],
      "text/plain": [
       "before    dairy  spices\n",
       "after                  \n",
       "checkout      0       1\n",
       "spices        1       0"
      ]
     },
     "execution_count": 128,
     "metadata": {},
     "output_type": "execute_result"
    }
   ],
   "source": [
    "pd.crosstab(cust_2['after'], cust_2['before'])#,normalize=0)"
   ]
  },
  {
   "cell_type": "code",
   "execution_count": null,
   "id": "423b6ab5",
   "metadata": {},
   "outputs": [],
   "source": []
  },
  {
   "cell_type": "code",
   "execution_count": 64,
   "id": "afa45ba0",
   "metadata": {},
   "outputs": [
    {
     "data": {
      "text/html": [
       "<div>\n",
       "<style scoped>\n",
       "    .dataframe tbody tr th:only-of-type {\n",
       "        vertical-align: middle;\n",
       "    }\n",
       "\n",
       "    .dataframe tbody tr th {\n",
       "        vertical-align: top;\n",
       "    }\n",
       "\n",
       "    .dataframe thead th {\n",
       "        text-align: right;\n",
       "    }\n",
       "</style>\n",
       "<table border=\"1\" class=\"dataframe\">\n",
       "  <thead>\n",
       "    <tr style=\"text-align: right;\">\n",
       "      <th></th>\n",
       "      <th>timestamp</th>\n",
       "      <th>customer_no</th>\n",
       "      <th>location</th>\n",
       "    </tr>\n",
       "  </thead>\n",
       "  <tbody>\n",
       "    <tr>\n",
       "      <th>1</th>\n",
       "      <td>2019-09-03 07:02:00</td>\n",
       "      <td>2</td>\n",
       "      <td>drinks</td>\n",
       "    </tr>\n",
       "    <tr>\n",
       "      <th>34</th>\n",
       "      <td>2019-09-03 07:14:00</td>\n",
       "      <td>2</td>\n",
       "      <td>fruit</td>\n",
       "    </tr>\n",
       "    <tr>\n",
       "      <th>61</th>\n",
       "      <td>2019-09-03 07:17:00</td>\n",
       "      <td>2</td>\n",
       "      <td>checkout</td>\n",
       "    </tr>\n",
       "  </tbody>\n",
       "</table>\n",
       "</div>"
      ],
      "text/plain": [
       "             timestamp  customer_no  location\n",
       "1  2019-09-03 07:02:00            2    drinks\n",
       "34 2019-09-03 07:14:00            2     fruit\n",
       "61 2019-09-03 07:17:00            2  checkout"
      ]
     },
     "execution_count": 64,
     "metadata": {},
     "output_type": "execute_result"
    }
   ],
   "source": [
    "### Calculate the time each customer spent in the market\n",
    "## Time of entrance\n",
    "## Time of Checkout \n",
    "## Diference \n",
    "\n",
    "tuesday[tuesday['customer_no'] == 2]\n"
   ]
  },
  {
   "cell_type": "code",
   "execution_count": 63,
   "id": "7edced34",
   "metadata": {},
   "outputs": [
    {
     "data": {
      "text/html": [
       "<div>\n",
       "<style scoped>\n",
       "    .dataframe tbody tr th:only-of-type {\n",
       "        vertical-align: middle;\n",
       "    }\n",
       "\n",
       "    .dataframe tbody tr th {\n",
       "        vertical-align: top;\n",
       "    }\n",
       "\n",
       "    .dataframe thead th {\n",
       "        text-align: right;\n",
       "    }\n",
       "</style>\n",
       "<table border=\"1\" class=\"dataframe\">\n",
       "  <thead>\n",
       "    <tr style=\"text-align: right;\">\n",
       "      <th></th>\n",
       "      <th>timestamp</th>\n",
       "      <th>location</th>\n",
       "    </tr>\n",
       "    <tr>\n",
       "      <th>customer_no</th>\n",
       "      <th></th>\n",
       "      <th></th>\n",
       "    </tr>\n",
       "  </thead>\n",
       "  <tbody>\n",
       "    <tr>\n",
       "      <th>1411</th>\n",
       "      <td>2019-09-03 21:29:00</td>\n",
       "      <td>dairy</td>\n",
       "    </tr>\n",
       "    <tr>\n",
       "      <th>1422</th>\n",
       "      <td>2019-09-03 21:46:00</td>\n",
       "      <td>dairy</td>\n",
       "    </tr>\n",
       "  </tbody>\n",
       "</table>\n",
       "</div>"
      ],
      "text/plain": [
       "                      timestamp location\n",
       "customer_no                             \n",
       "1411        2019-09-03 21:29:00    dairy\n",
       "1422        2019-09-03 21:46:00    dairy"
      ]
     },
     "execution_count": 63,
     "metadata": {},
     "output_type": "execute_result"
    }
   ],
   "source": [
    "min_gb = tuesday.groupby('customer_no').min()\n",
    "min_gb[min_gb['location'] != 'checkout']\n"
   ]
  },
  {
   "cell_type": "code",
   "execution_count": 1,
   "id": "167d5da0",
   "metadata": {},
   "outputs": [
    {
     "ename": "NameError",
     "evalue": "name 'tuesday' is not defined",
     "output_type": "error",
     "traceback": [
      "\u001b[0;31m---------------------------------------------------------------------------\u001b[0m",
      "\u001b[0;31mNameError\u001b[0m                                 Traceback (most recent call last)",
      "\u001b[0;32m<ipython-input-1-35ef997b0d71>\u001b[0m in \u001b[0;36m<module>\u001b[0;34m\u001b[0m\n\u001b[0;32m----> 1\u001b[0;31m \u001b[0mmin_gb\u001b[0m \u001b[0;34m=\u001b[0m \u001b[0mtuesday\u001b[0m\u001b[0;34m.\u001b[0m\u001b[0mgroupby\u001b[0m\u001b[0;34m(\u001b[0m\u001b[0;34m[\u001b[0m\u001b[0;34m'customer_no'\u001b[0m\u001b[0;34m,\u001b[0m\u001b[0;34m'location'\u001b[0m\u001b[0;34m]\u001b[0m\u001b[0;34m)\u001b[0m\u001b[0;34m.\u001b[0m\u001b[0mmin\u001b[0m\u001b[0;34m(\u001b[0m\u001b[0;34m)\u001b[0m\u001b[0;34m\u001b[0m\u001b[0;34m\u001b[0m\u001b[0m\n\u001b[0m",
      "\u001b[0;31mNameError\u001b[0m: name 'tuesday' is not defined"
     ]
    }
   ],
   "source": [
    "min_gb = tuesday.groupby(['customer_no','location']).min()"
   ]
  },
  {
   "cell_type": "code",
   "execution_count": 62,
   "id": "25d2ca0e",
   "metadata": {},
   "outputs": [
    {
     "data": {
      "text/html": [
       "<div>\n",
       "<style scoped>\n",
       "    .dataframe tbody tr th:only-of-type {\n",
       "        vertical-align: middle;\n",
       "    }\n",
       "\n",
       "    .dataframe tbody tr th {\n",
       "        vertical-align: top;\n",
       "    }\n",
       "\n",
       "    .dataframe thead th {\n",
       "        text-align: right;\n",
       "    }\n",
       "</style>\n",
       "<table border=\"1\" class=\"dataframe\">\n",
       "  <thead>\n",
       "    <tr style=\"text-align: right;\">\n",
       "      <th></th>\n",
       "      <th>timestamp</th>\n",
       "      <th>location</th>\n",
       "    </tr>\n",
       "    <tr>\n",
       "      <th>customer_no</th>\n",
       "      <th></th>\n",
       "      <th></th>\n",
       "    </tr>\n",
       "  </thead>\n",
       "  <tbody>\n",
       "    <tr>\n",
       "      <th>1</th>\n",
       "      <td>2019-09-03 07:12:00</td>\n",
       "      <td>fruit</td>\n",
       "    </tr>\n",
       "    <tr>\n",
       "      <th>2</th>\n",
       "      <td>2019-09-03 07:17:00</td>\n",
       "      <td>fruit</td>\n",
       "    </tr>\n",
       "    <tr>\n",
       "      <th>3</th>\n",
       "      <td>2019-09-03 07:10:00</td>\n",
       "      <td>dairy</td>\n",
       "    </tr>\n",
       "    <tr>\n",
       "      <th>4</th>\n",
       "      <td>2019-09-03 07:12:00</td>\n",
       "      <td>spices</td>\n",
       "    </tr>\n",
       "    <tr>\n",
       "      <th>5</th>\n",
       "      <td>2019-09-03 07:09:00</td>\n",
       "      <td>dairy</td>\n",
       "    </tr>\n",
       "    <tr>\n",
       "      <th>...</th>\n",
       "      <td>...</td>\n",
       "      <td>...</td>\n",
       "    </tr>\n",
       "    <tr>\n",
       "      <th>1418</th>\n",
       "      <td>2019-09-03 21:43:00</td>\n",
       "      <td>drinks</td>\n",
       "    </tr>\n",
       "    <tr>\n",
       "      <th>1419</th>\n",
       "      <td>2019-09-03 21:43:00</td>\n",
       "      <td>fruit</td>\n",
       "    </tr>\n",
       "    <tr>\n",
       "      <th>1420</th>\n",
       "      <td>2019-09-03 21:46:00</td>\n",
       "      <td>drinks</td>\n",
       "    </tr>\n",
       "    <tr>\n",
       "      <th>1421</th>\n",
       "      <td>2019-09-03 21:48:00</td>\n",
       "      <td>fruit</td>\n",
       "    </tr>\n",
       "    <tr>\n",
       "      <th>1422</th>\n",
       "      <td>2019-09-03 21:47:00</td>\n",
       "      <td>spices</td>\n",
       "    </tr>\n",
       "  </tbody>\n",
       "</table>\n",
       "<p>1422 rows × 2 columns</p>\n",
       "</div>"
      ],
      "text/plain": [
       "                      timestamp location\n",
       "customer_no                             \n",
       "1           2019-09-03 07:12:00    fruit\n",
       "2           2019-09-03 07:17:00    fruit\n",
       "3           2019-09-03 07:10:00    dairy\n",
       "4           2019-09-03 07:12:00   spices\n",
       "5           2019-09-03 07:09:00    dairy\n",
       "...                         ...      ...\n",
       "1418        2019-09-03 21:43:00   drinks\n",
       "1419        2019-09-03 21:43:00    fruit\n",
       "1420        2019-09-03 21:46:00   drinks\n",
       "1421        2019-09-03 21:48:00    fruit\n",
       "1422        2019-09-03 21:47:00   spices\n",
       "\n",
       "[1422 rows x 2 columns]"
      ]
     },
     "execution_count": 62,
     "metadata": {},
     "output_type": "execute_result"
    }
   ],
   "source": [
    "max_gb = tuesday.groupby('customer_no').max()\n",
    "max_gb[max_gb['location'] != 'checkout']"
   ]
  },
  {
   "cell_type": "code",
   "execution_count": 31,
   "id": "6750b6a6",
   "metadata": {},
   "outputs": [
    {
     "data": {
      "text/html": [
       "<div>\n",
       "<style scoped>\n",
       "    .dataframe tbody tr th:only-of-type {\n",
       "        vertical-align: middle;\n",
       "    }\n",
       "\n",
       "    .dataframe tbody tr th {\n",
       "        vertical-align: top;\n",
       "    }\n",
       "\n",
       "    .dataframe thead th {\n",
       "        text-align: right;\n",
       "    }\n",
       "</style>\n",
       "<table border=\"1\" class=\"dataframe\">\n",
       "  <thead>\n",
       "    <tr style=\"text-align: right;\">\n",
       "      <th></th>\n",
       "      <th>timestamp_x</th>\n",
       "      <th>location_x</th>\n",
       "      <th>timestamp_y</th>\n",
       "      <th>location_y</th>\n",
       "    </tr>\n",
       "    <tr>\n",
       "      <th>customer_no</th>\n",
       "      <th></th>\n",
       "      <th></th>\n",
       "      <th></th>\n",
       "      <th></th>\n",
       "    </tr>\n",
       "  </thead>\n",
       "  <tbody>\n",
       "    <tr>\n",
       "      <th>1</th>\n",
       "      <td>2019-09-03 07:02:00</td>\n",
       "      <td>checkout</td>\n",
       "      <td>2019-09-03 07:12:00</td>\n",
       "      <td>fruit</td>\n",
       "    </tr>\n",
       "    <tr>\n",
       "      <th>2</th>\n",
       "      <td>2019-09-03 07:02:00</td>\n",
       "      <td>checkout</td>\n",
       "      <td>2019-09-03 07:17:00</td>\n",
       "      <td>fruit</td>\n",
       "    </tr>\n",
       "    <tr>\n",
       "      <th>3</th>\n",
       "      <td>2019-09-03 07:03:00</td>\n",
       "      <td>checkout</td>\n",
       "      <td>2019-09-03 07:10:00</td>\n",
       "      <td>dairy</td>\n",
       "    </tr>\n",
       "    <tr>\n",
       "      <th>4</th>\n",
       "      <td>2019-09-03 07:06:00</td>\n",
       "      <td>checkout</td>\n",
       "      <td>2019-09-03 07:12:00</td>\n",
       "      <td>spices</td>\n",
       "    </tr>\n",
       "    <tr>\n",
       "      <th>5</th>\n",
       "      <td>2019-09-03 07:06:00</td>\n",
       "      <td>checkout</td>\n",
       "      <td>2019-09-03 07:09:00</td>\n",
       "      <td>dairy</td>\n",
       "    </tr>\n",
       "  </tbody>\n",
       "</table>\n",
       "</div>"
      ],
      "text/plain": [
       "                    timestamp_x location_x         timestamp_y location_y\n",
       "customer_no                                                              \n",
       "1           2019-09-03 07:02:00   checkout 2019-09-03 07:12:00      fruit\n",
       "2           2019-09-03 07:02:00   checkout 2019-09-03 07:17:00      fruit\n",
       "3           2019-09-03 07:03:00   checkout 2019-09-03 07:10:00      dairy\n",
       "4           2019-09-03 07:06:00   checkout 2019-09-03 07:12:00     spices\n",
       "5           2019-09-03 07:06:00   checkout 2019-09-03 07:09:00      dairy"
      ]
     },
     "execution_count": 31,
     "metadata": {},
     "output_type": "execute_result"
    }
   ],
   "source": [
    "df = min_gb.merge(max_gb,how='left', on='customer_no')\n",
    "#df['duration'] = timestamp_y - timestamp_x\n",
    "df.head()"
   ]
  },
  {
   "cell_type": "code",
   "execution_count": 36,
   "id": "8d0f8912",
   "metadata": {},
   "outputs": [
    {
     "data": {
      "text/html": [
       "<div>\n",
       "<style scoped>\n",
       "    .dataframe tbody tr th:only-of-type {\n",
       "        vertical-align: middle;\n",
       "    }\n",
       "\n",
       "    .dataframe tbody tr th {\n",
       "        vertical-align: top;\n",
       "    }\n",
       "\n",
       "    .dataframe thead th {\n",
       "        text-align: right;\n",
       "    }\n",
       "</style>\n",
       "<table border=\"1\" class=\"dataframe\">\n",
       "  <thead>\n",
       "    <tr style=\"text-align: right;\">\n",
       "      <th></th>\n",
       "      <th>timestamp_x</th>\n",
       "      <th>location_x</th>\n",
       "      <th>timestamp_y</th>\n",
       "      <th>location_y</th>\n",
       "      <th>duration</th>\n",
       "    </tr>\n",
       "    <tr>\n",
       "      <th>customer_no</th>\n",
       "      <th></th>\n",
       "      <th></th>\n",
       "      <th></th>\n",
       "      <th></th>\n",
       "      <th></th>\n",
       "    </tr>\n",
       "  </thead>\n",
       "  <tbody>\n",
       "    <tr>\n",
       "      <th>1</th>\n",
       "      <td>2019-09-03 07:02:00</td>\n",
       "      <td>checkout</td>\n",
       "      <td>2019-09-03 07:12:00</td>\n",
       "      <td>fruit</td>\n",
       "      <td>0 days 00:10:00</td>\n",
       "    </tr>\n",
       "    <tr>\n",
       "      <th>2</th>\n",
       "      <td>2019-09-03 07:02:00</td>\n",
       "      <td>checkout</td>\n",
       "      <td>2019-09-03 07:17:00</td>\n",
       "      <td>fruit</td>\n",
       "      <td>0 days 00:15:00</td>\n",
       "    </tr>\n",
       "    <tr>\n",
       "      <th>3</th>\n",
       "      <td>2019-09-03 07:03:00</td>\n",
       "      <td>checkout</td>\n",
       "      <td>2019-09-03 07:10:00</td>\n",
       "      <td>dairy</td>\n",
       "      <td>0 days 00:07:00</td>\n",
       "    </tr>\n",
       "    <tr>\n",
       "      <th>4</th>\n",
       "      <td>2019-09-03 07:06:00</td>\n",
       "      <td>checkout</td>\n",
       "      <td>2019-09-03 07:12:00</td>\n",
       "      <td>spices</td>\n",
       "      <td>0 days 00:06:00</td>\n",
       "    </tr>\n",
       "    <tr>\n",
       "      <th>5</th>\n",
       "      <td>2019-09-03 07:06:00</td>\n",
       "      <td>checkout</td>\n",
       "      <td>2019-09-03 07:09:00</td>\n",
       "      <td>dairy</td>\n",
       "      <td>0 days 00:03:00</td>\n",
       "    </tr>\n",
       "  </tbody>\n",
       "</table>\n",
       "</div>"
      ],
      "text/plain": [
       "                    timestamp_x location_x         timestamp_y location_y  \\\n",
       "customer_no                                                                 \n",
       "1           2019-09-03 07:02:00   checkout 2019-09-03 07:12:00      fruit   \n",
       "2           2019-09-03 07:02:00   checkout 2019-09-03 07:17:00      fruit   \n",
       "3           2019-09-03 07:03:00   checkout 2019-09-03 07:10:00      dairy   \n",
       "4           2019-09-03 07:06:00   checkout 2019-09-03 07:12:00     spices   \n",
       "5           2019-09-03 07:06:00   checkout 2019-09-03 07:09:00      dairy   \n",
       "\n",
       "                   duration  \n",
       "customer_no                  \n",
       "1           0 days 00:10:00  \n",
       "2           0 days 00:15:00  \n",
       "3           0 days 00:07:00  \n",
       "4           0 days 00:06:00  \n",
       "5           0 days 00:03:00  "
      ]
     },
     "execution_count": 36,
     "metadata": {},
     "output_type": "execute_result"
    }
   ],
   "source": [
    "df['duration'] = df['timestamp_y'] - df['timestamp_x']\n"
   ]
  },
  {
   "cell_type": "code",
   "execution_count": 40,
   "id": "c5b83f15",
   "metadata": {},
   "outputs": [
    {
     "data": {
      "text/html": [
       "<div>\n",
       "<style scoped>\n",
       "    .dataframe tbody tr th:only-of-type {\n",
       "        vertical-align: middle;\n",
       "    }\n",
       "\n",
       "    .dataframe tbody tr th {\n",
       "        vertical-align: top;\n",
       "    }\n",
       "\n",
       "    .dataframe thead th {\n",
       "        text-align: right;\n",
       "    }\n",
       "</style>\n",
       "<table border=\"1\" class=\"dataframe\">\n",
       "  <thead>\n",
       "    <tr style=\"text-align: right;\">\n",
       "      <th></th>\n",
       "      <th>duration</th>\n",
       "    </tr>\n",
       "  </thead>\n",
       "  <tbody>\n",
       "    <tr>\n",
       "      <th>count</th>\n",
       "      <td>1422</td>\n",
       "    </tr>\n",
       "    <tr>\n",
       "      <th>mean</th>\n",
       "      <td>0 days 00:06:07.130801687</td>\n",
       "    </tr>\n",
       "    <tr>\n",
       "      <th>std</th>\n",
       "      <td>0 days 00:05:39.683271018</td>\n",
       "    </tr>\n",
       "    <tr>\n",
       "      <th>min</th>\n",
       "      <td>0 days 00:01:00</td>\n",
       "    </tr>\n",
       "    <tr>\n",
       "      <th>25%</th>\n",
       "      <td>0 days 00:02:00</td>\n",
       "    </tr>\n",
       "    <tr>\n",
       "      <th>50%</th>\n",
       "      <td>0 days 00:04:00</td>\n",
       "    </tr>\n",
       "    <tr>\n",
       "      <th>75%</th>\n",
       "      <td>0 days 00:08:00</td>\n",
       "    </tr>\n",
       "    <tr>\n",
       "      <th>max</th>\n",
       "      <td>0 days 00:37:00</td>\n",
       "    </tr>\n",
       "  </tbody>\n",
       "</table>\n",
       "</div>"
      ],
      "text/plain": [
       "                        duration\n",
       "count                       1422\n",
       "mean   0 days 00:06:07.130801687\n",
       "std    0 days 00:05:39.683271018\n",
       "min              0 days 00:01:00\n",
       "25%              0 days 00:02:00\n",
       "50%              0 days 00:04:00\n",
       "75%              0 days 00:08:00\n",
       "max              0 days 00:37:00"
      ]
     },
     "execution_count": 40,
     "metadata": {},
     "output_type": "execute_result"
    }
   ],
   "source": [
    "df.describe()"
   ]
  },
  {
   "cell_type": "code",
   "execution_count": 47,
   "id": "91ed2461",
   "metadata": {},
   "outputs": [
    {
     "data": {
      "text/plain": [
       "customer_no\n",
       "1      0 days 00:10:00\n",
       "2      0 days 00:15:00\n",
       "3      0 days 00:07:00\n",
       "4      0 days 00:06:00\n",
       "5      0 days 00:03:00\n",
       "             ...      \n",
       "1418   0 days 00:06:00\n",
       "1419   0 days 00:01:00\n",
       "1420   0 days 00:03:00\n",
       "1421   0 days 00:02:00\n",
       "1422   0 days 00:01:00\n",
       "Name: duration, Length: 1422, dtype: timedelta64[ns]"
      ]
     },
     "execution_count": 47,
     "metadata": {},
     "output_type": "execute_result"
    }
   ],
   "source": [
    "s1 = pd.Series(df['duration'])\n",
    "s1"
   ]
  },
  {
   "cell_type": "code",
   "execution_count": 54,
   "id": "95d305ff",
   "metadata": {},
   "outputs": [
    {
     "data": {
      "text/html": [
       "<div>\n",
       "<style scoped>\n",
       "    .dataframe tbody tr th:only-of-type {\n",
       "        vertical-align: middle;\n",
       "    }\n",
       "\n",
       "    .dataframe tbody tr th {\n",
       "        vertical-align: top;\n",
       "    }\n",
       "\n",
       "    .dataframe thead th {\n",
       "        text-align: right;\n",
       "    }\n",
       "</style>\n",
       "<table border=\"1\" class=\"dataframe\">\n",
       "  <thead>\n",
       "    <tr style=\"text-align: right;\">\n",
       "      <th></th>\n",
       "      <th>timestamp_x</th>\n",
       "      <th>location_x</th>\n",
       "      <th>timestamp_y</th>\n",
       "      <th>location_y</th>\n",
       "      <th>duration</th>\n",
       "      <th>duration_min</th>\n",
       "    </tr>\n",
       "    <tr>\n",
       "      <th>customer_no</th>\n",
       "      <th></th>\n",
       "      <th></th>\n",
       "      <th></th>\n",
       "      <th></th>\n",
       "      <th></th>\n",
       "      <th></th>\n",
       "    </tr>\n",
       "  </thead>\n",
       "  <tbody>\n",
       "    <tr>\n",
       "      <th>1</th>\n",
       "      <td>2019-09-03 07:02:00</td>\n",
       "      <td>checkout</td>\n",
       "      <td>2019-09-03 07:12:00</td>\n",
       "      <td>fruit</td>\n",
       "      <td>0 days 00:10:00</td>\n",
       "      <td>10</td>\n",
       "    </tr>\n",
       "    <tr>\n",
       "      <th>2</th>\n",
       "      <td>2019-09-03 07:02:00</td>\n",
       "      <td>checkout</td>\n",
       "      <td>2019-09-03 07:17:00</td>\n",
       "      <td>fruit</td>\n",
       "      <td>0 days 00:15:00</td>\n",
       "      <td>15</td>\n",
       "    </tr>\n",
       "    <tr>\n",
       "      <th>3</th>\n",
       "      <td>2019-09-03 07:03:00</td>\n",
       "      <td>checkout</td>\n",
       "      <td>2019-09-03 07:10:00</td>\n",
       "      <td>dairy</td>\n",
       "      <td>0 days 00:07:00</td>\n",
       "      <td>7</td>\n",
       "    </tr>\n",
       "    <tr>\n",
       "      <th>4</th>\n",
       "      <td>2019-09-03 07:06:00</td>\n",
       "      <td>checkout</td>\n",
       "      <td>2019-09-03 07:12:00</td>\n",
       "      <td>spices</td>\n",
       "      <td>0 days 00:06:00</td>\n",
       "      <td>6</td>\n",
       "    </tr>\n",
       "    <tr>\n",
       "      <th>5</th>\n",
       "      <td>2019-09-03 07:06:00</td>\n",
       "      <td>checkout</td>\n",
       "      <td>2019-09-03 07:09:00</td>\n",
       "      <td>dairy</td>\n",
       "      <td>0 days 00:03:00</td>\n",
       "      <td>3</td>\n",
       "    </tr>\n",
       "  </tbody>\n",
       "</table>\n",
       "</div>"
      ],
      "text/plain": [
       "                    timestamp_x location_x         timestamp_y location_y  \\\n",
       "customer_no                                                                 \n",
       "1           2019-09-03 07:02:00   checkout 2019-09-03 07:12:00      fruit   \n",
       "2           2019-09-03 07:02:00   checkout 2019-09-03 07:17:00      fruit   \n",
       "3           2019-09-03 07:03:00   checkout 2019-09-03 07:10:00      dairy   \n",
       "4           2019-09-03 07:06:00   checkout 2019-09-03 07:12:00     spices   \n",
       "5           2019-09-03 07:06:00   checkout 2019-09-03 07:09:00      dairy   \n",
       "\n",
       "                   duration  duration_min  \n",
       "customer_no                                \n",
       "1           0 days 00:10:00            10  \n",
       "2           0 days 00:15:00            15  \n",
       "3           0 days 00:07:00             7  \n",
       "4           0 days 00:06:00             6  \n",
       "5           0 days 00:03:00             3  "
      ]
     },
     "execution_count": 54,
     "metadata": {},
     "output_type": "execute_result"
    }
   ],
   "source": [
    "df['duration_min'] = df['duration'].dt.components['minutes']\n",
    "df.head()"
   ]
  },
  {
   "cell_type": "code",
   "execution_count": 55,
   "id": "4c62d386",
   "metadata": {},
   "outputs": [
    {
     "data": {
      "text/html": [
       "<div>\n",
       "<style scoped>\n",
       "    .dataframe tbody tr th:only-of-type {\n",
       "        vertical-align: middle;\n",
       "    }\n",
       "\n",
       "    .dataframe tbody tr th {\n",
       "        vertical-align: top;\n",
       "    }\n",
       "\n",
       "    .dataframe thead th {\n",
       "        text-align: right;\n",
       "    }\n",
       "</style>\n",
       "<table border=\"1\" class=\"dataframe\">\n",
       "  <thead>\n",
       "    <tr style=\"text-align: right;\">\n",
       "      <th></th>\n",
       "      <th>duration</th>\n",
       "      <th>duration_min</th>\n",
       "    </tr>\n",
       "  </thead>\n",
       "  <tbody>\n",
       "    <tr>\n",
       "      <th>count</th>\n",
       "      <td>1422</td>\n",
       "      <td>1422.000000</td>\n",
       "    </tr>\n",
       "    <tr>\n",
       "      <th>mean</th>\n",
       "      <td>0 days 00:06:07.130801687</td>\n",
       "      <td>6.118847</td>\n",
       "    </tr>\n",
       "    <tr>\n",
       "      <th>std</th>\n",
       "      <td>0 days 00:05:39.683271018</td>\n",
       "      <td>5.661388</td>\n",
       "    </tr>\n",
       "    <tr>\n",
       "      <th>min</th>\n",
       "      <td>0 days 00:01:00</td>\n",
       "      <td>1.000000</td>\n",
       "    </tr>\n",
       "    <tr>\n",
       "      <th>25%</th>\n",
       "      <td>0 days 00:02:00</td>\n",
       "      <td>2.000000</td>\n",
       "    </tr>\n",
       "    <tr>\n",
       "      <th>50%</th>\n",
       "      <td>0 days 00:04:00</td>\n",
       "      <td>4.000000</td>\n",
       "    </tr>\n",
       "    <tr>\n",
       "      <th>75%</th>\n",
       "      <td>0 days 00:08:00</td>\n",
       "      <td>8.000000</td>\n",
       "    </tr>\n",
       "    <tr>\n",
       "      <th>max</th>\n",
       "      <td>0 days 00:37:00</td>\n",
       "      <td>37.000000</td>\n",
       "    </tr>\n",
       "  </tbody>\n",
       "</table>\n",
       "</div>"
      ],
      "text/plain": [
       "                        duration  duration_min\n",
       "count                       1422   1422.000000\n",
       "mean   0 days 00:06:07.130801687      6.118847\n",
       "std    0 days 00:05:39.683271018      5.661388\n",
       "min              0 days 00:01:00      1.000000\n",
       "25%              0 days 00:02:00      2.000000\n",
       "50%              0 days 00:04:00      4.000000\n",
       "75%              0 days 00:08:00      8.000000\n",
       "max              0 days 00:37:00     37.000000"
      ]
     },
     "execution_count": 55,
     "metadata": {},
     "output_type": "execute_result"
    }
   ],
   "source": [
    "df.describe()"
   ]
  },
  {
   "cell_type": "code",
   "execution_count": null,
   "id": "19e2a30c",
   "metadata": {},
   "outputs": [],
   "source": []
  },
  {
   "cell_type": "code",
   "execution_count": 202,
   "id": "176ec950",
   "metadata": {},
   "outputs": [
    {
     "data": {
      "text/html": [
       "<div>\n",
       "<style scoped>\n",
       "    .dataframe tbody tr th:only-of-type {\n",
       "        vertical-align: middle;\n",
       "    }\n",
       "\n",
       "    .dataframe tbody tr th {\n",
       "        vertical-align: top;\n",
       "    }\n",
       "\n",
       "    .dataframe thead th {\n",
       "        text-align: right;\n",
       "    }\n",
       "</style>\n",
       "<table border=\"1\" class=\"dataframe\">\n",
       "  <thead>\n",
       "    <tr style=\"text-align: right;\">\n",
       "      <th></th>\n",
       "      <th>timestamp</th>\n",
       "      <th>customer_no</th>\n",
       "      <th>location</th>\n",
       "      <th>first_location</th>\n",
       "      <th>hour</th>\n",
       "      <th>minute</th>\n",
       "      <th>time_order</th>\n",
       "    </tr>\n",
       "  </thead>\n",
       "  <tbody>\n",
       "    <tr>\n",
       "      <th>0</th>\n",
       "      <td>2019-09-03 07:02:00</td>\n",
       "      <td>1</td>\n",
       "      <td>fruit</td>\n",
       "      <td>0</td>\n",
       "      <td>7</td>\n",
       "      <td>2</td>\n",
       "      <td>0        7\\n3        7\\n25       7\\n1        7...</td>\n",
       "    </tr>\n",
       "    <tr>\n",
       "      <th>3</th>\n",
       "      <td>2019-09-03 07:05:00</td>\n",
       "      <td>1</td>\n",
       "      <td>drinks</td>\n",
       "      <td>fruit</td>\n",
       "      <td>7</td>\n",
       "      <td>5</td>\n",
       "      <td>0        7\\n3        7\\n25       7\\n1        7...</td>\n",
       "    </tr>\n",
       "    <tr>\n",
       "      <th>25</th>\n",
       "      <td>2019-09-03 07:12:00</td>\n",
       "      <td>1</td>\n",
       "      <td>checkout</td>\n",
       "      <td>drinks</td>\n",
       "      <td>7</td>\n",
       "      <td>12</td>\n",
       "      <td>0        7\\n3        7\\n25       7\\n1        7...</td>\n",
       "    </tr>\n",
       "    <tr>\n",
       "      <th>1</th>\n",
       "      <td>2019-09-03 07:02:00</td>\n",
       "      <td>2</td>\n",
       "      <td>drinks</td>\n",
       "      <td>0</td>\n",
       "      <td>7</td>\n",
       "      <td>2</td>\n",
       "      <td>0        7\\n3        7\\n25       7\\n1        7...</td>\n",
       "    </tr>\n",
       "    <tr>\n",
       "      <th>34</th>\n",
       "      <td>2019-09-03 07:14:00</td>\n",
       "      <td>2</td>\n",
       "      <td>fruit</td>\n",
       "      <td>drinks</td>\n",
       "      <td>7</td>\n",
       "      <td>14</td>\n",
       "      <td>0        7\\n3        7\\n25       7\\n1        7...</td>\n",
       "    </tr>\n",
       "    <tr>\n",
       "      <th>...</th>\n",
       "      <td>...</td>\n",
       "      <td>...</td>\n",
       "      <td>...</td>\n",
       "      <td>...</td>\n",
       "      <td>...</td>\n",
       "      <td>...</td>\n",
       "      <td>...</td>\n",
       "    </tr>\n",
       "    <tr>\n",
       "      <th>312</th>\n",
       "      <td>2019-09-03 07:57:00</td>\n",
       "      <td>101</td>\n",
       "      <td>drinks</td>\n",
       "      <td>0</td>\n",
       "      <td>7</td>\n",
       "      <td>57</td>\n",
       "      <td>0        7\\n3        7\\n25       7\\n1        7...</td>\n",
       "    </tr>\n",
       "    <tr>\n",
       "      <th>313</th>\n",
       "      <td>2019-09-03 07:57:00</td>\n",
       "      <td>102</td>\n",
       "      <td>drinks</td>\n",
       "      <td>0</td>\n",
       "      <td>7</td>\n",
       "      <td>57</td>\n",
       "      <td>0        7\\n3        7\\n25       7\\n1        7...</td>\n",
       "    </tr>\n",
       "    <tr>\n",
       "      <th>325</th>\n",
       "      <td>2019-09-03 07:59:00</td>\n",
       "      <td>102</td>\n",
       "      <td>checkout</td>\n",
       "      <td>drinks</td>\n",
       "      <td>7</td>\n",
       "      <td>59</td>\n",
       "      <td>0        7\\n3        7\\n25       7\\n1        7...</td>\n",
       "    </tr>\n",
       "    <tr>\n",
       "      <th>326</th>\n",
       "      <td>2019-09-03 07:59:00</td>\n",
       "      <td>103</td>\n",
       "      <td>dairy</td>\n",
       "      <td>0</td>\n",
       "      <td>7</td>\n",
       "      <td>59</td>\n",
       "      <td>0        7\\n3        7\\n25       7\\n1        7...</td>\n",
       "    </tr>\n",
       "    <tr>\n",
       "      <th>327</th>\n",
       "      <td>2019-09-03 07:59:00</td>\n",
       "      <td>104</td>\n",
       "      <td>spices</td>\n",
       "      <td>0</td>\n",
       "      <td>7</td>\n",
       "      <td>59</td>\n",
       "      <td>0        7\\n3        7\\n25       7\\n1        7...</td>\n",
       "    </tr>\n",
       "  </tbody>\n",
       "</table>\n",
       "<p>328 rows × 7 columns</p>\n",
       "</div>"
      ],
      "text/plain": [
       "              timestamp  customer_no  location first_location  hour  minute  \\\n",
       "0   2019-09-03 07:02:00            1     fruit              0     7       2   \n",
       "3   2019-09-03 07:05:00            1    drinks          fruit     7       5   \n",
       "25  2019-09-03 07:12:00            1  checkout         drinks     7      12   \n",
       "1   2019-09-03 07:02:00            2    drinks              0     7       2   \n",
       "34  2019-09-03 07:14:00            2     fruit         drinks     7      14   \n",
       "..                  ...          ...       ...            ...   ...     ...   \n",
       "312 2019-09-03 07:57:00          101    drinks              0     7      57   \n",
       "313 2019-09-03 07:57:00          102    drinks              0     7      57   \n",
       "325 2019-09-03 07:59:00          102  checkout         drinks     7      59   \n",
       "326 2019-09-03 07:59:00          103     dairy              0     7      59   \n",
       "327 2019-09-03 07:59:00          104    spices              0     7      59   \n",
       "\n",
       "                                            time_order  \n",
       "0    0        7\\n3        7\\n25       7\\n1        7...  \n",
       "3    0        7\\n3        7\\n25       7\\n1        7...  \n",
       "25   0        7\\n3        7\\n25       7\\n1        7...  \n",
       "1    0        7\\n3        7\\n25       7\\n1        7...  \n",
       "34   0        7\\n3        7\\n25       7\\n1        7...  \n",
       "..                                                 ...  \n",
       "312  0        7\\n3        7\\n25       7\\n1        7...  \n",
       "313  0        7\\n3        7\\n25       7\\n1        7...  \n",
       "325  0        7\\n3        7\\n25       7\\n1        7...  \n",
       "326  0        7\\n3        7\\n25       7\\n1        7...  \n",
       "327  0        7\\n3        7\\n25       7\\n1        7...  \n",
       "\n",
       "[328 rows x 7 columns]"
      ]
     },
     "execution_count": 202,
     "metadata": {},
     "output_type": "execute_result"
    }
   ],
   "source": [
    "### Calculate the total of customers in the supermarket over time \n",
    "tuesday['hour'] = tuesday['timestamp'].dt.hour\n",
    "tuesday['minute'] = tuesday['timestamp'].dt.minute\n",
    "tuesday['time_order']= \n",
    "tuesday[tuesday['hour']==7]"
   ]
  },
  {
   "cell_type": "code",
   "execution_count": 18,
   "id": "a427c8e7",
   "metadata": {},
   "outputs": [
    {
     "data": {
      "text/plain": [
       "hour\n",
       "7     328\n",
       "8     463\n",
       "9     262\n",
       "10    267\n",
       "11    133\n",
       "12    199\n",
       "13    330\n",
       "14    343\n",
       "15    223\n",
       "16    405\n",
       "17    366\n",
       "18    444\n",
       "19    437\n",
       "20    320\n",
       "21    194\n",
       "Name: customer_no, dtype: int64"
      ]
     },
     "execution_count": 18,
     "metadata": {},
     "output_type": "execute_result"
    }
   ],
   "source": [
    "tuesday['customer_no'].groupby(tuesday['hour']).count()"
   ]
  },
  {
   "cell_type": "code",
   "execution_count": 36,
   "id": "3613e080",
   "metadata": {},
   "outputs": [
    {
     "data": {
      "text/plain": [
       "<AxesSubplot:xlabel='hour', ylabel='Count'>"
      ]
     },
     "execution_count": 36,
     "metadata": {},
     "output_type": "execute_result"
    },
    {
     "data": {
      "image/png": "[encoded data removed]",
      "text/plain": [
       "<Figure size 576x432 with 1 Axes>"
      ]
     },
     "metadata": {},
     "output_type": "display_data"
    }
   ],
   "source": [
    "import seaborn as sns\n",
    "from matplotlib.pyplot import figure\n",
    "figure(figsize=(8, 6))\n",
    "sns.histplot(data=tuesday, x='hour')"
   ]
  },
  {
   "cell_type": "code",
   "execution_count": 195,
   "id": "ebcf22b9",
   "metadata": {},
   "outputs": [
    {
     "data": {
      "text/plain": [
       "<seaborn.axisgrid.FacetGrid at 0x7fc7aac06e50>"
      ]
     },
     "execution_count": 195,
     "metadata": {},
     "output_type": "execute_result"
    },
    {
     "data": {
      "image/png": "[encoded data removed]",
      "text/plain": [
       "<Figure size 1080x216 with 5 Axes>"
      ]
     },
     "metadata": {},
     "output_type": "display_data"
    }
   ],
   "source": [
    "import seaborn as sns\n",
    "sns.set_theme(style=\"darkgrid\")\n",
    "\n",
    "sns.displot(\n",
    "    tuesday, x='hour',col='location', col_wrap=5,\n",
    "    binwidth=1, height= 3, facet_kws=dict(margin_titles=True))"
   ]
  },
  {
   "cell_type": "code",
   "execution_count": 4,
   "id": "b929aae0",
   "metadata": {},
   "outputs": [
    {
     "data": {
      "text/html": [
       "<div>\n",
       "<style scoped>\n",
       "    .dataframe tbody tr th:only-of-type {\n",
       "        vertical-align: middle;\n",
       "    }\n",
       "\n",
       "    .dataframe tbody tr th {\n",
       "        vertical-align: top;\n",
       "    }\n",
       "\n",
       "    .dataframe thead th {\n",
       "        text-align: right;\n",
       "    }\n",
       "</style>\n",
       "<table border=\"1\" class=\"dataframe\">\n",
       "  <thead>\n",
       "    <tr style=\"text-align: right;\">\n",
       "      <th></th>\n",
       "      <th>timestamp</th>\n",
       "      <th>customer_no</th>\n",
       "      <th>location</th>\n",
       "    </tr>\n",
       "  </thead>\n",
       "  <tbody>\n",
       "    <tr>\n",
       "      <th>0</th>\n",
       "      <td>2019-09-03 07:02:00</td>\n",
       "      <td>1</td>\n",
       "      <td>fruit</td>\n",
       "    </tr>\n",
       "    <tr>\n",
       "      <th>1</th>\n",
       "      <td>2019-09-03 07:02:00</td>\n",
       "      <td>2</td>\n",
       "      <td>drinks</td>\n",
       "    </tr>\n",
       "    <tr>\n",
       "      <th>2</th>\n",
       "      <td>2019-09-03 07:03:00</td>\n",
       "      <td>3</td>\n",
       "      <td>dairy</td>\n",
       "    </tr>\n",
       "    <tr>\n",
       "      <th>3</th>\n",
       "      <td>2019-09-03 07:05:00</td>\n",
       "      <td>1</td>\n",
       "      <td>drinks</td>\n",
       "    </tr>\n",
       "    <tr>\n",
       "      <th>4</th>\n",
       "      <td>2019-09-03 07:06:00</td>\n",
       "      <td>4</td>\n",
       "      <td>dairy</td>\n",
       "    </tr>\n",
       "  </tbody>\n",
       "</table>\n",
       "</div>"
      ],
      "text/plain": [
       "            timestamp  customer_no location\n",
       "0 2019-09-03 07:02:00            1    fruit\n",
       "1 2019-09-03 07:02:00            2   drinks\n",
       "2 2019-09-03 07:03:00            3    dairy\n",
       "3 2019-09-03 07:05:00            1   drinks\n",
       "4 2019-09-03 07:06:00            4    dairy"
      ]
     },
     "execution_count": 4,
     "metadata": {},
     "output_type": "execute_result"
    }
   ],
   "source": [
    "#Calculate the total number of customers in each section over time\n",
    "\n",
    "tuesday.head()"
   ]
  },
  {
   "cell_type": "code",
   "execution_count": 11,
   "id": "dec580f2",
   "metadata": {},
   "outputs": [
    {
     "data": {
      "text/plain": [
       "timestamp\n",
       "2019-09-03 07:02:00    2\n",
       "2019-09-03 07:03:00    1\n",
       "2019-09-03 07:05:00    1\n",
       "2019-09-03 07:06:00    2\n",
       "2019-09-03 07:07:00    3\n",
       "                      ..\n",
       "2019-09-03 21:46:00    4\n",
       "2019-09-03 21:47:00    2\n",
       "2019-09-03 21:48:00    1\n",
       "2019-09-03 21:49:00    1\n",
       "2019-09-03 21:50:00    1\n",
       "Name: customer_no, Length: 861, dtype: int64"
      ]
     },
     "execution_count": 11,
     "metadata": {},
     "output_type": "execute_result"
    }
   ],
   "source": [
    "tuesday['customer_no'].groupby(tuesday['timestamp']).count()"
   ]
  },
  {
   "cell_type": "code",
   "execution_count": null,
   "id": "10cc3249",
   "metadata": {},
   "outputs": [],
   "source": [
    "#Display the number of customers at checkout over time"
   ]
  },
  {
   "cell_type": "code",
   "execution_count": null,
   "id": "242499a0",
   "metadata": {},
   "outputs": [],
   "source": [
    "## The checkout customers over time using time as index\n",
    "\n"
   ]
  },
  {
   "cell_type": "code",
   "execution_count": 42,
   "id": "a2896513",
   "metadata": {},
   "outputs": [
    {
     "data": {
      "text/html": [
       "<div>\n",
       "<style scoped>\n",
       "    .dataframe tbody tr th:only-of-type {\n",
       "        vertical-align: middle;\n",
       "    }\n",
       "\n",
       "    .dataframe tbody tr th {\n",
       "        vertical-align: top;\n",
       "    }\n",
       "\n",
       "    .dataframe thead th {\n",
       "        text-align: right;\n",
       "    }\n",
       "</style>\n",
       "<table border=\"1\" class=\"dataframe\">\n",
       "  <thead>\n",
       "    <tr style=\"text-align: right;\">\n",
       "      <th></th>\n",
       "      <th>timestamp</th>\n",
       "      <th>customer_no</th>\n",
       "      <th>location</th>\n",
       "      <th>hour</th>\n",
       "      <th>first_location</th>\n",
       "    </tr>\n",
       "  </thead>\n",
       "  <tbody>\n",
       "    <tr>\n",
       "      <th>0</th>\n",
       "      <td>2019-09-03 07:02:00</td>\n",
       "      <td>1</td>\n",
       "      <td>fruit</td>\n",
       "      <td>7</td>\n",
       "      <td>0</td>\n",
       "    </tr>\n",
       "    <tr>\n",
       "      <th>3</th>\n",
       "      <td>2019-09-03 07:05:00</td>\n",
       "      <td>1</td>\n",
       "      <td>drinks</td>\n",
       "      <td>7</td>\n",
       "      <td>fruit</td>\n",
       "    </tr>\n",
       "    <tr>\n",
       "      <th>25</th>\n",
       "      <td>2019-09-03 07:12:00</td>\n",
       "      <td>1</td>\n",
       "      <td>checkout</td>\n",
       "      <td>7</td>\n",
       "      <td>drinks</td>\n",
       "    </tr>\n",
       "    <tr>\n",
       "      <th>1</th>\n",
       "      <td>2019-09-03 07:02:00</td>\n",
       "      <td>2</td>\n",
       "      <td>drinks</td>\n",
       "      <td>7</td>\n",
       "      <td>checkout</td>\n",
       "    </tr>\n",
       "    <tr>\n",
       "      <th>34</th>\n",
       "      <td>2019-09-03 07:14:00</td>\n",
       "      <td>2</td>\n",
       "      <td>fruit</td>\n",
       "      <td>7</td>\n",
       "      <td>drinks</td>\n",
       "    </tr>\n",
       "  </tbody>\n",
       "</table>\n",
       "</div>"
      ],
      "text/plain": [
       "             timestamp  customer_no  location  hour first_location\n",
       "0  2019-09-03 07:02:00            1     fruit     7              0\n",
       "3  2019-09-03 07:05:00            1    drinks     7          fruit\n",
       "25 2019-09-03 07:12:00            1  checkout     7         drinks\n",
       "1  2019-09-03 07:02:00            2    drinks     7       checkout\n",
       "34 2019-09-03 07:14:00            2     fruit     7         drinks"
      ]
     },
     "execution_count": 42,
     "metadata": {},
     "output_type": "execute_result"
    }
   ],
   "source": [
    "## Tuesday probability matrix  For 1 customer \n",
    "\n",
    "tuesday = tuesday.sort_values(by=['customer_no','timestamp'])\n",
    "tuesday['first_location']= tuesday['location'].shift(periods=1)\n",
    "tuesday['first_location']= tuesday['first_location'].fillna(0)\n",
    "tuesday.head()\n"
   ]
  },
  {
   "cell_type": "code",
   "execution_count": 50,
   "id": "36ced8ae",
   "metadata": {},
   "outputs": [],
   "source": [
    "customer_1 = tuesday[tuesday['customer_no']== 1]\n",
    "customer_2 = tuesday[tuesday['customer_no']== 2]\n",
    "customer_3 = tuesday[tuesday['customer_no']== 3]"
   ]
  },
  {
   "cell_type": "code",
   "execution_count": 54,
   "id": "572ec85d",
   "metadata": {},
   "outputs": [],
   "source": [
    "tprob = pd.crosstab(tuesday['location'], tuesday['first_location'], normalize=0)\n",
    "tprob_c1 = pd.crosstab(customer_1['location'], customer_1['first_location'], normalize=0)\n",
    "tprob_c2 = pd.crosstab(customer_2['location'], customer_2['first_location'], normalize=0)\n",
    "tprob_c3 = pd.crosstab(customer_3['location'], customer_3['first_location'], normalize=0)"
   ]
  },
  {
   "cell_type": "code",
   "execution_count": 81,
   "id": "384a326a",
   "metadata": {},
   "outputs": [
    {
     "ename": "NameError",
     "evalue": "name 'tprob' is not defined",
     "output_type": "error",
     "traceback": [
      "\u001b[0;31m---------------------------------------------------------------------------\u001b[0m",
      "\u001b[0;31mNameError\u001b[0m                                 Traceback (most recent call last)",
      "\u001b[0;32m<ipython-input-81-a5fad31fcbe4>\u001b[0m in \u001b[0;36m<module>\u001b[0;34m\u001b[0m\n\u001b[1;32m      1\u001b[0m \u001b[0;31m#tprob = tprob.drop([0], axis=1)\u001b[0m\u001b[0;34m\u001b[0m\u001b[0;34m\u001b[0m\u001b[0;34m\u001b[0m\u001b[0m\n\u001b[0;32m----> 2\u001b[0;31m \u001b[0mtprob\u001b[0m\u001b[0;34m\u001b[0m\u001b[0;34m\u001b[0m\u001b[0m\n\u001b[0m",
      "\u001b[0;31mNameError\u001b[0m: name 'tprob' is not defined"
     ]
    }
   ],
   "source": [
    "#tprob = tprob.drop([0], axis=1)\n",
    "tprob"
   ]
  },
  {
   "cell_type": "code",
   "execution_count": 70,
   "id": "66dbd095",
   "metadata": {},
   "outputs": [
    {
     "data": {
      "text/plain": [
       "<AxesSubplot:xlabel='first_location', ylabel='location'>"
      ]
     },
     "execution_count": 70,
     "metadata": {},
     "output_type": "execute_result"
    },
    {
     "data": {
      "image/png": "[encoded data removed]",
      "text/plain": [
       "<Figure size 432x288 with 2 Axes>"
      ]
     },
     "metadata": {},
     "output_type": "display_data"
    }
   ],
   "source": [
    "sns.heatmap(data=tprob)"
   ]
  },
  {
   "cell_type": "code",
   "execution_count": 77,
   "id": "70eeadf1",
   "metadata": {},
   "outputs": [
    {
     "data": {
      "text/html": [
       "<div>\n",
       "<style scoped>\n",
       "    .dataframe tbody tr th:only-of-type {\n",
       "        vertical-align: middle;\n",
       "    }\n",
       "\n",
       "    .dataframe tbody tr th {\n",
       "        vertical-align: top;\n",
       "    }\n",
       "\n",
       "    .dataframe thead th {\n",
       "        text-align: right;\n",
       "    }\n",
       "</style>\n",
       "<table border=\"1\" class=\"dataframe\">\n",
       "  <thead>\n",
       "    <tr style=\"text-align: right;\">\n",
       "      <th>first_location</th>\n",
       "      <th>drinks</th>\n",
       "      <th>fruit</th>\n",
       "    </tr>\n",
       "    <tr>\n",
       "      <th>location</th>\n",
       "      <th></th>\n",
       "      <th></th>\n",
       "    </tr>\n",
       "  </thead>\n",
       "  <tbody>\n",
       "    <tr>\n",
       "      <th>checkout</th>\n",
       "      <td>1.0</td>\n",
       "      <td>0.0</td>\n",
       "    </tr>\n",
       "    <tr>\n",
       "      <th>drinks</th>\n",
       "      <td>0.0</td>\n",
       "      <td>1.0</td>\n",
       "    </tr>\n",
       "    <tr>\n",
       "      <th>fruit</th>\n",
       "      <td>0.0</td>\n",
       "      <td>0.0</td>\n",
       "    </tr>\n",
       "  </tbody>\n",
       "</table>\n",
       "</div>"
      ],
      "text/plain": [
       "first_location  drinks  fruit\n",
       "location                     \n",
       "checkout           1.0    0.0\n",
       "drinks             0.0    1.0\n",
       "fruit              0.0    0.0"
      ]
     },
     "execution_count": 77,
     "metadata": {},
     "output_type": "execute_result"
    }
   ],
   "source": [
    "#tprob_c1 = tprob_c1.drop([0],axis=1)\n",
    "tprob_c1"
   ]
  },
  {
   "cell_type": "code",
   "execution_count": 78,
   "id": "e43f00e7",
   "metadata": {},
   "outputs": [
    {
     "data": {
      "text/plain": [
       "first_location\n",
       "drinks    1.0\n",
       "fruit     0.0\n",
       "Name: checkout, dtype: float64"
      ]
     },
     "execution_count": 78,
     "metadata": {},
     "output_type": "execute_result"
    }
   ],
   "source": [
    "tprob_c1.iloc[0]"
   ]
  },
  {
   "cell_type": "code",
   "execution_count": 80,
   "id": "d62146e3",
   "metadata": {},
   "outputs": [
    {
     "data": {
      "text/plain": [
       "'drinks'"
      ]
     },
     "execution_count": 80,
     "metadata": {},
     "output_type": "execute_result"
    }
   ],
   "source": [
    "tprob_c1.iloc[0].index[0]"
   ]
  },
  {
   "cell_type": "code",
   "execution_count": 81,
   "id": "2f2bca12",
   "metadata": {},
   "outputs": [
    {
     "data": {
      "text/plain": [
       "Index(['drinks', 'fruit'], dtype='object', name='first_location')"
      ]
     },
     "execution_count": 81,
     "metadata": {},
     "output_type": "execute_result"
    }
   ],
   "source": [
    "tprob_c1.iloc[0].index"
   ]
  },
  {
   "cell_type": "code",
   "execution_count": 99,
   "id": "fbd49335",
   "metadata": {},
   "outputs": [
    {
     "data": {
      "text/plain": [
       "Index(['drinks', 'fruit'], dtype='object', name='first_location')"
      ]
     },
     "execution_count": 99,
     "metadata": {},
     "output_type": "execute_result"
    }
   ],
   "source": [
    "tprob_c1.iloc[0].index"
   ]
  },
  {
   "cell_type": "code",
   "execution_count": 100,
   "id": "90552021",
   "metadata": {},
   "outputs": [
    {
     "data": {
      "text/plain": [
       "first_location\n",
       "drinks    1.0\n",
       "fruit     0.0\n",
       "Name: checkout, dtype: float64"
      ]
     },
     "execution_count": 100,
     "metadata": {},
     "output_type": "execute_result"
    }
   ],
   "source": [
    "tprob_c1.iloc[0]"
   ]
  },
  {
   "cell_type": "code",
   "execution_count": 101,
   "id": "ff8530fc",
   "metadata": {},
   "outputs": [
    {
     "data": {
      "text/plain": [
       "'drinks'"
      ]
     },
     "execution_count": 101,
     "metadata": {},
     "output_type": "execute_result"
    }
   ],
   "source": [
    "tprob_c1.iloc[0].index[0]"
   ]
  },
  {
   "cell_type": "code",
   "execution_count": 102,
   "id": "664ceb62",
   "metadata": {},
   "outputs": [
    {
     "data": {
      "text/plain": [
       "first_location\n",
       "drinks    1.0\n",
       "fruit     0.0\n",
       "Name: checkout, dtype: float64"
      ]
     },
     "execution_count": 102,
     "metadata": {},
     "output_type": "execute_result"
    }
   ],
   "source": [
    "tprob_c1.iloc[0]"
   ]
  },
  {
   "cell_type": "code",
   "execution_count": 103,
   "id": "900b55d4",
   "metadata": {},
   "outputs": [
    {
     "data": {
      "text/plain": [
       "Index(['drinks', 'fruit'], dtype='object', name='first_location')"
      ]
     },
     "execution_count": 103,
     "metadata": {},
     "output_type": "execute_result"
    }
   ],
   "source": [
    "tprob_c1.iloc[0].index"
   ]
  },
  {
   "cell_type": "code",
   "execution_count": 90,
   "id": "93ce00b0",
   "metadata": {},
   "outputs": [
    {
     "data": {
      "text/plain": [
       "['fruit', 'drinks']"
      ]
     },
     "execution_count": 90,
     "metadata": {},
     "output_type": "execute_result"
    }
   ],
   "source": [
    "### Markov Simulation 1 customer no classes\n",
    "### St+1 = St*Tprob \n",
    "### How costumer 1 will behave next Monday? \n",
    "\n",
    "import numpy as np\n",
    "import time\n",
    "import random\n",
    "\n",
    "#the statespace\n",
    "states =['fruit','drinks','checkout']\n",
    "\n",
    "#Transition probabilities matrix \n",
    "tprob_c1\n",
    "\n",
    "#Customer 1 simulation\n",
    "\n",
    "customer1_sim= []\n",
    "\n",
    "customer1_sim.append(tprob_c1.iloc[0].index[0]) #customer1_sim 1st element is 'drinks'\n",
    "\n",
    "division = np.random.choice(a=tprob_c1.iloc[0].index, p=tprob_c1.iloc[0])\n",
    "\n",
    "customer1_sim.append(division)\n",
    "\n",
    "customer1_sim\n",
    "\n",
    "\n"
   ]
  },
  {
   "cell_type": "code",
   "execution_count": 80,
   "id": "71b289dd",
   "metadata": {},
   "outputs": [
    {
     "ename": "NameError",
     "evalue": "name 'tprob_c1' is not defined",
     "output_type": "error",
     "traceback": [
      "\u001b[0;31m---------------------------------------------------------------------------\u001b[0m",
      "\u001b[0;31mNameError\u001b[0m                                 Traceback (most recent call last)",
      "\u001b[0;32m<ipython-input-80-77e1671a2bb3>\u001b[0m in \u001b[0;36m<module>\u001b[0;34m\u001b[0m\n\u001b[0;32m----> 1\u001b[0;31m \u001b[0ma\u001b[0m\u001b[0;34m=\u001b[0m\u001b[0mtprob_c1\u001b[0m\u001b[0;34m.\u001b[0m\u001b[0miloc\u001b[0m\u001b[0;34m[\u001b[0m\u001b[0;36m0\u001b[0m\u001b[0;34m]\u001b[0m\u001b[0;34m.\u001b[0m\u001b[0mindex\u001b[0m\u001b[0;34m\u001b[0m\u001b[0;34m\u001b[0m\u001b[0m\n\u001b[0m",
      "\u001b[0;31mNameError\u001b[0m: name 'tprob_c1' is not defined"
     ]
    }
   ],
   "source": [
    "a=tprob_c1.iloc[0].index"
   ]
  },
  {
   "cell_type": "code",
   "execution_count": 121,
   "id": "a0d43376",
   "metadata": {},
   "outputs": [
    {
     "data": {
      "text/html": [
       "<div>\n",
       "<style scoped>\n",
       "    .dataframe tbody tr th:only-of-type {\n",
       "        vertical-align: middle;\n",
       "    }\n",
       "\n",
       "    .dataframe tbody tr th {\n",
       "        vertical-align: top;\n",
       "    }\n",
       "\n",
       "    .dataframe thead th {\n",
       "        text-align: right;\n",
       "    }\n",
       "</style>\n",
       "<table border=\"1\" class=\"dataframe\">\n",
       "  <thead>\n",
       "    <tr style=\"text-align: right;\">\n",
       "      <th></th>\n",
       "      <th>timestamp</th>\n",
       "      <th>customer_no</th>\n",
       "      <th>location</th>\n",
       "    </tr>\n",
       "  </thead>\n",
       "  <tbody>\n",
       "    <tr>\n",
       "      <th>0</th>\n",
       "      <td>2019-09-03 07:02:00</td>\n",
       "      <td>1</td>\n",
       "      <td>fruit</td>\n",
       "    </tr>\n",
       "    <tr>\n",
       "      <th>3</th>\n",
       "      <td>2019-09-03 07:05:00</td>\n",
       "      <td>1</td>\n",
       "      <td>drinks</td>\n",
       "    </tr>\n",
       "    <tr>\n",
       "      <th>25</th>\n",
       "      <td>2019-09-03 07:12:00</td>\n",
       "      <td>1</td>\n",
       "      <td>checkout</td>\n",
       "    </tr>\n",
       "    <tr>\n",
       "      <th>1</th>\n",
       "      <td>2019-09-03 07:02:00</td>\n",
       "      <td>2</td>\n",
       "      <td>drinks</td>\n",
       "    </tr>\n",
       "    <tr>\n",
       "      <th>34</th>\n",
       "      <td>2019-09-03 07:14:00</td>\n",
       "      <td>2</td>\n",
       "      <td>fruit</td>\n",
       "    </tr>\n",
       "  </tbody>\n",
       "</table>\n",
       "</div>"
      ],
      "text/plain": [
       "             timestamp  customer_no  location\n",
       "0  2019-09-03 07:02:00            1     fruit\n",
       "3  2019-09-03 07:05:00            1    drinks\n",
       "25 2019-09-03 07:12:00            1  checkout\n",
       "1  2019-09-03 07:02:00            2    drinks\n",
       "34 2019-09-03 07:14:00            2     fruit"
      ]
     },
     "execution_count": 121,
     "metadata": {},
     "output_type": "execute_result"
    }
   ],
   "source": [
    "tuesday = tuesday.sort_values(by=['customer_no','timestamp'])\n",
    "#tuesday = tuesday.drop(['second_location'], axis=1)\n",
    "tuesday.head()"
   ]
  },
  {
   "cell_type": "code",
   "execution_count": 130,
   "id": "6a674224",
   "metadata": {},
   "outputs": [
    {
     "data": {
      "text/html": [
       "<div>\n",
       "<style scoped>\n",
       "    .dataframe tbody tr th:only-of-type {\n",
       "        vertical-align: middle;\n",
       "    }\n",
       "\n",
       "    .dataframe tbody tr th {\n",
       "        vertical-align: top;\n",
       "    }\n",
       "\n",
       "    .dataframe thead th {\n",
       "        text-align: right;\n",
       "    }\n",
       "</style>\n",
       "<table border=\"1\" class=\"dataframe\">\n",
       "  <thead>\n",
       "    <tr style=\"text-align: right;\">\n",
       "      <th></th>\n",
       "      <th>timestamp</th>\n",
       "      <th>customer_no</th>\n",
       "      <th>location</th>\n",
       "      <th>first_location</th>\n",
       "    </tr>\n",
       "  </thead>\n",
       "  <tbody>\n",
       "    <tr>\n",
       "      <th>0</th>\n",
       "      <td>2019-09-03 07:02:00</td>\n",
       "      <td>1</td>\n",
       "      <td>fruit</td>\n",
       "      <td>0</td>\n",
       "    </tr>\n",
       "    <tr>\n",
       "      <th>3</th>\n",
       "      <td>2019-09-03 07:05:00</td>\n",
       "      <td>1</td>\n",
       "      <td>drinks</td>\n",
       "      <td>fruit</td>\n",
       "    </tr>\n",
       "    <tr>\n",
       "      <th>25</th>\n",
       "      <td>2019-09-03 07:12:00</td>\n",
       "      <td>1</td>\n",
       "      <td>checkout</td>\n",
       "      <td>drinks</td>\n",
       "    </tr>\n",
       "    <tr>\n",
       "      <th>1</th>\n",
       "      <td>2019-09-03 07:02:00</td>\n",
       "      <td>2</td>\n",
       "      <td>drinks</td>\n",
       "      <td>0</td>\n",
       "    </tr>\n",
       "    <tr>\n",
       "      <th>34</th>\n",
       "      <td>2019-09-03 07:14:00</td>\n",
       "      <td>2</td>\n",
       "      <td>fruit</td>\n",
       "      <td>drinks</td>\n",
       "    </tr>\n",
       "  </tbody>\n",
       "</table>\n",
       "</div>"
      ],
      "text/plain": [
       "             timestamp  customer_no  location first_location\n",
       "0  2019-09-03 07:02:00            1     fruit              0\n",
       "3  2019-09-03 07:05:00            1    drinks          fruit\n",
       "25 2019-09-03 07:12:00            1  checkout         drinks\n",
       "1  2019-09-03 07:02:00            2    drinks              0\n",
       "34 2019-09-03 07:14:00            2     fruit         drinks"
      ]
     },
     "execution_count": 130,
     "metadata": {},
     "output_type": "execute_result"
    }
   ],
   "source": [
    "#tuesday['second_location'] = first_location\n",
    "#tuesday['second_location'] = tuesday['second_location'].fillna(0)\n",
    "tuesday= tuesday.drop(['second_location'], axis=1)\n",
    "tuesday.head()\n"
   ]
  },
  {
   "cell_type": "code",
   "execution_count": 131,
   "id": "56ec76fd",
   "metadata": {},
   "outputs": [
    {
     "name": "stdout",
     "output_type": "stream",
     "text": [
      "4714\n"
     ]
    }
   ],
   "source": [
    "cust_time = tuesday.groupby('customer_no')\n",
    "\n",
    "first_location = []\n",
    "\n",
    "for customer, df_locations in cust_time:\n",
    "    \n",
    "    x = list(df_locations['location'].shift(1))\n",
    "   \n",
    "    first_location += x\n",
    "    \n",
    "print(len(first_location))"
   ]
  },
  {
   "cell_type": "code",
   "execution_count": 133,
   "id": "6262b7c9",
   "metadata": {},
   "outputs": [
    {
     "data": {
      "text/html": [
       "<div>\n",
       "<style scoped>\n",
       "    .dataframe tbody tr th:only-of-type {\n",
       "        vertical-align: middle;\n",
       "    }\n",
       "\n",
       "    .dataframe tbody tr th {\n",
       "        vertical-align: top;\n",
       "    }\n",
       "\n",
       "    .dataframe thead th {\n",
       "        text-align: right;\n",
       "    }\n",
       "</style>\n",
       "<table border=\"1\" class=\"dataframe\">\n",
       "  <thead>\n",
       "    <tr style=\"text-align: right;\">\n",
       "      <th></th>\n",
       "      <th>timestamp</th>\n",
       "      <th>customer_no</th>\n",
       "      <th>location</th>\n",
       "      <th>first_location</th>\n",
       "    </tr>\n",
       "  </thead>\n",
       "  <tbody>\n",
       "    <tr>\n",
       "      <th>0</th>\n",
       "      <td>2019-09-03 07:02:00</td>\n",
       "      <td>1</td>\n",
       "      <td>fruit</td>\n",
       "      <td>0</td>\n",
       "    </tr>\n",
       "    <tr>\n",
       "      <th>3</th>\n",
       "      <td>2019-09-03 07:05:00</td>\n",
       "      <td>1</td>\n",
       "      <td>drinks</td>\n",
       "      <td>fruit</td>\n",
       "    </tr>\n",
       "    <tr>\n",
       "      <th>25</th>\n",
       "      <td>2019-09-03 07:12:00</td>\n",
       "      <td>1</td>\n",
       "      <td>checkout</td>\n",
       "      <td>drinks</td>\n",
       "    </tr>\n",
       "    <tr>\n",
       "      <th>1</th>\n",
       "      <td>2019-09-03 07:02:00</td>\n",
       "      <td>2</td>\n",
       "      <td>drinks</td>\n",
       "      <td>0</td>\n",
       "    </tr>\n",
       "    <tr>\n",
       "      <th>34</th>\n",
       "      <td>2019-09-03 07:14:00</td>\n",
       "      <td>2</td>\n",
       "      <td>fruit</td>\n",
       "      <td>drinks</td>\n",
       "    </tr>\n",
       "    <tr>\n",
       "      <th>61</th>\n",
       "      <td>2019-09-03 07:17:00</td>\n",
       "      <td>2</td>\n",
       "      <td>checkout</td>\n",
       "      <td>fruit</td>\n",
       "    </tr>\n",
       "    <tr>\n",
       "      <th>2</th>\n",
       "      <td>2019-09-03 07:03:00</td>\n",
       "      <td>3</td>\n",
       "      <td>dairy</td>\n",
       "      <td>0</td>\n",
       "    </tr>\n",
       "    <tr>\n",
       "      <th>13</th>\n",
       "      <td>2019-09-03 07:10:00</td>\n",
       "      <td>3</td>\n",
       "      <td>checkout</td>\n",
       "      <td>dairy</td>\n",
       "    </tr>\n",
       "    <tr>\n",
       "      <th>4</th>\n",
       "      <td>2019-09-03 07:06:00</td>\n",
       "      <td>4</td>\n",
       "      <td>dairy</td>\n",
       "      <td>0</td>\n",
       "    </tr>\n",
       "    <tr>\n",
       "      <th>9</th>\n",
       "      <td>2019-09-03 07:08:00</td>\n",
       "      <td>4</td>\n",
       "      <td>spices</td>\n",
       "      <td>dairy</td>\n",
       "    </tr>\n",
       "  </tbody>\n",
       "</table>\n",
       "</div>"
      ],
      "text/plain": [
       "             timestamp  customer_no  location first_location\n",
       "0  2019-09-03 07:02:00            1     fruit              0\n",
       "3  2019-09-03 07:05:00            1    drinks          fruit\n",
       "25 2019-09-03 07:12:00            1  checkout         drinks\n",
       "1  2019-09-03 07:02:00            2    drinks              0\n",
       "34 2019-09-03 07:14:00            2     fruit         drinks\n",
       "61 2019-09-03 07:17:00            2  checkout          fruit\n",
       "2  2019-09-03 07:03:00            3     dairy              0\n",
       "13 2019-09-03 07:10:00            3  checkout          dairy\n",
       "4  2019-09-03 07:06:00            4     dairy              0\n",
       "9  2019-09-03 07:08:00            4    spices          dairy"
      ]
     },
     "execution_count": 133,
     "metadata": {},
     "output_type": "execute_result"
    }
   ],
   "source": [
    "tuesday['first_location'] = first_location\n",
    "tuesday['first_location'] = tuesday['first_location'].fillna(0)\n",
    "tuesday.head(10)"
   ]
  },
  {
   "cell_type": "code",
   "execution_count": 134,
   "id": "cd8c782b",
   "metadata": {},
   "outputs": [
    {
     "data": {
      "text/html": [
       "<div>\n",
       "<style scoped>\n",
       "    .dataframe tbody tr th:only-of-type {\n",
       "        vertical-align: middle;\n",
       "    }\n",
       "\n",
       "    .dataframe tbody tr th {\n",
       "        vertical-align: top;\n",
       "    }\n",
       "\n",
       "    .dataframe thead th {\n",
       "        text-align: right;\n",
       "    }\n",
       "</style>\n",
       "<table border=\"1\" class=\"dataframe\">\n",
       "  <thead>\n",
       "    <tr style=\"text-align: right;\">\n",
       "      <th></th>\n",
       "      <th>timestamp</th>\n",
       "      <th>customer_no</th>\n",
       "      <th>location</th>\n",
       "      <th>first_location</th>\n",
       "    </tr>\n",
       "  </thead>\n",
       "  <tbody>\n",
       "    <tr>\n",
       "      <th>0</th>\n",
       "      <td>2019-09-03 07:02:00</td>\n",
       "      <td>1</td>\n",
       "      <td>fruit</td>\n",
       "      <td>0</td>\n",
       "    </tr>\n",
       "    <tr>\n",
       "      <th>3</th>\n",
       "      <td>2019-09-03 07:05:00</td>\n",
       "      <td>1</td>\n",
       "      <td>drinks</td>\n",
       "      <td>fruit</td>\n",
       "    </tr>\n",
       "    <tr>\n",
       "      <th>25</th>\n",
       "      <td>2019-09-03 07:12:00</td>\n",
       "      <td>1</td>\n",
       "      <td>checkout</td>\n",
       "      <td>drinks</td>\n",
       "    </tr>\n",
       "    <tr>\n",
       "      <th>1</th>\n",
       "      <td>2019-09-03 07:02:00</td>\n",
       "      <td>2</td>\n",
       "      <td>drinks</td>\n",
       "      <td>0</td>\n",
       "    </tr>\n",
       "    <tr>\n",
       "      <th>34</th>\n",
       "      <td>2019-09-03 07:14:00</td>\n",
       "      <td>2</td>\n",
       "      <td>fruit</td>\n",
       "      <td>drinks</td>\n",
       "    </tr>\n",
       "    <tr>\n",
       "      <th>61</th>\n",
       "      <td>2019-09-03 07:17:00</td>\n",
       "      <td>2</td>\n",
       "      <td>checkout</td>\n",
       "      <td>fruit</td>\n",
       "    </tr>\n",
       "    <tr>\n",
       "      <th>2</th>\n",
       "      <td>2019-09-03 07:03:00</td>\n",
       "      <td>3</td>\n",
       "      <td>dairy</td>\n",
       "      <td>0</td>\n",
       "    </tr>\n",
       "    <tr>\n",
       "      <th>13</th>\n",
       "      <td>2019-09-03 07:10:00</td>\n",
       "      <td>3</td>\n",
       "      <td>checkout</td>\n",
       "      <td>dairy</td>\n",
       "    </tr>\n",
       "  </tbody>\n",
       "</table>\n",
       "</div>"
      ],
      "text/plain": [
       "             timestamp  customer_no  location first_location\n",
       "0  2019-09-03 07:02:00            1     fruit              0\n",
       "3  2019-09-03 07:05:00            1    drinks          fruit\n",
       "25 2019-09-03 07:12:00            1  checkout         drinks\n",
       "1  2019-09-03 07:02:00            2    drinks              0\n",
       "34 2019-09-03 07:14:00            2     fruit         drinks\n",
       "61 2019-09-03 07:17:00            2  checkout          fruit\n",
       "2  2019-09-03 07:03:00            3     dairy              0\n",
       "13 2019-09-03 07:10:00            3  checkout          dairy"
      ]
     },
     "execution_count": 134,
     "metadata": {},
     "output_type": "execute_result"
    }
   ],
   "source": [
    "### Markov Simulation 3 customers no classes\n",
    "ctest = tuesday[tuesday['customer_no'] <= 3]\n",
    "ctest"
   ]
  },
  {
   "cell_type": "code",
   "execution_count": 135,
   "id": "b4df3362",
   "metadata": {},
   "outputs": [
    {
     "data": {
      "text/html": [
       "<div>\n",
       "<style scoped>\n",
       "    .dataframe tbody tr th:only-of-type {\n",
       "        vertical-align: middle;\n",
       "    }\n",
       "\n",
       "    .dataframe tbody tr th {\n",
       "        vertical-align: top;\n",
       "    }\n",
       "\n",
       "    .dataframe thead th {\n",
       "        text-align: right;\n",
       "    }\n",
       "</style>\n",
       "<table border=\"1\" class=\"dataframe\">\n",
       "  <thead>\n",
       "    <tr style=\"text-align: right;\">\n",
       "      <th>location</th>\n",
       "      <th>checkout</th>\n",
       "      <th>dairy</th>\n",
       "      <th>drinks</th>\n",
       "      <th>fruit</th>\n",
       "    </tr>\n",
       "    <tr>\n",
       "      <th>first_location</th>\n",
       "      <th></th>\n",
       "      <th></th>\n",
       "      <th></th>\n",
       "      <th></th>\n",
       "    </tr>\n",
       "  </thead>\n",
       "  <tbody>\n",
       "    <tr>\n",
       "      <th>0</th>\n",
       "      <td>0.0</td>\n",
       "      <td>0.333333</td>\n",
       "      <td>0.333333</td>\n",
       "      <td>0.333333</td>\n",
       "    </tr>\n",
       "    <tr>\n",
       "      <th>dairy</th>\n",
       "      <td>1.0</td>\n",
       "      <td>0.000000</td>\n",
       "      <td>0.000000</td>\n",
       "      <td>0.000000</td>\n",
       "    </tr>\n",
       "    <tr>\n",
       "      <th>drinks</th>\n",
       "      <td>0.5</td>\n",
       "      <td>0.000000</td>\n",
       "      <td>0.000000</td>\n",
       "      <td>0.500000</td>\n",
       "    </tr>\n",
       "    <tr>\n",
       "      <th>fruit</th>\n",
       "      <td>0.5</td>\n",
       "      <td>0.000000</td>\n",
       "      <td>0.500000</td>\n",
       "      <td>0.000000</td>\n",
       "    </tr>\n",
       "  </tbody>\n",
       "</table>\n",
       "</div>"
      ],
      "text/plain": [
       "location        checkout     dairy    drinks     fruit\n",
       "first_location                                        \n",
       "0                    0.0  0.333333  0.333333  0.333333\n",
       "dairy                1.0  0.000000  0.000000  0.000000\n",
       "drinks               0.5  0.000000  0.000000  0.500000\n",
       "fruit                0.5  0.000000  0.500000  0.000000"
      ]
     },
     "execution_count": 135,
     "metadata": {},
     "output_type": "execute_result"
    }
   ],
   "source": [
    "tprob_test = pd.crosstab(ctest['first_location'], ctest['location'], normalize=0)\n",
    "tprob_test"
   ]
  },
  {
   "cell_type": "code",
   "execution_count": 136,
   "id": "6f54a96a",
   "metadata": {},
   "outputs": [
    {
     "data": {
      "text/html": [
       "<div>\n",
       "<style scoped>\n",
       "    .dataframe tbody tr th:only-of-type {\n",
       "        vertical-align: middle;\n",
       "    }\n",
       "\n",
       "    .dataframe tbody tr th {\n",
       "        vertical-align: top;\n",
       "    }\n",
       "\n",
       "    .dataframe thead th {\n",
       "        text-align: right;\n",
       "    }\n",
       "</style>\n",
       "<table border=\"1\" class=\"dataframe\">\n",
       "  <thead>\n",
       "    <tr style=\"text-align: right;\">\n",
       "      <th>location</th>\n",
       "      <th>checkout</th>\n",
       "      <th>dairy</th>\n",
       "      <th>drinks</th>\n",
       "      <th>fruit</th>\n",
       "    </tr>\n",
       "    <tr>\n",
       "      <th>first_location</th>\n",
       "      <th></th>\n",
       "      <th></th>\n",
       "      <th></th>\n",
       "      <th></th>\n",
       "    </tr>\n",
       "  </thead>\n",
       "  <tbody>\n",
       "    <tr>\n",
       "      <th>dairy</th>\n",
       "      <td>1.0</td>\n",
       "      <td>0.0</td>\n",
       "      <td>0.0</td>\n",
       "      <td>0.0</td>\n",
       "    </tr>\n",
       "    <tr>\n",
       "      <th>drinks</th>\n",
       "      <td>0.5</td>\n",
       "      <td>0.0</td>\n",
       "      <td>0.0</td>\n",
       "      <td>0.5</td>\n",
       "    </tr>\n",
       "    <tr>\n",
       "      <th>fruit</th>\n",
       "      <td>0.5</td>\n",
       "      <td>0.0</td>\n",
       "      <td>0.5</td>\n",
       "      <td>0.0</td>\n",
       "    </tr>\n",
       "  </tbody>\n",
       "</table>\n",
       "</div>"
      ],
      "text/plain": [
       "location        checkout  dairy  drinks  fruit\n",
       "first_location                                \n",
       "dairy                1.0    0.0     0.0    0.0\n",
       "drinks               0.5    0.0     0.0    0.5\n",
       "fruit                0.5    0.0     0.5    0.0"
      ]
     },
     "execution_count": 136,
     "metadata": {},
     "output_type": "execute_result"
    }
   ],
   "source": [
    "tprob_test = tprob_test.drop([0],axis=0)\n",
    "tprob_test"
   ]
  },
  {
   "cell_type": "code",
   "execution_count": 142,
   "id": "c3d1ebfb",
   "metadata": {},
   "outputs": [
    {
     "data": {
      "text/html": [
       "<div>\n",
       "<style scoped>\n",
       "    .dataframe tbody tr th:only-of-type {\n",
       "        vertical-align: middle;\n",
       "    }\n",
       "\n",
       "    .dataframe tbody tr th {\n",
       "        vertical-align: top;\n",
       "    }\n",
       "\n",
       "    .dataframe thead th {\n",
       "        text-align: right;\n",
       "    }\n",
       "</style>\n",
       "<table border=\"1\" class=\"dataframe\">\n",
       "  <thead>\n",
       "    <tr style=\"text-align: right;\">\n",
       "      <th>first_location</th>\n",
       "      <th>dairy</th>\n",
       "      <th>drinks</th>\n",
       "      <th>fruit</th>\n",
       "    </tr>\n",
       "    <tr>\n",
       "      <th>location</th>\n",
       "      <th></th>\n",
       "      <th></th>\n",
       "      <th></th>\n",
       "    </tr>\n",
       "  </thead>\n",
       "  <tbody>\n",
       "    <tr>\n",
       "      <th>checkout</th>\n",
       "      <td>1.0</td>\n",
       "      <td>0.5</td>\n",
       "      <td>0.5</td>\n",
       "    </tr>\n",
       "    <tr>\n",
       "      <th>dairy</th>\n",
       "      <td>0.0</td>\n",
       "      <td>0.0</td>\n",
       "      <td>0.0</td>\n",
       "    </tr>\n",
       "    <tr>\n",
       "      <th>drinks</th>\n",
       "      <td>0.0</td>\n",
       "      <td>0.0</td>\n",
       "      <td>0.5</td>\n",
       "    </tr>\n",
       "    <tr>\n",
       "      <th>fruit</th>\n",
       "      <td>0.0</td>\n",
       "      <td>0.5</td>\n",
       "      <td>0.0</td>\n",
       "    </tr>\n",
       "  </tbody>\n",
       "</table>\n",
       "</div>"
      ],
      "text/plain": [
       "first_location  dairy  drinks  fruit\n",
       "location                            \n",
       "checkout          1.0     0.5    0.5\n",
       "dairy             0.0     0.0    0.0\n",
       "drinks            0.0     0.0    0.5\n",
       "fruit             0.0     0.5    0.0"
      ]
     },
     "execution_count": 142,
     "metadata": {},
     "output_type": "execute_result"
    }
   ],
   "source": [
    "tprob_test = tprob_test.transpose()\n",
    "tprob_test"
   ]
  },
  {
   "cell_type": "code",
   "execution_count": 143,
   "id": "99216617",
   "metadata": {},
   "outputs": [
    {
     "data": {
      "text/plain": [
       "{'dairy': [1.0, 0.0, 0.0, 0.0],\n",
       " 'drinks': [0.5, 0.0, 0.0, 0.5],\n",
       " 'fruit': [0.5, 0.0, 0.5, 0.0]}"
      ]
     },
     "execution_count": 143,
     "metadata": {},
     "output_type": "execute_result"
    }
   ],
   "source": [
    "TProb = tprob_test.to_dict(orient='list')\n",
    "TProb"
   ]
  },
  {
   "cell_type": "code",
   "execution_count": null,
   "id": "d4c66081",
   "metadata": {},
   "outputs": [],
   "source": [
    "#l1_dairy = {'location':['drinks','fruit','checkout'],\n",
    "#            'prob':[0,0,.3333]}\n",
    "                        \n",
    "#l1_drinks = [location:{'dairy','fruit','checkout'},\n",
    "#              prob:{0,0,.3333}]\n",
    "\n",
    "#customer_sim= []\n",
    "#customer_sim.append(tprob_c1.iloc[0].index[0])\n",
    "#division = np.random.choice(a=tprob_c1.iloc[0].index, p=tprob_c1.iloc[0])\n",
    "#customer_sim.append(division)"
   ]
  },
  {
   "cell_type": "code",
   "execution_count": 171,
   "id": "b5938b62",
   "metadata": {},
   "outputs": [],
   "source": [
    "import random\n",
    "\n",
    "States = tprob_test.index\n",
    "\n",
    "def mc_simulation(i,TProb):\n",
    "    history = [i]\n",
    "    \n",
    "    while history[-1] != 'checkout':\n",
    "             \n",
    "        probs = TProb[history[-1]]\n",
    "        print(probs)\n",
    "        next_state = random.choices(States,probs)[0]\n",
    "        print(next_state)\n",
    "        history.append(next_state)\n",
    "\n",
    "    return history\n",
    "               \n",
    " "
   ]
  },
  {
   "cell_type": "code",
   "execution_count": 172,
   "id": "1dd9b822",
   "metadata": {},
   "outputs": [
    {
     "name": "stdout",
     "output_type": "stream",
     "text": [
      "[0.5, 0.0, 0.0, 0.5]\n",
      "fruit\n",
      "[0.5, 0.0, 0.5, 0.0]\n",
      "drinks\n",
      "[0.5, 0.0, 0.0, 0.5]\n",
      "checkout\n"
     ]
    },
    {
     "data": {
      "text/plain": [
       "['drinks', 'fruit', 'drinks', 'checkout']"
      ]
     },
     "execution_count": 172,
     "metadata": {},
     "output_type": "execute_result"
    }
   ],
   "source": [
    "mc_simulation('drinks',TProb)\n"
   ]
  },
  {
   "cell_type": "code",
   "execution_count": 166,
   "id": "c96a5363",
   "metadata": {},
   "outputs": [
    {
     "data": {
      "text/plain": [
       "{'dairy': [1.0, 0.0, 0.0, 0.0],\n",
       " 'drinks': [0.5, 0.0, 0.0, 0.5],\n",
       " 'fruit': [0.5, 0.0, 0.5, 0.0]}"
      ]
     },
     "execution_count": 166,
     "metadata": {},
     "output_type": "execute_result"
    }
   ],
   "source": [
    "TProb"
   ]
  },
  {
   "cell_type": "code",
   "execution_count": 173,
   "id": "71048319",
   "metadata": {},
   "outputs": [
    {
     "data": {
      "text/html": [
       "<div>\n",
       "<style scoped>\n",
       "    .dataframe tbody tr th:only-of-type {\n",
       "        vertical-align: middle;\n",
       "    }\n",
       "\n",
       "    .dataframe tbody tr th {\n",
       "        vertical-align: top;\n",
       "    }\n",
       "\n",
       "    .dataframe thead th {\n",
       "        text-align: right;\n",
       "    }\n",
       "</style>\n",
       "<table border=\"1\" class=\"dataframe\">\n",
       "  <thead>\n",
       "    <tr style=\"text-align: right;\">\n",
       "      <th></th>\n",
       "      <th>timestamp</th>\n",
       "      <th>customer_no</th>\n",
       "      <th>location</th>\n",
       "      <th>first_location</th>\n",
       "    </tr>\n",
       "  </thead>\n",
       "  <tbody>\n",
       "    <tr>\n",
       "      <th>0</th>\n",
       "      <td>2019-09-03 07:02:00</td>\n",
       "      <td>1</td>\n",
       "      <td>fruit</td>\n",
       "      <td>0</td>\n",
       "    </tr>\n",
       "    <tr>\n",
       "      <th>3</th>\n",
       "      <td>2019-09-03 07:05:00</td>\n",
       "      <td>1</td>\n",
       "      <td>drinks</td>\n",
       "      <td>fruit</td>\n",
       "    </tr>\n",
       "    <tr>\n",
       "      <th>25</th>\n",
       "      <td>2019-09-03 07:12:00</td>\n",
       "      <td>1</td>\n",
       "      <td>checkout</td>\n",
       "      <td>drinks</td>\n",
       "    </tr>\n",
       "    <tr>\n",
       "      <th>1</th>\n",
       "      <td>2019-09-03 07:02:00</td>\n",
       "      <td>2</td>\n",
       "      <td>drinks</td>\n",
       "      <td>0</td>\n",
       "    </tr>\n",
       "    <tr>\n",
       "      <th>34</th>\n",
       "      <td>2019-09-03 07:14:00</td>\n",
       "      <td>2</td>\n",
       "      <td>fruit</td>\n",
       "      <td>drinks</td>\n",
       "    </tr>\n",
       "  </tbody>\n",
       "</table>\n",
       "</div>"
      ],
      "text/plain": [
       "             timestamp  customer_no  location first_location\n",
       "0  2019-09-03 07:02:00            1     fruit              0\n",
       "3  2019-09-03 07:05:00            1    drinks          fruit\n",
       "25 2019-09-03 07:12:00            1  checkout         drinks\n",
       "1  2019-09-03 07:02:00            2    drinks              0\n",
       "34 2019-09-03 07:14:00            2     fruit         drinks"
      ]
     },
     "execution_count": 173,
     "metadata": {},
     "output_type": "execute_result"
    }
   ],
   "source": [
    "ctest.head()"
   ]
  },
  {
   "cell_type": "code",
   "execution_count": 179,
   "id": "e66697dd",
   "metadata": {},
   "outputs": [
    {
     "data": {
      "text/plain": [
       "Timestamp('2019-09-03 07:02:00')"
      ]
     },
     "execution_count": 179,
     "metadata": {},
     "output_type": "execute_result"
    }
   ],
   "source": [
    "tuesday['timestamp'].min()"
   ]
  },
  {
   "cell_type": "code",
   "execution_count": 184,
   "id": "1912aa02",
   "metadata": {},
   "outputs": [],
   "source": [
    "from datetime import datetime\n",
    "\n",
    "datetime_object = datetime.strptime('Sep 3 2019  07:00AM', '%b %d %Y %I:%M%p')"
   ]
  },
  {
   "cell_type": "code",
   "execution_count": 185,
   "id": "2b026de6",
   "metadata": {},
   "outputs": [
    {
     "data": {
      "text/plain": [
       "datetime.datetime(2019, 9, 3, 7, 0)"
      ]
     },
     "execution_count": 185,
     "metadata": {},
     "output_type": "execute_result"
    }
   ],
   "source": [
    "datetime_object"
   ]
  },
  {
   "cell_type": "code",
   "execution_count": 188,
   "id": "6ff6cdea",
   "metadata": {},
   "outputs": [
    {
     "name": "stdout",
     "output_type": "stream",
     "text": [
      "The type of the date is now <class 'datetime.datetime'>\n",
      "The date is 2019-09-03 07:00:00\n"
     ]
    }
   ],
   "source": [
    "from datetime import datetime\n",
    "\n",
    "date_time_str = '3/09/19 07:00:00'\n",
    "\n",
    "opening = datetime.strptime(date_time_str, '%d/%m/%y %H:%M:%S')\n",
    "\n",
    "\n",
    "print (\"The type of the date is now\",  type(opening))\n",
    "print (\"The date is\", opening)"
   ]
  },
  {
   "cell_type": "code",
   "execution_count": null,
   "id": "07950ec4",
   "metadata": {},
   "outputs": [],
   "source": []
  }
 ],
 "metadata": {
  "kernelspec": {
   "display_name": "Python 3 (ipykernel)",
   "language": "python",
   "name": "python3"
  },
  "language_info": {
   "codemirror_mode": {
    "name": "ipython",
    "version": 3
   },
   "file_extension": ".py",
   "mimetype": "text/x-python",
   "name": "python",
   "nbconvert_exporter": "python",
   "pygments_lexer": "ipython3",
   "version": "3.7.11"
  }
 },
 "nbformat": 4,
 "nbformat_minor": 5
}
