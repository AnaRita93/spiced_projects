{
 "cells": [
  {
   "cell_type": "code",
   "execution_count": 2,
   "id": "1f035187",
   "metadata": {},
   "outputs": [],
   "source": [
    "### 7.2 AR Model \n",
    "\n",
    "#1. Load the data \n",
    "\n",
    "import pandas as pd\n",
    "df = pd.read_csv('flights_remainder.csv')\n"
   ]
  },
  {
   "cell_type": "code",
   "execution_count": 3,
   "id": "34cdecce",
   "metadata": {},
   "outputs": [
    {
     "data": {
      "text/html": [
       "<div>\n",
       "<style scoped>\n",
       "    .dataframe tbody tr th:only-of-type {\n",
       "        vertical-align: middle;\n",
       "    }\n",
       "\n",
       "    .dataframe tbody tr th {\n",
       "        vertical-align: top;\n",
       "    }\n",
       "\n",
       "    .dataframe thead th {\n",
       "        text-align: right;\n",
       "    }\n",
       "</style>\n",
       "<table border=\"1\" class=\"dataframe\">\n",
       "  <thead>\n",
       "    <tr style=\"text-align: right;\">\n",
       "      <th></th>\n",
       "      <th>date</th>\n",
       "      <th>remainder</th>\n",
       "    </tr>\n",
       "  </thead>\n",
       "  <tbody>\n",
       "    <tr>\n",
       "      <th>0</th>\n",
       "      <td>1949-01-01</td>\n",
       "      <td>4.405303</td>\n",
       "    </tr>\n",
       "    <tr>\n",
       "      <th>1</th>\n",
       "      <td>1949-02-01</td>\n",
       "      <td>17.496212</td>\n",
       "    </tr>\n",
       "    <tr>\n",
       "      <th>2</th>\n",
       "      <td>1949-03-01</td>\n",
       "      <td>7.496212</td>\n",
       "    </tr>\n",
       "    <tr>\n",
       "      <th>3</th>\n",
       "      <td>1949-04-01</td>\n",
       "      <td>9.587121</td>\n",
       "    </tr>\n",
       "    <tr>\n",
       "      <th>4</th>\n",
       "      <td>1949-05-01</td>\n",
       "      <td>-5.231061</td>\n",
       "    </tr>\n",
       "  </tbody>\n",
       "</table>\n",
       "</div>"
      ],
      "text/plain": [
       "         date  remainder\n",
       "0  1949-01-01   4.405303\n",
       "1  1949-02-01  17.496212\n",
       "2  1949-03-01   7.496212\n",
       "3  1949-04-01   9.587121\n",
       "4  1949-05-01  -5.231061"
      ]
     },
     "execution_count": 3,
     "metadata": {},
     "output_type": "execute_result"
    }
   ],
   "source": [
    "df.head()"
   ]
  },
  {
   "cell_type": "code",
   "execution_count": 4,
   "id": "975b26ab",
   "metadata": {},
   "outputs": [],
   "source": [
    "#2. Create a time lagged input feature\n",
    "df['lag1'] = df['remainder'].shift(1)"
   ]
  },
  {
   "cell_type": "code",
   "execution_count": 5,
   "id": "af265d6f",
   "metadata": {},
   "outputs": [
    {
     "data": {
      "text/html": [
       "<div>\n",
       "<style scoped>\n",
       "    .dataframe tbody tr th:only-of-type {\n",
       "        vertical-align: middle;\n",
       "    }\n",
       "\n",
       "    .dataframe tbody tr th {\n",
       "        vertical-align: top;\n",
       "    }\n",
       "\n",
       "    .dataframe thead th {\n",
       "        text-align: right;\n",
       "    }\n",
       "</style>\n",
       "<table border=\"1\" class=\"dataframe\">\n",
       "  <thead>\n",
       "    <tr style=\"text-align: right;\">\n",
       "      <th></th>\n",
       "      <th>date</th>\n",
       "      <th>remainder</th>\n",
       "      <th>lag1</th>\n",
       "    </tr>\n",
       "  </thead>\n",
       "  <tbody>\n",
       "    <tr>\n",
       "      <th>0</th>\n",
       "      <td>1949-01-01</td>\n",
       "      <td>4.405303</td>\n",
       "      <td>NaN</td>\n",
       "    </tr>\n",
       "    <tr>\n",
       "      <th>1</th>\n",
       "      <td>1949-02-01</td>\n",
       "      <td>17.496212</td>\n",
       "      <td>4.405303</td>\n",
       "    </tr>\n",
       "    <tr>\n",
       "      <th>2</th>\n",
       "      <td>1949-03-01</td>\n",
       "      <td>7.496212</td>\n",
       "      <td>17.496212</td>\n",
       "    </tr>\n",
       "    <tr>\n",
       "      <th>3</th>\n",
       "      <td>1949-04-01</td>\n",
       "      <td>9.587121</td>\n",
       "      <td>7.496212</td>\n",
       "    </tr>\n",
       "    <tr>\n",
       "      <th>4</th>\n",
       "      <td>1949-05-01</td>\n",
       "      <td>-5.231061</td>\n",
       "      <td>9.587121</td>\n",
       "    </tr>\n",
       "  </tbody>\n",
       "</table>\n",
       "</div>"
      ],
      "text/plain": [
       "         date  remainder       lag1\n",
       "0  1949-01-01   4.405303        NaN\n",
       "1  1949-02-01  17.496212   4.405303\n",
       "2  1949-03-01   7.496212  17.496212\n",
       "3  1949-04-01   9.587121   7.496212\n",
       "4  1949-05-01  -5.231061   9.587121"
      ]
     },
     "execution_count": 5,
     "metadata": {},
     "output_type": "execute_result"
    }
   ],
   "source": [
    "df.head()"
   ]
  },
  {
   "cell_type": "code",
   "execution_count": 6,
   "id": "7fbcebe0",
   "metadata": {},
   "outputs": [
    {
     "data": {
      "text/html": [
       "<div>\n",
       "<style scoped>\n",
       "    .dataframe tbody tr th:only-of-type {\n",
       "        vertical-align: middle;\n",
       "    }\n",
       "\n",
       "    .dataframe tbody tr th {\n",
       "        vertical-align: top;\n",
       "    }\n",
       "\n",
       "    .dataframe thead th {\n",
       "        text-align: right;\n",
       "    }\n",
       "</style>\n",
       "<table border=\"1\" class=\"dataframe\">\n",
       "  <thead>\n",
       "    <tr style=\"text-align: right;\">\n",
       "      <th></th>\n",
       "      <th>remainder</th>\n",
       "      <th>lag1</th>\n",
       "    </tr>\n",
       "  </thead>\n",
       "  <tbody>\n",
       "    <tr>\n",
       "      <th>remainder</th>\n",
       "      <td>1.000000</td>\n",
       "      <td>0.758226</td>\n",
       "    </tr>\n",
       "    <tr>\n",
       "      <th>lag1</th>\n",
       "      <td>0.758226</td>\n",
       "      <td>1.000000</td>\n",
       "    </tr>\n",
       "  </tbody>\n",
       "</table>\n",
       "</div>"
      ],
      "text/plain": [
       "           remainder      lag1\n",
       "remainder   1.000000  0.758226\n",
       "lag1        0.758226  1.000000"
      ]
     },
     "execution_count": 6,
     "metadata": {},
     "output_type": "execute_result"
    }
   ],
   "source": [
    "#3. Calculate the correlation coefficient btween time lagged and original remainder\n",
    "\n",
    "df.corr()"
   ]
  },
  {
   "cell_type": "code",
   "execution_count": 7,
   "id": "1f09ae7c",
   "metadata": {},
   "outputs": [
    {
     "data": {
      "image/png": "[encoded data removed]",
      "text/plain": [
       "<Figure size 432x288 with 1 Axes>"
      ]
     },
     "metadata": {
      "needs_background": "light"
     },
     "output_type": "display_data"
    }
   ],
   "source": [
    "#Create a scatterplot\n",
    "import matplotlib.pyplot as plt\n",
    "\n",
    "plt.scatter( df['lag1'], df['remainder'])\n",
    "plt.title('Scatter plot pythonspot.com')\n",
    "plt.xlabel('x')\n",
    "plt.ylabel('y')\n",
    "plt.show()\n"
   ]
  },
  {
   "cell_type": "code",
   "execution_count": 8,
   "id": "3e83095c",
   "metadata": {},
   "outputs": [],
   "source": [
    "# Try the same for lag2 and lag3 the scatter plot \n",
    "\n",
    "df['lag2'] = df['remainder'].shift(2)\n",
    "df['lag3'] = df['remainder'].shift(3)"
   ]
  },
  {
   "cell_type": "code",
   "execution_count": 9,
   "id": "29979585",
   "metadata": {},
   "outputs": [
    {
     "data": {
      "image/png": "[encoded data removed]",
      "text/plain": [
       "<Figure size 432x288 with 1 Axes>"
      ]
     },
     "metadata": {
      "needs_background": "light"
     },
     "output_type": "display_data"
    }
   ],
   "source": [
    "plt.scatter( df['lag2'], df['remainder'])\n",
    "plt.title('Scatter plot pythonspot.com')\n",
    "plt.xlabel('x')\n",
    "plt.ylabel('y')\n",
    "plt.show()\n"
   ]
  },
  {
   "cell_type": "code",
   "execution_count": 10,
   "id": "cb8ee14c",
   "metadata": {},
   "outputs": [
    {
     "data": {
      "image/png": "[encoded data removed]",
      "text/plain": [
       "<Figure size 432x288 with 1 Axes>"
      ]
     },
     "metadata": {
      "needs_background": "light"
     },
     "output_type": "display_data"
    }
   ],
   "source": [
    "plt.scatter( df['lag3'], df['remainder'])\n",
    "plt.title('Scatter plot pythonspot.com')\n",
    "plt.xlabel('x')\n",
    "plt.ylabel('y')\n",
    "plt.show()\n"
   ]
  },
  {
   "cell_type": "code",
   "execution_count": 11,
   "id": "13f2316b",
   "metadata": {},
   "outputs": [
    {
     "data": {
      "text/html": [
       "<div>\n",
       "<style scoped>\n",
       "    .dataframe tbody tr th:only-of-type {\n",
       "        vertical-align: middle;\n",
       "    }\n",
       "\n",
       "    .dataframe tbody tr th {\n",
       "        vertical-align: top;\n",
       "    }\n",
       "\n",
       "    .dataframe thead th {\n",
       "        text-align: right;\n",
       "    }\n",
       "</style>\n",
       "<table border=\"1\" class=\"dataframe\">\n",
       "  <thead>\n",
       "    <tr style=\"text-align: right;\">\n",
       "      <th></th>\n",
       "      <th>remainder</th>\n",
       "      <th>lag1</th>\n",
       "      <th>lag2</th>\n",
       "      <th>lag3</th>\n",
       "    </tr>\n",
       "  </thead>\n",
       "  <tbody>\n",
       "    <tr>\n",
       "      <th>remainder</th>\n",
       "      <td>1.000000</td>\n",
       "      <td>0.758226</td>\n",
       "      <td>0.602811</td>\n",
       "      <td>0.394713</td>\n",
       "    </tr>\n",
       "    <tr>\n",
       "      <th>lag1</th>\n",
       "      <td>0.758226</td>\n",
       "      <td>1.000000</td>\n",
       "      <td>0.757158</td>\n",
       "      <td>0.600847</td>\n",
       "    </tr>\n",
       "    <tr>\n",
       "      <th>lag2</th>\n",
       "      <td>0.602811</td>\n",
       "      <td>0.757158</td>\n",
       "      <td>1.000000</td>\n",
       "      <td>0.756064</td>\n",
       "    </tr>\n",
       "    <tr>\n",
       "      <th>lag3</th>\n",
       "      <td>0.394713</td>\n",
       "      <td>0.600847</td>\n",
       "      <td>0.756064</td>\n",
       "      <td>1.000000</td>\n",
       "    </tr>\n",
       "  </tbody>\n",
       "</table>\n",
       "</div>"
      ],
      "text/plain": [
       "           remainder      lag1      lag2      lag3\n",
       "remainder   1.000000  0.758226  0.602811  0.394713\n",
       "lag1        0.758226  1.000000  0.757158  0.600847\n",
       "lag2        0.602811  0.757158  1.000000  0.756064\n",
       "lag3        0.394713  0.600847  0.756064  1.000000"
      ]
     },
     "execution_count": 11,
     "metadata": {},
     "output_type": "execute_result"
    }
   ],
   "source": [
    "df.corr()"
   ]
  },
  {
   "cell_type": "code",
   "execution_count": 13,
   "id": "b3abfda7",
   "metadata": {},
   "outputs": [
    {
     "name": "stdout",
     "output_type": "stream",
     "text": [
      "Figure(432x288)\n"
     ]
    },
    {
     "data": {
      "image/png": "[encoded data removed]",
      "text/plain": [
       "<Figure size 432x288 with 1 Axes>"
      ]
     },
     "metadata": {
      "needs_background": "light"
     },
     "output_type": "display_data"
    }
   ],
   "source": [
    "# plot the autocorrelation\n",
    "\n",
    "from statsmodels.graphics.tsaplots import plot_pacf\n",
    "\n",
    "print(plot_pacf(df['remainder']))"
   ]
  },
  {
   "cell_type": "code",
   "execution_count": 4,
   "id": "469ae238",
   "metadata": {},
   "outputs": [],
   "source": [
    "### Numpy exercise \n",
    "\n",
    "#a) put data into lists \n",
    "\n",
    "list1 = [0, 0, 0, 0, 0, 0, 0, 0]\n",
    "list2 = [1, 2, 3, 4, 5, 6, 7, 8]\n",
    "list3 = [2, 4, 6, 8, 10, 12, 14, 16]\n",
    "list4 = [1.0, 1.5, 2.0, 2.5, 3.0, 3.5, 4.0]\n",
    "list5 = [100, 200, 300, 400, 500, 600, 700, 800]\n",
    "list6 = [ 1,  4,  9, 16, 25, 36, 49, 64]\n",
    "list7 = [ 1,  2,  4,  8, 16, 32, 64, 128, 256]\n",
    "list8 = [[1, 2, 3, 4],[5, 6, 7, 8]]"
   ]
  },
  {
   "cell_type": "code",
   "execution_count": 5,
   "id": "d29e2893",
   "metadata": {},
   "outputs": [
    {
     "data": {
      "text/plain": [
       "[[1, 2, 3, 4], [5, 6, 7, 8]]"
      ]
     },
     "execution_count": 5,
     "metadata": {},
     "output_type": "execute_result"
    }
   ],
   "source": [
    "list8"
   ]
  },
  {
   "cell_type": "code",
   "execution_count": 7,
   "id": "f62a2632",
   "metadata": {},
   "outputs": [],
   "source": [
    "#b) create numpy arrays\n",
    "import numpy as np\n",
    "\n",
    "a1 = np.array([0, 0, 0, 0, 0, 0, 0, 0])\n",
    "a2 = np.array([1, 2, 3, 4, 5, 6, 7, 8])\n",
    "a3 = np.array([2, 4, 6, 8, 10, 12, 14, 16])\n",
    "a4 = np.array([1.0, 1.5, 2.0, 2.5, 3.0, 3.5, 4.0])\n",
    "a5 = np.array([100, 200, 300, 400, 500, 600, 700, 800])\n",
    "a6 = np.array([1,  4,  9, 16, 25, 36, 49, 64])\n",
    "a7 = np.array([ 1,  2,  4,  8, 16, 32, 64, 128, 256])\n",
    "a8 = np.array([[1, 2, 3, 4],[5, 6, 7, 8]])"
   ]
  },
  {
   "cell_type": "code",
   "execution_count": 11,
   "id": "07b4f54d",
   "metadata": {},
   "outputs": [
    {
     "data": {
      "text/plain": [
       "array([[1, 2, 3, 4],\n",
       "       [5, 6, 7, 8]])"
      ]
     },
     "execution_count": 11,
     "metadata": {},
     "output_type": "execute_result"
    }
   ],
   "source": [
    "a8"
   ]
  },
  {
   "cell_type": "code",
   "execution_count": 20,
   "id": "1a4ad7fa",
   "metadata": {},
   "outputs": [
    {
     "data": {
      "text/plain": [
       "array([0., 0., 0., 0., 0., 0., 0., 0.])"
      ]
     },
     "execution_count": 20,
     "metadata": {},
     "output_type": "execute_result"
    }
   ],
   "source": [
    "#c) use one liners only \n",
    "\n",
    "np.linspace(0,0,num=8)"
   ]
  },
  {
   "cell_type": "code",
   "execution_count": 48,
   "id": "e6b00c04",
   "metadata": {},
   "outputs": [
    {
     "data": {
      "text/plain": [
       "array([0, 0, 0, 0, 0, 0, 0, 0], dtype=int32)"
      ]
     },
     "execution_count": 48,
     "metadata": {},
     "output_type": "execute_result"
    }
   ],
   "source": [
    "np.zeros(8, dtype=np.int32)"
   ]
  },
  {
   "cell_type": "code",
   "execution_count": 49,
   "id": "c8d856fe",
   "metadata": {},
   "outputs": [
    {
     "data": {
      "text/plain": [
       "array([1, 2, 3, 4, 5, 6, 7, 8])"
      ]
     },
     "execution_count": 49,
     "metadata": {},
     "output_type": "execute_result"
    }
   ],
   "source": [
    "np.arange(1,9,step=1)"
   ]
  },
  {
   "cell_type": "code",
   "execution_count": 26,
   "id": "1be7e810",
   "metadata": {},
   "outputs": [
    {
     "data": {
      "text/plain": [
       "array([ 2,  4,  6,  8, 10, 12, 14, 16])"
      ]
     },
     "execution_count": 26,
     "metadata": {},
     "output_type": "execute_result"
    }
   ],
   "source": [
    "np.arange(2,18,step=2)"
   ]
  },
  {
   "cell_type": "code",
   "execution_count": 29,
   "id": "85230cd9",
   "metadata": {},
   "outputs": [
    {
     "data": {
      "text/plain": [
       "array([1. , 1.5, 2. , 2.5, 3. , 3.5, 4. ])"
      ]
     },
     "execution_count": 29,
     "metadata": {},
     "output_type": "execute_result"
    }
   ],
   "source": [
    "np.linspace(1,4,num=7)"
   ]
  },
  {
   "cell_type": "code",
   "execution_count": 32,
   "id": "f152f73f",
   "metadata": {},
   "outputs": [
    {
     "data": {
      "text/plain": [
       "array([100, 200, 300, 400, 500, 600, 700, 800])"
      ]
     },
     "execution_count": 32,
     "metadata": {},
     "output_type": "execute_result"
    }
   ],
   "source": [
    "np.arange(100,900,step=100)"
   ]
  },
  {
   "cell_type": "code",
   "execution_count": 65,
   "id": "591082c0",
   "metadata": {},
   "outputs": [
    {
     "name": "stdout",
     "output_type": "stream",
     "text": [
      "[1, 4, 9, 16, 25, 36, 49, 64]\n"
     ]
    }
   ],
   "source": [
    "#a6 = np.array([1,  4,  9, 16, 25, 36, 49, 64])\n",
    "\n",
    "print([i**2 for i in [1,2,3,4,5,6,7,8]])"
   ]
  },
  {
   "cell_type": "code",
   "execution_count": 67,
   "id": "c3439615",
   "metadata": {},
   "outputs": [
    {
     "data": {
      "text/plain": [
       "array([ 1,  4,  9, 16, 25, 36, 49, 64])"
      ]
     },
     "execution_count": 67,
     "metadata": {},
     "output_type": "execute_result"
    }
   ],
   "source": [
    "n = np.arange(1,9)\n",
    "(n**2)"
   ]
  },
  {
   "cell_type": "code",
   "execution_count": 69,
   "id": "cebfb99a",
   "metadata": {},
   "outputs": [
    {
     "name": "stdout",
     "output_type": "stream",
     "text": [
      "[1, 2, 4, 8, 16, 32, 64, 128, 256]\n"
     ]
    }
   ],
   "source": [
    "a7 = np.array([ 1,  2,  4,  8, 16, 32, 64, 128, 256])\n",
    "\n",
    "print([2**i for i in [0,1,2,3,4,5,6,7,8]])"
   ]
  },
  {
   "cell_type": "code",
   "execution_count": 70,
   "id": "9b2ae42b",
   "metadata": {},
   "outputs": [
    {
     "name": "stdout",
     "output_type": "stream",
     "text": [
      "[  1   2   4   8  16  32  64 128 256]\n"
     ]
    }
   ],
   "source": [
    "print(2**np.arange(0,9))"
   ]
  },
  {
   "cell_type": "code",
   "execution_count": 74,
   "id": "a0e35aad",
   "metadata": {},
   "outputs": [
    {
     "name": "stdout",
     "output_type": "stream",
     "text": [
      "[[1, 2, 3, 4], [5, 6, 7, 8]]\n"
     ]
    }
   ],
   "source": [
    "#[[1, 2, 3, 4]\n",
    "# [5, 6, 7, 8]])\n",
    "data =[]\n",
    "for y in range(2):\n",
    "    row =[]\n",
    "    for x in range(1,5):\n",
    "        number = x+y*4\n",
    "        row.append(number)\n",
    "    data.append(row)\n",
    "print(data)\n",
    "        "
   ]
  },
  {
   "cell_type": "code",
   "execution_count": 75,
   "id": "f2def338",
   "metadata": {},
   "outputs": [
    {
     "name": "stdout",
     "output_type": "stream",
     "text": [
      "[[1 2 3 4]\n",
      " [5 6 7 8]]\n"
     ]
    }
   ],
   "source": [
    "a = np.arange(1,9)\n",
    "b = a.reshape(2,4)\n",
    "print(b)"
   ]
  },
  {
   "cell_type": "code",
   "execution_count": 13,
   "id": "5df49d63",
   "metadata": {},
   "outputs": [],
   "source": [
    "#### Drawing Map plots\n",
    "\n",
    "import pandas as pd\n",
    "import numpy as np"
   ]
  },
  {
   "cell_type": "code",
   "execution_count": 6,
   "id": "ffff79f3",
   "metadata": {},
   "outputs": [],
   "source": [
    "# dictionary(looking up things quickly)\n",
    "\n",
    "d = {'Germany':17.0,'Portugal':25, 'Finland':7, 'Poland':17, 'France':19}"
   ]
  },
  {
   "cell_type": "code",
   "execution_count": 5,
   "id": "600fdc1d",
   "metadata": {},
   "outputs": [
    {
     "data": {
      "text/plain": [
       "Germany     17.0\n",
       "Portugal    25.0\n",
       "Finland      7.0\n",
       "Poland      17.0\n",
       "France      19.0\n",
       "Name: temperature, dtype: float64"
      ]
     },
     "execution_count": 5,
     "metadata": {},
     "output_type": "execute_result"
    }
   ],
   "source": [
    "# pandas(plotting,aggregation)\n",
    "pd.Series(d, name='temperature')"
   ]
  },
  {
   "cell_type": "code",
   "execution_count": 11,
   "id": "c57501f2",
   "metadata": {},
   "outputs": [
    {
     "data": {
      "text/plain": [
       "(['Germany', 'Portugal', 'Finland', 'Poland', 'France'], [17.0, 25, 7, 17, 19])"
      ]
     },
     "execution_count": 11,
     "metadata": {},
     "output_type": "execute_result"
    }
   ],
   "source": [
    "# lists(looping and sorting)\n",
    "countries = list(d.keys())\n",
    "values = list(d.values())\n",
    "countries, values"
   ]
  },
  {
   "cell_type": "code",
   "execution_count": 14,
   "id": "1b6cb2e3",
   "metadata": {},
   "outputs": [
    {
     "data": {
      "text/plain": [
       "(array(dict_keys(['Germany', 'Portugal', 'Finland', 'Poland', 'France']),\n",
       "       dtype=object),\n",
       " array(dict_values([17.0, 25, 7, 17, 19]), dtype=object))"
      ]
     },
     "execution_count": 14,
     "metadata": {},
     "output_type": "execute_result"
    }
   ],
   "source": [
    "# numpy array (number crunching)\n",
    "countries = np.array(d.keys())\n",
    "values = np.array(d.values())\n",
    "countries, values"
   ]
  },
  {
   "cell_type": "code",
   "execution_count": null,
   "id": "acd42670",
   "metadata": {},
   "outputs": [],
   "source": [
    "# libraries for plotting maps : geopandas \n",
    "# 3 dimensional data (cubes): year/month/day; images(rows, columns, color channels); latitude/longitude/altitude"
   ]
  },
  {
   "cell_type": "code",
   "execution_count": null,
   "id": "3941f5a4",
   "metadata": {},
   "outputs": [],
   "source": [
    "#Dealing with GeoJSON\n",
    "\n",
    "import folium\n",
    "europe = folium.Map"
   ]
  }
 ],
 "metadata": {
  "kernelspec": {
   "display_name": "Python 3 (ipykernel)",
   "language": "python",
   "name": "python3"
  },
  "language_info": {
   "codemirror_mode": {
    "name": "ipython",
    "version": 3
   },
   "file_extension": ".py",
   "mimetype": "text/x-python",
   "name": "python",
   "nbconvert_exporter": "python",
   "pygments_lexer": "ipython3",
   "version": "3.7.11"
  }
 },
 "nbformat": 4,
 "nbformat_minor": 5
}
