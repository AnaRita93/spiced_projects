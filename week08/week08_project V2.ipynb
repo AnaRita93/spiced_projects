{
 "cells": [
  {
   "cell_type": "code",
   "execution_count": 2,
   "id": "e4b7fab6",
   "metadata": {},
   "outputs": [
    {
     "ename": "ModuleNotFoundError",
     "evalue": "No module named 'seaborn'",
     "output_type": "error",
     "traceback": [
      "\u001B[0;31m---------------------------------------------------------------------------\u001B[0m",
      "\u001B[0;31mModuleNotFoundError\u001B[0m                       Traceback (most recent call last)",
      "\u001B[0;32m/tmp/ipykernel_652155/569390731.py\u001B[0m in \u001B[0;36m<module>\u001B[0;34m\u001B[0m\n\u001B[1;32m      4\u001B[0m \u001B[0;34m\u001B[0m\u001B[0m\n\u001B[1;32m      5\u001B[0m \u001B[0;31m#plotting\u001B[0m\u001B[0;34m\u001B[0m\u001B[0;34m\u001B[0m\u001B[0;34m\u001B[0m\u001B[0m\n\u001B[0;32m----> 6\u001B[0;31m \u001B[0;32mimport\u001B[0m \u001B[0mseaborn\u001B[0m \u001B[0;32mas\u001B[0m \u001B[0msns\u001B[0m\u001B[0;34m\u001B[0m\u001B[0;34m\u001B[0m\u001B[0m\n\u001B[0m\u001B[1;32m      7\u001B[0m \u001B[0;32mfrom\u001B[0m \u001B[0mmatplotlib\u001B[0m\u001B[0;34m.\u001B[0m\u001B[0mpyplot\u001B[0m \u001B[0;32mimport\u001B[0m \u001B[0mfigure\u001B[0m\u001B[0;34m\u001B[0m\u001B[0;34m\u001B[0m\u001B[0m\n\u001B[1;32m      8\u001B[0m \u001B[0;34m\u001B[0m\u001B[0m\n",
      "\u001B[0;31mModuleNotFoundError\u001B[0m: No module named 'seaborn'"
     ]
    }
   ],
   "source": [
    "#data\n",
    "import pandas as pd\n",
    "from datetime import datetime as dt\n",
    "\n",
    "#plotting\n",
    "import seaborn as sns\n",
    "from matplotlib.pyplot import figure\n",
    "\n",
    "#selection\n",
    "import random"
   ]
  },
  {
   "cell_type": "code",
   "execution_count": null,
   "id": "4d6f267e",
   "metadata": {},
   "outputs": [],
   "source": [
    "#read CSV\n",
    "tuesday = pd.read_csv('/Documents/spiced/spiced-projects/convex_capers_student_code/week08/tuesday.csv ',sep = ';')"
   ]
  },
  {
   "cell_type": "code",
   "execution_count": null,
   "id": "af817b5c",
   "metadata": {},
   "outputs": [],
   "source": [
    "#convert to timestamp\n",
    "\n",
    "tuesday['timestamp'] = pd.to_datetime(tuesday['timestamp'], infer_datetime_format=True)"
   ]
  },
  {
   "cell_type": "code",
   "execution_count": null,
   "id": "176ec950",
   "metadata": {},
   "outputs": [],
   "source": [
    "### Visualize the total of customers in the supermarket over time \n",
    "tuesday['hour'] = tuesday['timestamp'].dt.hour\n",
    "tuesday[tuesday['hour']==7]"
   ]
  },
  {
   "cell_type": "code",
   "execution_count": null,
   "id": "3613e080",
   "metadata": {},
   "outputs": [],
   "source": [
    "figure(figsize=(8, 6))\n",
    "sns.histplot(data=tuesday, x='hour')"
   ]
  },
  {
   "cell_type": "code",
   "execution_count": null,
   "id": "fc4103aa",
   "metadata": {},
   "outputs": [],
   "source": [
    "# per department\n",
    "sns.set_theme(style=\"darkgrid\")\n",
    "\n",
    "sns.displot(\n",
    "    tuesday, x=\"hour\",col='location', col_wrap=5,\n",
    "    binwidth=1, height= 3, facet_kws=dict(margin_titles=True))"
   ]
  },
  {
   "cell_type": "code",
   "execution_count": null,
   "id": "16e8f79d",
   "metadata": {},
   "outputs": [],
   "source": [
    "## Data wrangling:\n",
    "# 1. sort by customer number (for time sequency) \n",
    "\n",
    "tuesday = tuesday.sort_values(by=['customer_no','timestamp'])"
   ]
  },
  {
   "cell_type": "code",
   "execution_count": null,
   "id": "5260ae42",
   "metadata": {},
   "outputs": [],
   "source": [
    "# 2. create first location list for the calculation of transitions. \n",
    "#    list is done by iteration over each customer locations separately\n",
    "\n",
    "\n",
    "cust_time = tuesday.groupby('customer_no')\n",
    "first_location = []\n",
    "\n",
    "for customer, df_locations in cust_time:\n",
    "    x = list(df_locations['location'].shift(1))\n",
    "    first_location += x\n",
    " \n",
    "print(len(first_location))"
   ]
  },
  {
   "cell_type": "code",
   "execution_count": null,
   "id": "fcf095ff",
   "metadata": {},
   "outputs": [],
   "source": [
    "# 3. add the list to the dataframe as column\n",
    "# 4. fill na with 0 for each first location for each costumer\n",
    "\n",
    "tuesday['first_location'] = first_location\n",
    "tuesday['first_location'] = tuesday['first_location'].fillna(0)\n",
    "tuesday.head(10)"
   ]
  },
  {
   "cell_type": "code",
   "execution_count": null,
   "id": "d26a0756",
   "metadata": {},
   "outputs": [],
   "source": [
    "# set opening hour as datetime, for timedelta calculation\n",
    "\n",
    "date_time_str = '3/09/19 07:00:00'\n",
    "opening = dt.strptime(date_time_str, '%d/%m/%y %H:%M:%S')\n"
   ]
  },
  {
   "cell_type": "code",
   "execution_count": null,
   "id": "d544de15",
   "metadata": {},
   "outputs": [],
   "source": [
    "# 5. create a column of minute counter \n",
    "#    to count the minutes since opening to current event (customer in location)\n",
    "\n",
    "tuesday['min_counter'] = tuesday['timestamp'] - opening\n",
    "tuesday['minutes'] = tuesday['min_counter'].dt.components['minutes'] + tuesday['min_counter'].dt.components['hours']*60\n",
    "tuesday.tail()\n"
   ]
  },
  {
   "cell_type": "code",
   "execution_count": 3,
   "id": "4de5318a",
   "metadata": {},
   "outputs": [
    {
     "ename": "ModuleNotFoundError",
     "evalue": "No module named 'seaborn'",
     "output_type": "error",
     "traceback": [
      "\u001B[0;31m---------------------------------------------------------------------------\u001B[0m",
      "\u001B[0;31mModuleNotFoundError\u001B[0m                       Traceback (most recent call last)",
      "\u001B[0;32m/tmp/ipykernel_652155/3433544097.py\u001B[0m in \u001B[0;36m<module>\u001B[0;34m\u001B[0m\n\u001B[1;32m      1\u001B[0m \u001B[0;31m# visualize number of customers in departments\u001B[0m\u001B[0;34m\u001B[0m\u001B[0;34m\u001B[0m\u001B[0;34m\u001B[0m\u001B[0m\n\u001B[0;32m----> 2\u001B[0;31m \u001B[0;32mimport\u001B[0m \u001B[0mseaborn\u001B[0m \u001B[0;32mas\u001B[0m \u001B[0msns\u001B[0m\u001B[0;34m\u001B[0m\u001B[0;34m\u001B[0m\u001B[0m\n\u001B[0m\u001B[1;32m      3\u001B[0m \u001B[0msns\u001B[0m\u001B[0;34m.\u001B[0m\u001B[0mset_theme\u001B[0m\u001B[0;34m(\u001B[0m\u001B[0mstyle\u001B[0m\u001B[0;34m=\u001B[0m\u001B[0;34m\"darkgrid\"\u001B[0m\u001B[0;34m)\u001B[0m\u001B[0;34m\u001B[0m\u001B[0;34m\u001B[0m\u001B[0m\n\u001B[1;32m      4\u001B[0m sns.displot(\n\u001B[1;32m      5\u001B[0m     \u001B[0mtuesday\u001B[0m\u001B[0;34m,\u001B[0m \u001B[0mx\u001B[0m\u001B[0;34m=\u001B[0m\u001B[0;34m\"minutes\"\u001B[0m\u001B[0;34m,\u001B[0m\u001B[0mcol\u001B[0m\u001B[0;34m=\u001B[0m\u001B[0;34m'location'\u001B[0m\u001B[0;34m,\u001B[0m \u001B[0mcol_wrap\u001B[0m\u001B[0;34m=\u001B[0m\u001B[0;36m4\u001B[0m\u001B[0;34m,\u001B[0m\u001B[0;34m\u001B[0m\u001B[0;34m\u001B[0m\u001B[0m\n",
      "\u001B[0;31mModuleNotFoundError\u001B[0m: No module named 'seaborn'"
     ]
    }
   ],
   "source": [
    "# visualize number of customers in departments\n",
    "import seaborn as sns\n",
    "sns.set_theme(style=\"darkgrid\")\n",
    "sns.displot(\n",
    "    tuesday, x=\"minutes\",col='location', col_wrap=4,\n",
    "    binwidth=10, height= 8, facet_kws=dict(margin_titles=True))"
   ]
  },
  {
   "cell_type": "code",
   "execution_count": null,
   "id": "1d9dcce5",
   "metadata": {},
   "outputs": [],
   "source": [
    "# function definitions:\n",
    "\n",
    "def select_time_window_along_day(init_time,day_df):\n",
    "    \"\"\" chooses time window of 10 minutes from the initial time in the daily data \"\"\"\n",
    "\n",
    "    end_time_window = init_time +9\n",
    "    window_10min = day_df.loc[day_df['minutes'].between(init_time,end_time_window)]\n",
    "\n",
    "    return window_10min"
   ]
  },
  {
   "cell_type": "code",
   "execution_count": null,
   "id": "341098dd",
   "metadata": {},
   "outputs": [],
   "source": [
    "\n",
    "def generate_prob_matrix(df):\n",
    "    ''' generates probability matrix given a df with [customers, locations and first location]'''\n",
    "\n",
    "    prob_m_create = pd.crosstab(df['first_location'], df['location'], normalize=0)\n",
    "    prob_m_create = prob_m_create.drop([0],axis=0)\n",
    "    prob_matrix = prob_m_create.transpose()\n",
    "    prob_dict = prob_matrix.to_dict(orient='list')\n",
    "    \n",
    "    \n",
    "    return prob_matrix, prob_dict"
   ]
  },
  {
   "cell_type": "code",
   "execution_count": null,
   "id": "234678be",
   "metadata": {},
   "outputs": [],
   "source": [
    "def mc_simulation(i,prob_matrix,prob_dict):\n",
    "    ''' creates customer simulation based on the first location i, probability matrix and probabiity dictionary.\n",
    "        returns llist with locations on the way of the customer. \n",
    "        does not handle customers that did not go to checkout'''\n",
    "        \n",
    "    States = prob_matrix.index\n",
    "    history = [i]\n",
    "        \n",
    "    while history[-1] != 'checkout':\n",
    "             \n",
    "        probs = prob_dict[history[-1]]\n",
    "        #print(probs)\n",
    "        next_state = random.choices(States,probs)[0]\n",
    "        #print(next_state)\n",
    "        history.append(next_state)\n",
    "\n",
    "    return history"
   ]
  },
  {
   "cell_type": "code",
   "execution_count": null,
   "id": "d50ed914",
   "metadata": {},
   "outputs": [],
   "source": [
    "# attempt all functions, not in loop: (does not function for init_time = 0)\n",
    "init_time = 10\n",
    "tuesday.head()\n",
    "time_of_day_df = select_time_window_along_day(init_time,tuesday)\n",
    "prob_m , prob_d = generate_prob_matrix(time_of_day_df)\n",
    "\n",
    "states = list(prob_d.keys())\n",
    "# type(states)\n",
    "# states\n",
    "\n",
    "k = random.choices(states,[0.25]*len(states))\n",
    "i = k[0]\n",
    "\n",
    "mc_simulation(i,prob_m,prob_d)\n"
   ]
  },
  {
   "cell_type": "code",
   "execution_count": null,
   "id": "39b5b9c1",
   "metadata": {},
   "outputs": [],
   "source": [
    "# simulation for tuesday, gaps of 10 minutes\n",
    "#functions: 1. create time window df 2. generate matrix 3. perform simulation\n",
    "\n",
    "simulation_tuesday = []\n",
    "\n",
    "for time_window_10_min in range (60*(22-7)): \n",
    "    init_time = 10\n",
    "    \n",
    "    \n",
    "    time_of_day_df = select_time_window_along_day(init_time,tuesday)\n",
    "    prob_m , prob_d = generate_prob_matrix(time_of_day_df)\n",
    "    \n",
    "    states = list(prob_d.keys())\n",
    "    k = random.choices(states,[0.25]*len(states))\n",
    "    \n",
    "    i = k[0]\n",
    "\n",
    "    history = mc_simulation(i, prob_m , prob_d)\n",
    "    simulation_tuesday.append(history)\n",
    "    #print(history)\n",
    "\n",
    "    init_time += 10\n",
    "\n",
    "   "
   ]
  },
  {
   "cell_type": "markdown",
   "id": "0477b4b6",
   "metadata": {},
   "source": [
    "todo: \n",
    "-- solve the problem with first 10 minutes (cm_simulator does not take the probability sets correct since one location is missing from the list?  )\n",
    "-- why does the csv have so many columns?\n",
    "d - output: \n",
    "        1. 10 min timestamp\n",
    "        2. count of customers in each location\n",
    "        3. locations list for each customer\n",
    "\n",
    "-- output :\n",
    "1. indications of time block in a list\n",
    "2. 5 lists list for every location, each item is the number of customers in each time block\n",
    "        (1 and 2 should have same length)\n",
    "3. create df from the lists        \n",
    "\n",
    "4. show in a graph along the day\n"
   ]
  },
  {
   "cell_type": "code",
   "execution_count": null,
   "id": "0c617bc5",
   "metadata": {},
   "outputs": [],
   "source": [
    "tuesday_simulation = pd.DataFrame(simulation_tuesday)\n",
    "tuesday_simulation.to_csv('customer_simulation_tuesday.csv') "
   ]
  },
  {
   "cell_type": "code",
   "execution_count": null,
   "id": "9e2355b5",
   "metadata": {},
   "outputs": [],
   "source": [
    "f = pd.read_csv('customer_simulation_tuesday.csv')\n",
    "f"
   ]
  }
 ],
 "metadata": {
  "interpreter": {
   "hash": "d56eff1e95585c7b8e38f92eb4fa5f5eb2042f337c86dcf7458782e103be8607"
  },
  "kernelspec": {
   "display_name": "Python 3 (ipykernel)",
   "language": "python",
   "name": "python3"
  },
  "language_info": {
   "codemirror_mode": {
    "name": "ipython",
    "version": 3
   },
   "file_extension": ".py",
   "mimetype": "text/x-python",
   "name": "python",
   "nbconvert_exporter": "python",
   "pygments_lexer": "ipython3",
   "version": "3.7.11"
  }
 },
 "nbformat": 4,
 "nbformat_minor": 5
}