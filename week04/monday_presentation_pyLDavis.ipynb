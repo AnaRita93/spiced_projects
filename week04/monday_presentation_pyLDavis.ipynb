{
 "cells": [
  {
   "cell_type": "code",
   "execution_count": null,
   "id": "4fa9c3c3",
   "metadata": {},
   "outputs": [],
   "source": [
    "# pyLDAvis\n",
    "# Sources:\n",
    "# https://towardsdatascience.com/nlp-part-3-exploratory-data-analysis-of-text-data-1caa8ab3f79d\n",
    "# https://github.com/bmabey/pyLDAvis\n",
    "# Latent Dirichlet Allocation (LDA) Topic Modelling \n"
   ]
  },
  {
   "cell_type": "code",
   "execution_count": null,
   "id": "003985ce",
   "metadata": {},
   "outputs": [],
   "source": [
    "import pyLDAvis.sklearn\n",
    "from sklearn.decomposition import LatentDirichletAllocation"
   ]
  },
  {
   "cell_type": "code",
   "execution_count": null,
   "id": "720e279b",
   "metadata": {},
   "outputs": [],
   "source": [
    "#Latent Dirichlet Allocation (LDA) Topic Modeling\n",
    "## https://www.tidytextmining.com/topicmodeling.html#library-heist\n",
    "##Assumption 1: every document is a mixture of topics\n",
    "##Assumption 2: every topic is a mixture of words \n",
    "\n",
    "lda_model = LatentDirichletAllocation(n_components=10, learning_method='online', max_iter=500, random_state=0).fit(X)\n"
   ]
  },
  {
   "cell_type": "code",
   "execution_count": null,
   "id": "292ecad3",
   "metadata": {},
   "outputs": [],
   "source": [
    "# After the data is vectorized, we can use LDA approach to find out topics present in the corpus of the fited model\n",
    "# Lets find out the Top 10 topics and display them using a function\n",
    "# Each topic will have 10 words \n",
    "# the function will have 3 parameters, LDA model, feature names from the term matrix and the number of words per topic \n",
    "no_top_words = 25\n",
    "\n",
    "def display_topics(model, feature_names, no_top_words):\n",
    "    for topic_idx, topic in enumerate(model.components_):\n",
    "        print(\"Topic %d:\" % (topic_idx))\n",
    "        print(\" \".join([feature_names[i]\n",
    "                          for i in topic.argsort()[:-no_top_words - 1:-1]]))\n",
    "\n",
    "display_topics(lda_model, vectorizer.get_feature_names(), no_top_words)"
   ]
  },
  {
   "cell_type": "code",
   "execution_count": null,
   "id": "4a8b5673",
   "metadata": {},
   "outputs": [],
   "source": [
    "\n",
    "#pyLDAvis is an interactive LDA visualization python library.\n",
    "\n",
    "#How to interpret: \n",
    "#Each circle represents a unique topic, \n",
    "#the size of the circle represents the importance of the topic and finally, \n",
    "#the distance between each circle represents how similar the topics are to each other. \n",
    "\n",
    "#Selecting a topic/circle will reveal a horizontal bar chart displaying the 30 most relevant words for the topic \n",
    "#along with the frequency of each word appearing in the topic and the overall corpus.\n",
    "\n",
    "#pyLDvis\n",
    "\n",
    "pyLDAvis.enable_notebook()\n",
    "panel = pyLDAvis.sklearn.prepare(lda_model, X,vectorizer, mds='tsne')\n",
    "panel"
   ]
  }
 ],
 "metadata": {
  "kernelspec": {
   "display_name": "Python 3 (ipykernel)",
   "language": "python",
   "name": "python3"
  },
  "language_info": {
   "codemirror_mode": {
    "name": "ipython",
    "version": 3
   },
   "file_extension": ".py",
   "mimetype": "text/x-python",
   "name": "python",
   "nbconvert_exporter": "python",
   "pygments_lexer": "ipython3",
   "version": "3.7.11"
  }
 },
 "nbformat": 4,
 "nbformat_minor": 5
}
