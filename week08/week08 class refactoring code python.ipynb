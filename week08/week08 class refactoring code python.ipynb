{
 "cells": [
  {
   "cell_type": "code",
   "execution_count": null,
   "id": "863b6fb3",
   "metadata": {},
   "outputs": [],
   "source": [
    "#### EXERCISE 1:"
   ]
  },
  {
   "cell_type": "code",
   "execution_count": 1,
   "id": "30c96465",
   "metadata": {},
   "outputs": [
    {
     "name": "stdout",
     "output_type": "stream",
     "text": [
      "berlin                    691\n",
      "retrieved                 220\n",
      "german                    129\n",
      "germany                    97\n",
      "archived                   77\n",
      "world                      74\n",
      "original                   73\n",
      "august                     63\n",
      "april                      58\n",
      "brandenburg                56\n",
      "which                      51\n",
      "capital                    46\n",
      "largest                    45\n",
      "february                   45\n",
      "november                   44\n",
      "cities                     39\n",
      "museum                     37\n",
      "october                    37\n",
      "berliner                   36\n",
      "since                      36\n"
     ]
    }
   ],
   "source": [
    "\"\"\"\n",
    "Count words on wikipedia pages\n",
    "\"\"\"\n",
    "import requests\n",
    "import re\n",
    "from bs4 import BeautifulSoup\n",
    "from collections import Counter\n",
    "\n",
    "# download the page\n",
    "title = 'Berlin'\n",
    "url = f'http://wikipedia.org/wiki/{title}'\n",
    "response = requests.get(url)\n",
    "html = response.text\n",
    "\n",
    "# get words with 5+ characters\n",
    "soup = BeautifulSoup(html)\n",
    "text = soup.text\n",
    "words = re.findall('[a-zA-Z]{5,}', text.lower())\n",
    "\n",
    "# find most common words\n",
    "counter = Counter(words)\n",
    "for word, count in counter.most_common(20):\n",
    "    print(f\"{word:20} {count:8}\")"
   ]
  },
  {
   "cell_type": "code",
   "execution_count": 22,
   "id": "116df272",
   "metadata": {},
   "outputs": [],
   "source": [
    "### Refactoring code ### version 1\n",
    "\n",
    "title = 'Berlin'\n",
    "url = f'http://wikipedia.org/wiki/{title}'\n",
    "\n",
    "def getData(url):\n",
    "    response = requests.get(url)\n",
    "    html = response.text\n",
    "    return html\n",
    "    "
   ]
  },
  {
   "cell_type": "code",
   "execution_count": 23,
   "id": "14d26bfd",
   "metadata": {},
   "outputs": [],
   "source": [
    "def htmlFunction(html):\n",
    "    soup = BeautifulSoup(html)\n",
    "    text = soup.text\n",
    "    words = re.findall('[a-zA-Z]{5,}', text.lower())\n",
    "    return words\n",
    "\n",
    "words = htmlFunction(getData(url))"
   ]
  },
  {
   "cell_type": "code",
   "execution_count": 24,
   "id": "5e795508",
   "metadata": {},
   "outputs": [
    {
     "name": "stdout",
     "output_type": "stream",
     "text": [
      "berlin                    691\n",
      "retrieved                 220\n",
      "german                    129\n",
      "germany                    97\n",
      "archived                   77\n",
      "world                      74\n",
      "original                   73\n",
      "august                     63\n",
      "april                      58\n",
      "brandenburg                56\n",
      "which                      51\n",
      "capital                    46\n",
      "largest                    45\n",
      "february                   45\n",
      "november                   44\n",
      "cities                     39\n",
      "museum                     37\n",
      "october                    37\n",
      "berliner                   36\n",
      "since                      36\n"
     ]
    }
   ],
   "source": [
    "def thirdFunction(words):\n",
    "    counter = Counter(words)\n",
    "    for word, count in counter.most_common(20):\n",
    "        print(f\"{word:20} {count:8}\")\n",
    "\n",
    "thirdFunction(words)"
   ]
  },
  {
   "cell_type": "code",
   "execution_count": null,
   "id": "fe365046",
   "metadata": {},
   "outputs": [],
   "source": [
    "### Refactoring code ### version 2 (with classes)"
   ]
  },
  {
   "cell_type": "code",
   "execution_count": null,
   "id": "e6c71691",
   "metadata": {},
   "outputs": [],
   "source": [
    "### EXERCISE 2: "
   ]
  },
  {
   "cell_type": "code",
   "execution_count": null,
   "id": "a1f73d7f",
   "metadata": {},
   "outputs": [],
   "source": [
    "from random import * # Only import the packages you need\n",
    "\n",
    "STATES = [\n",
    "'airport', 'air', 'crashed'    \n",
    "]\n",
    "\n",
    "def mcmc(i, P):                            # rename variable names and parameter names\n",
    "    list = [i]                             # list should not be a variable name, it's reserved name from python\n",
    "    s = i\n",
    "    while s!='crashed':                    \n",
    "        probs = P[s]\n",
    "        s = choices(STATES, probs) [0]     # There is complete lack of documentation\n",
    "        list.append(s)                     # people(future you included) should not figure out your code\n",
    "        if list[-1] == 'crashed':\n",
    "            return list\n",
    "\n",
    "P = {\n",
    "    'airport': [0.4, 0.6, 0.0],\n",
    "    'air': [0.8, 0.19999, 0.00001],\n",
    "}\n",
    "print(f\"crashed after {len(mcmc('airport', P))} days of service\")"
   ]
  },
  {
   "cell_type": "code",
   "execution_count": 25,
   "id": "40d4cef0",
   "metadata": {},
   "outputs": [
    {
     "name": "stdout",
     "output_type": "stream",
     "text": [
      "Requirement already satisfied: flake8 in /home/rita/anaconda3/lib/python3.7/site-packages (3.9.2)\n",
      "Requirement already satisfied: pyflakes<2.4.0,>=2.3.0 in /home/rita/anaconda3/lib/python3.7/site-packages (from flake8) (2.3.1)\n",
      "Requirement already satisfied: importlib-metadata in /home/rita/anaconda3/lib/python3.7/site-packages (from flake8) (3.10.0)\n",
      "Requirement already satisfied: mccabe<0.7.0,>=0.6.0 in /home/rita/anaconda3/lib/python3.7/site-packages (from flake8) (0.6.1)\n",
      "Requirement already satisfied: pycodestyle<2.8.0,>=2.7.0 in /home/rita/anaconda3/lib/python3.7/site-packages (from flake8) (2.7.0)\n",
      "Requirement already satisfied: typing-extensions>=3.6.4 in /home/rita/anaconda3/lib/python3.7/site-packages (from importlib-metadata->flake8) (3.10.0.0)\n",
      "Requirement already satisfied: zipp>=0.5 in /home/rita/anaconda3/lib/python3.7/site-packages (from importlib-metadata->flake8) (3.5.0)\n",
      "Note: you may need to restart the kernel to use updated packages.\n"
     ]
    }
   ],
   "source": [
    "pip install flake8"
   ]
  },
  {
   "cell_type": "code",
   "execution_count": null,
   "id": "a8169689",
   "metadata": {},
   "outputs": [],
   "source": [
    "flake"
   ]
  }
 ],
 "metadata": {
  "kernelspec": {
   "display_name": "Python 3 (ipykernel)",
   "language": "python",
   "name": "python3"
  },
  "language_info": {
   "codemirror_mode": {
    "name": "ipython",
    "version": 3
   },
   "file_extension": ".py",
   "mimetype": "text/x-python",
   "name": "python",
   "nbconvert_exporter": "python",
   "pygments_lexer": "ipython3",
   "version": "3.7.11"
  }
 },
 "nbformat": 4,
 "nbformat_minor": 5
}
