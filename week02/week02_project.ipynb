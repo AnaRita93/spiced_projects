{
 "cells": [
  {
   "cell_type": "code",
   "execution_count": null,
   "id": "c0b853d5",
   "metadata": {},
   "outputs": [],
   "source": [
    "##WEEK 02 ASSIGNMENT : TITANIC DATA\n",
    "\n",
    "###Step 1: Business Goal\n",
    "###Step 2: Load and inspect Data\n",
    "###Step 3: Train-Test Split (df_train and df_test)\n",
    "###Step 4: Exploratory Data Analysis on df_train \n",
    "## Step 5: Baseline model + Evaluation metrics - DecisionTree Classifier, Logistic Regression, Random Forest\n",
    "###Step 6: Feature Engineering on df_train and df_test (Pipeline + Feature expansion + feature selection)\n",
    "###Step 7: Iterate the transformed models. Optimize hyperparameters \n",
    "###Step 8: Make predictions for Titanic Kaggle challenge and submit results \n"
   ]
  },
  {
   "cell_type": "code",
   "execution_count": 26,
   "id": "8b13c762",
   "metadata": {},
   "outputs": [],
   "source": [
    "#Packages\n",
    "import pandas as pd\n",
    "import seaborn as sns\n",
    "import numpy as np\n",
    "import matplotlib.pyplot as plt\n",
    "\n",
    "from sklearn.pipeline import Pipeline\n",
    "from sklearn.compose import ColumnTransformer\n",
    "from sklearn.pipeline import make_pipeline\n",
    "from sklearn.pipeline import Pipeline\n",
    "from sklearn.compose import make_column_transformer\n",
    "from sklearn.preprocessing import KBinsDiscretizer\n",
    "from sklearn.preprocessing import OneHotEncoder, StandardScaler\n",
    "from sklearn.preprocessing import StandardScaler\n",
    "from sklearn.preprocessing import PolynomialFeatures\n",
    "\n",
    "from statsmodels.stats.outliers_influence import variance_inflation_factor\n",
    "from statsmodels.api import add_constant \n",
    "from statsmodels.api import OLS, add_constant\n",
    "from sklearn.feature_selection import RFE\n",
    "import statsmodels.api as sm\n",
    "\n",
    "from sklearn.linear_model import LogisticRegression\n",
    "from sklearn.ensemble import RandomForestClassifier\n",
    "from sklearn.tree import DecisionTreeClassifier\n",
    "\n",
    "\n",
    "from sklearn.model_selection import train_test_split\n",
    "from sklearn.metrics import accuracy_score\n",
    "from sklearn.metrics import precision_score\n",
    "from sklearn.metrics import recall_score\n",
    "from sklearn.metrics import f1_score\n",
    "from sklearn.metrics import classification_report\n",
    "from sklearn.metrics import confusion_matrix, ConfusionMatrixDisplay\n",
    "from sklearn.metrics import plot_roc_curve, auc, roc_curve\n",
    "from sklearn.model_selection import cross_val_score\n",
    "\n",
    "pd.options.mode.chained_assignment = None \n"
   ]
  },
  {
   "cell_type": "code",
   "execution_count": null,
   "id": "a0d0a9a1",
   "metadata": {},
   "outputs": [],
   "source": [
    "#Step 1: Business Goal: Predict correctly the survivors of titanic using train.csv data set "
   ]
  },
  {
   "cell_type": "code",
   "execution_count": 50,
   "id": "ce44459e",
   "metadata": {},
   "outputs": [
    {
     "name": "stdout",
     "output_type": "stream",
     "text": [
      "<class 'pandas.core.frame.DataFrame'>\n",
      "RangeIndex: 891 entries, 0 to 890\n",
      "Data columns (total 12 columns):\n",
      " #   Column       Non-Null Count  Dtype  \n",
      "---  ------       --------------  -----  \n",
      " 0   PassengerId  891 non-null    int64  \n",
      " 1   Survived     891 non-null    int64  \n",
      " 2   Pclass       891 non-null    int64  \n",
      " 3   Name         891 non-null    object \n",
      " 4   Sex          891 non-null    object \n",
      " 5   Age          714 non-null    float64\n",
      " 6   SibSp        891 non-null    int64  \n",
      " 7   Parch        891 non-null    int64  \n",
      " 8   Ticket       891 non-null    object \n",
      " 9   Fare         891 non-null    float64\n",
      " 10  Cabin        204 non-null    object \n",
      " 11  Embarked     889 non-null    object \n",
      "dtypes: float64(2), int64(5), object(5)\n",
      "memory usage: 83.7+ KB\n"
     ]
    }
   ],
   "source": [
    "#Step 2: Load and Inspect Data\n",
    "\n",
    "df = pd.read_csv('train.csv')\n",
    "df.info()"
   ]
  },
  {
   "cell_type": "code",
   "execution_count": 4,
   "id": "14291daf",
   "metadata": {},
   "outputs": [],
   "source": [
    "# Missing values and data formating \n",
    "\n",
    "#PassengerId, Name, Sex, Ticket, Survived\n",
    "df['PassengerId'] = df['PassengerId'].astype('category')\n",
    "\n",
    "#Age\n",
    "df['Age'].fillna(df['Age'].mean(), inplace=True)\n",
    "df['Age'] = pd.to_numeric(df['Age'])\n",
    "df['Age'].fillna(df['Age'].mean(), inplace=True)\n",
    "\n",
    "#Cabin\n",
    "df['Cabin'].fillna('not identified', inplace=True)\n",
    "\n",
    "#Embarked \n",
    "df['Embarked'].dropna(inplace=True)\n",
    "\n",
    "\n"
   ]
  },
  {
   "cell_type": "code",
   "execution_count": 741,
   "id": "8037400c",
   "metadata": {},
   "outputs": [
    {
     "data": {
      "text/html": [
       "<div>\n",
       "<style scoped>\n",
       "    .dataframe tbody tr th:only-of-type {\n",
       "        vertical-align: middle;\n",
       "    }\n",
       "\n",
       "    .dataframe tbody tr th {\n",
       "        vertical-align: top;\n",
       "    }\n",
       "\n",
       "    .dataframe thead th {\n",
       "        text-align: right;\n",
       "    }\n",
       "</style>\n",
       "<table border=\"1\" class=\"dataframe\">\n",
       "  <thead>\n",
       "    <tr style=\"text-align: right;\">\n",
       "      <th></th>\n",
       "      <th>Survived</th>\n",
       "      <th>Pclass</th>\n",
       "      <th>Age</th>\n",
       "      <th>SibSp</th>\n",
       "      <th>Parch</th>\n",
       "      <th>Fare</th>\n",
       "    </tr>\n",
       "  </thead>\n",
       "  <tbody>\n",
       "    <tr>\n",
       "      <th>count</th>\n",
       "      <td>891.000000</td>\n",
       "      <td>891.000000</td>\n",
       "      <td>891.000000</td>\n",
       "      <td>891.000000</td>\n",
       "      <td>891.000000</td>\n",
       "      <td>891.000000</td>\n",
       "    </tr>\n",
       "    <tr>\n",
       "      <th>mean</th>\n",
       "      <td>0.383838</td>\n",
       "      <td>2.308642</td>\n",
       "      <td>29.699118</td>\n",
       "      <td>0.523008</td>\n",
       "      <td>0.381594</td>\n",
       "      <td>32.204208</td>\n",
       "    </tr>\n",
       "    <tr>\n",
       "      <th>std</th>\n",
       "      <td>0.486592</td>\n",
       "      <td>0.836071</td>\n",
       "      <td>13.002015</td>\n",
       "      <td>1.102743</td>\n",
       "      <td>0.806057</td>\n",
       "      <td>49.693429</td>\n",
       "    </tr>\n",
       "    <tr>\n",
       "      <th>min</th>\n",
       "      <td>0.000000</td>\n",
       "      <td>1.000000</td>\n",
       "      <td>0.420000</td>\n",
       "      <td>0.000000</td>\n",
       "      <td>0.000000</td>\n",
       "      <td>0.000000</td>\n",
       "    </tr>\n",
       "    <tr>\n",
       "      <th>25%</th>\n",
       "      <td>0.000000</td>\n",
       "      <td>2.000000</td>\n",
       "      <td>22.000000</td>\n",
       "      <td>0.000000</td>\n",
       "      <td>0.000000</td>\n",
       "      <td>7.910400</td>\n",
       "    </tr>\n",
       "    <tr>\n",
       "      <th>50%</th>\n",
       "      <td>0.000000</td>\n",
       "      <td>3.000000</td>\n",
       "      <td>29.699118</td>\n",
       "      <td>0.000000</td>\n",
       "      <td>0.000000</td>\n",
       "      <td>14.454200</td>\n",
       "    </tr>\n",
       "    <tr>\n",
       "      <th>75%</th>\n",
       "      <td>1.000000</td>\n",
       "      <td>3.000000</td>\n",
       "      <td>35.000000</td>\n",
       "      <td>1.000000</td>\n",
       "      <td>0.000000</td>\n",
       "      <td>31.000000</td>\n",
       "    </tr>\n",
       "    <tr>\n",
       "      <th>max</th>\n",
       "      <td>1.000000</td>\n",
       "      <td>3.000000</td>\n",
       "      <td>80.000000</td>\n",
       "      <td>8.000000</td>\n",
       "      <td>6.000000</td>\n",
       "      <td>512.329200</td>\n",
       "    </tr>\n",
       "  </tbody>\n",
       "</table>\n",
       "</div>"
      ],
      "text/plain": [
       "         Survived      Pclass         Age       SibSp       Parch        Fare\n",
       "count  891.000000  891.000000  891.000000  891.000000  891.000000  891.000000\n",
       "mean     0.383838    2.308642   29.699118    0.523008    0.381594   32.204208\n",
       "std      0.486592    0.836071   13.002015    1.102743    0.806057   49.693429\n",
       "min      0.000000    1.000000    0.420000    0.000000    0.000000    0.000000\n",
       "25%      0.000000    2.000000   22.000000    0.000000    0.000000    7.910400\n",
       "50%      0.000000    3.000000   29.699118    0.000000    0.000000   14.454200\n",
       "75%      1.000000    3.000000   35.000000    1.000000    0.000000   31.000000\n",
       "max      1.000000    3.000000   80.000000    8.000000    6.000000  512.329200"
      ]
     },
     "execution_count": 741,
     "metadata": {},
     "output_type": "execute_result"
    }
   ],
   "source": [
    "df.describe()"
   ]
  },
  {
   "cell_type": "code",
   "execution_count": 742,
   "id": "4ed1cdf2",
   "metadata": {},
   "outputs": [
    {
     "data": {
      "text/plain": [
       "const     29.309092\n",
       "Pclass     1.653412\n",
       "Age        1.195003\n",
       "SibSp      1.274264\n",
       "Parch      1.265390\n",
       "Fare       1.586539\n",
       "dtype: float64"
      ]
     },
     "execution_count": 742,
     "metadata": {},
     "output_type": "execute_result"
    }
   ],
   "source": [
    "# Variance Inflation Factor (VIF between 5-10 means there is multicolinearity)\n",
    "X = df[['Pclass', 'Age', 'SibSp','Parch','Fare']]\n",
    "X_vif = add_constant(X) \n",
    "pd.Series([variance_inflation_factor(X_vif.values, i) \n",
    "           for i in range(X_vif.shape[1])], \n",
    "            index=X_vif.columns)"
   ]
  },
  {
   "cell_type": "code",
   "execution_count": 743,
   "id": "2cc82ec8",
   "metadata": {},
   "outputs": [
    {
     "data": {
      "text/plain": [
       "<AxesSubplot:>"
      ]
     },
     "execution_count": 743,
     "metadata": {},
     "output_type": "execute_result"
    },
    {
     "data": {
      "image/png": "[encoded data removed]",
      "text/plain": [
       "<Figure size 432x288 with 2 Axes>"
      ]
     },
     "metadata": {
      "needs_background": "light"
     },
     "output_type": "display_data"
    }
   ],
   "source": [
    "sns.heatmap(df.corr(), annot= True)\n",
    "# Potential good predictors of survival status: Pclass, Age, Fare\n",
    "# Potential multicolinearity between pclass and fare "
   ]
  },
  {
   "cell_type": "code",
   "execution_count": 744,
   "id": "6f307657",
   "metadata": {},
   "outputs": [
    {
     "data": {
      "text/plain": [
       "<seaborn.axisgrid.PairGrid at 0x7f26e451d310>"
      ]
     },
     "execution_count": 744,
     "metadata": {},
     "output_type": "execute_result"
    },
    {
     "data": {
      "image/png": "[encoded data removed]",
      "text/plain": [
       "<Figure size 951.875x900 with 30 Axes>"
      ]
     },
     "metadata": {
      "needs_background": "light"
     },
     "output_type": "display_data"
    }
   ],
   "source": [
    "sns.pairplot(df, hue ='Survived')"
   ]
  },
  {
   "cell_type": "code",
   "execution_count": null,
   "id": "009ad4f6",
   "metadata": {},
   "outputs": [],
   "source": [
    "#Step 3: Train-Test Split (df_train and df_test)"
   ]
  },
  {
   "cell_type": "code",
   "execution_count": 5,
   "id": "68ed96c3",
   "metadata": {},
   "outputs": [
    {
     "data": {
      "text/plain": [
       "((712, 12), (179, 12))"
      ]
     },
     "execution_count": 5,
     "metadata": {},
     "output_type": "execute_result"
    }
   ],
   "source": [
    "df_train, df_test = train_test_split(df, test_size = 0.2)\n",
    "df_train.shape, df_test.shape"
   ]
  },
  {
   "cell_type": "code",
   "execution_count": 150,
   "id": "7daad81a",
   "metadata": {},
   "outputs": [],
   "source": [
    "#Step 4: Exploratory Data Analysis on df_train"
   ]
  },
  {
   "cell_type": "code",
   "execution_count": 746,
   "id": "4a016ea2",
   "metadata": {},
   "outputs": [
    {
     "data": {
      "text/html": [
       "<div>\n",
       "<style scoped>\n",
       "    .dataframe tbody tr th:only-of-type {\n",
       "        vertical-align: middle;\n",
       "    }\n",
       "\n",
       "    .dataframe tbody tr th {\n",
       "        vertical-align: top;\n",
       "    }\n",
       "\n",
       "    .dataframe thead th {\n",
       "        text-align: right;\n",
       "    }\n",
       "</style>\n",
       "<table border=\"1\" class=\"dataframe\">\n",
       "  <thead>\n",
       "    <tr style=\"text-align: right;\">\n",
       "      <th></th>\n",
       "      <th>Survived</th>\n",
       "      <th>PassengerId</th>\n",
       "    </tr>\n",
       "  </thead>\n",
       "  <tbody>\n",
       "    <tr>\n",
       "      <th>0</th>\n",
       "      <td>0</td>\n",
       "      <td>434</td>\n",
       "    </tr>\n",
       "    <tr>\n",
       "      <th>1</th>\n",
       "      <td>1</td>\n",
       "      <td>278</td>\n",
       "    </tr>\n",
       "  </tbody>\n",
       "</table>\n",
       "</div>"
      ],
      "text/plain": [
       "   Survived  PassengerId\n",
       "0         0          434\n",
       "1         1          278"
      ]
     },
     "execution_count": 746,
     "metadata": {},
     "output_type": "execute_result"
    }
   ],
   "source": [
    "# Survival Rate \n",
    "\n",
    "surv = df_train[['Survived','PassengerId']].groupby('Survived').count()\n",
    "surv.reset_index(inplace=True)\n",
    "surv"
   ]
  },
  {
   "cell_type": "code",
   "execution_count": 749,
   "id": "69a70dbf",
   "metadata": {},
   "outputs": [
    {
     "data": {
      "text/plain": [
       "0    0.61\n",
       "1    0.39\n",
       "Name: PassengerId, dtype: float64"
      ]
     },
     "execution_count": 749,
     "metadata": {},
     "output_type": "execute_result"
    }
   ],
   "source": [
    "round(surv['PassengerId']/surv['PassengerId'].sum(),3) #survival rate of 39%, we have imbalanced data , more people died than survived "
   ]
  },
  {
   "cell_type": "code",
   "execution_count": 647,
   "id": "cc071b08",
   "metadata": {},
   "outputs": [
    {
     "data": {
      "image/png": "[encoded data removed]",
      "text/plain": [
       "<Figure size 432x288 with 1 Axes>"
      ]
     },
     "metadata": {
      "needs_background": "light"
     },
     "output_type": "display_data"
    }
   ],
   "source": [
    "ax = sns.barplot(data=surv, x='Survived', y='PassengerId')"
   ]
  },
  {
   "cell_type": "code",
   "execution_count": 750,
   "id": "3f60cf3e",
   "metadata": {},
   "outputs": [
    {
     "data": {
      "text/html": [
       "<div>\n",
       "<style scoped>\n",
       "    .dataframe tbody tr th:only-of-type {\n",
       "        vertical-align: middle;\n",
       "    }\n",
       "\n",
       "    .dataframe tbody tr th {\n",
       "        vertical-align: top;\n",
       "    }\n",
       "\n",
       "    .dataframe thead th {\n",
       "        text-align: right;\n",
       "    }\n",
       "</style>\n",
       "<table border=\"1\" class=\"dataframe\">\n",
       "  <thead>\n",
       "    <tr style=\"text-align: right;\">\n",
       "      <th></th>\n",
       "      <th></th>\n",
       "      <th>PassengerId</th>\n",
       "    </tr>\n",
       "    <tr>\n",
       "      <th>Sex</th>\n",
       "      <th>Survived</th>\n",
       "      <th></th>\n",
       "    </tr>\n",
       "  </thead>\n",
       "  <tbody>\n",
       "    <tr>\n",
       "      <th rowspan=\"2\" valign=\"top\">female</th>\n",
       "      <th>0</th>\n",
       "      <td>69</td>\n",
       "    </tr>\n",
       "    <tr>\n",
       "      <th>1</th>\n",
       "      <td>188</td>\n",
       "    </tr>\n",
       "    <tr>\n",
       "      <th rowspan=\"2\" valign=\"top\">male</th>\n",
       "      <th>0</th>\n",
       "      <td>365</td>\n",
       "    </tr>\n",
       "    <tr>\n",
       "      <th>1</th>\n",
       "      <td>90</td>\n",
       "    </tr>\n",
       "  </tbody>\n",
       "</table>\n",
       "</div>"
      ],
      "text/plain": [
       "                 PassengerId\n",
       "Sex    Survived             \n",
       "female 0                  69\n",
       "       1                 188\n",
       "male   0                 365\n",
       "       1                  90"
      ]
     },
     "execution_count": 750,
     "metadata": {},
     "output_type": "execute_result"
    }
   ],
   "source": [
    "# Gender and Age \n",
    "df_train[['Survived','Sex','PassengerId']].groupby(['Sex', 'Survived']).count()\n"
   ]
  },
  {
   "cell_type": "code",
   "execution_count": 649,
   "id": "1cd4e854",
   "metadata": {},
   "outputs": [
    {
     "data": {
      "text/plain": [
       "<AxesSubplot:xlabel='Sex', ylabel='Count'>"
      ]
     },
     "execution_count": 649,
     "metadata": {},
     "output_type": "execute_result"
    },
    {
     "data": {
      "image/png": "[encoded data removed]",
      "text/plain": [
       "<Figure size 432x288 with 1 Axes>"
      ]
     },
     "metadata": {
      "needs_background": "light"
     },
     "output_type": "display_data"
    }
   ],
   "source": [
    "sns.histplot(data=df_train, x='Sex', hue='Survived') #The survival rate looks better for women "
   ]
  },
  {
   "cell_type": "code",
   "execution_count": 908,
   "id": "2f06cccf",
   "metadata": {},
   "outputs": [
    {
     "data": {
      "text/plain": [
       "<AxesSubplot:xlabel='Age', ylabel='Count'>"
      ]
     },
     "execution_count": 908,
     "metadata": {},
     "output_type": "execute_result"
    },
    {
     "data": {
      "image/png": "[encoded data removed]",
      "text/plain": [
       "<Figure size 720x360 with 1 Axes>"
      ]
     },
     "metadata": {
      "needs_background": "light"
     },
     "output_type": "display_data"
    }
   ],
   "source": [
    "plt.figure(figsize=(10,5))\n",
    "sns.histplot(data=df_train, x='Age', hue='Survived', binwidth=10) \n",
    "#there are a lot of babies surviving, and the surviving rate looks worse for people aged 20-30, where also most of the population lies "
   ]
  },
  {
   "cell_type": "code",
   "execution_count": 752,
   "id": "f492346e",
   "metadata": {},
   "outputs": [
    {
     "data": {
      "text/html": [
       "<div>\n",
       "<style scoped>\n",
       "    .dataframe tbody tr th:only-of-type {\n",
       "        vertical-align: middle;\n",
       "    }\n",
       "\n",
       "    .dataframe tbody tr th {\n",
       "        vertical-align: top;\n",
       "    }\n",
       "\n",
       "    .dataframe thead tr th {\n",
       "        text-align: left;\n",
       "    }\n",
       "\n",
       "    .dataframe thead tr:last-of-type th {\n",
       "        text-align: right;\n",
       "    }\n",
       "</style>\n",
       "<table border=\"1\" class=\"dataframe\">\n",
       "  <thead>\n",
       "    <tr>\n",
       "      <th></th>\n",
       "      <th></th>\n",
       "      <th colspan=\"8\" halign=\"left\">Age</th>\n",
       "    </tr>\n",
       "    <tr>\n",
       "      <th></th>\n",
       "      <th></th>\n",
       "      <th>count</th>\n",
       "      <th>mean</th>\n",
       "      <th>std</th>\n",
       "      <th>min</th>\n",
       "      <th>25%</th>\n",
       "      <th>50%</th>\n",
       "      <th>75%</th>\n",
       "      <th>max</th>\n",
       "    </tr>\n",
       "    <tr>\n",
       "      <th>Survived</th>\n",
       "      <th>Sex</th>\n",
       "      <th></th>\n",
       "      <th></th>\n",
       "      <th></th>\n",
       "      <th></th>\n",
       "      <th></th>\n",
       "      <th></th>\n",
       "      <th></th>\n",
       "      <th></th>\n",
       "    </tr>\n",
       "  </thead>\n",
       "  <tbody>\n",
       "    <tr>\n",
       "      <th rowspan=\"2\" valign=\"top\">0</th>\n",
       "      <th>female</th>\n",
       "      <td>69.0</td>\n",
       "      <td>26.011415</td>\n",
       "      <td>11.675804</td>\n",
       "      <td>2.00</td>\n",
       "      <td>18.00</td>\n",
       "      <td>28.000000</td>\n",
       "      <td>30.0</td>\n",
       "      <td>57.0</td>\n",
       "    </tr>\n",
       "    <tr>\n",
       "      <th>male</th>\n",
       "      <td>365.0</td>\n",
       "      <td>31.355959</td>\n",
       "      <td>12.361079</td>\n",
       "      <td>2.00</td>\n",
       "      <td>24.00</td>\n",
       "      <td>29.699118</td>\n",
       "      <td>36.0</td>\n",
       "      <td>74.0</td>\n",
       "    </tr>\n",
       "    <tr>\n",
       "      <th rowspan=\"2\" valign=\"top\">1</th>\n",
       "      <th>female</th>\n",
       "      <td>188.0</td>\n",
       "      <td>28.787093</td>\n",
       "      <td>13.049170</td>\n",
       "      <td>0.75</td>\n",
       "      <td>21.75</td>\n",
       "      <td>29.699118</td>\n",
       "      <td>35.0</td>\n",
       "      <td>63.0</td>\n",
       "    </tr>\n",
       "    <tr>\n",
       "      <th>male</th>\n",
       "      <td>90.0</td>\n",
       "      <td>26.046186</td>\n",
       "      <td>15.072883</td>\n",
       "      <td>0.42</td>\n",
       "      <td>19.00</td>\n",
       "      <td>29.000000</td>\n",
       "      <td>32.0</td>\n",
       "      <td>80.0</td>\n",
       "    </tr>\n",
       "  </tbody>\n",
       "</table>\n",
       "</div>"
      ],
      "text/plain": [
       "                   Age                                                      \\\n",
       "                 count       mean        std   min    25%        50%   75%   \n",
       "Survived Sex                                                                 \n",
       "0        female   69.0  26.011415  11.675804  2.00  18.00  28.000000  30.0   \n",
       "         male    365.0  31.355959  12.361079  2.00  24.00  29.699118  36.0   \n",
       "1        female  188.0  28.787093  13.049170  0.75  21.75  29.699118  35.0   \n",
       "         male     90.0  26.046186  15.072883  0.42  19.00  29.000000  32.0   \n",
       "\n",
       "                       \n",
       "                  max  \n",
       "Survived Sex           \n",
       "0        female  57.0  \n",
       "         male    74.0  \n",
       "1        female  63.0  \n",
       "         male    80.0  "
      ]
     },
     "execution_count": 752,
     "metadata": {},
     "output_type": "execute_result"
    }
   ],
   "source": [
    "df_train[['Survived','Age','Sex']].groupby(['Survived','Sex']).describe() # the survived group has more people on age extremes, while the non survived group concentrates a lot on group 20-30 years old"
   ]
  },
  {
   "cell_type": "code",
   "execution_count": 754,
   "id": "0d5b2620",
   "metadata": {},
   "outputs": [
    {
     "data": {
      "text/plain": [
       "0.621"
      ]
     },
     "execution_count": 754,
     "metadata": {},
     "output_type": "execute_result"
    }
   ],
   "source": [
    "# Embarkation Characteristics (Port, Cabin, Fare, Class) \n",
    "# strong correlation between Fare and Class indicates redundant information\n",
    "\n",
    "first_class = df_train[(df_train['Pclass'] == 1)]\n",
    "first_survived = first_class[first_class['Survived']== 1].count()\n",
    "first_total = first_class['Survived'].count()\n",
    "first_proportion = first_survived/first_total \n",
    "round(first_proportion['PassengerId'],3) \n",
    "# survival rate on 1st class is of 62.1% while in the overall training set is of 38%\n"
   ]
  },
  {
   "cell_type": "code",
   "execution_count": 675,
   "id": "bc63ee24",
   "metadata": {},
   "outputs": [
    {
     "data": {
      "image/png": "[encoded data removed]",
      "text/plain": [
       "<Figure size 432x288 with 1 Axes>"
      ]
     },
     "metadata": {
      "needs_background": "light"
     },
     "output_type": "display_data"
    }
   ],
   "source": [
    "gb = df_train[['PassengerId','Pclass','Survived']].groupby(['Pclass','Survived']).count()\n",
    "gb.reset_index(inplace=True)\n",
    "ax = sns.barplot(x=\"Pclass\", y=\"PassengerId\" , hue='Survived', data=gb)\n",
    "# Lower survival on 3rd class"
   ]
  },
  {
   "cell_type": "code",
   "execution_count": 676,
   "id": "35735a9a",
   "metadata": {},
   "outputs": [
    {
     "data": {
      "image/png": "[encoded data removed]",
      "text/plain": [
       "<Figure size 432x288 with 1 Axes>"
      ]
     },
     "metadata": {
      "needs_background": "light"
     },
     "output_type": "display_data"
    }
   ],
   "source": [
    "gb = df_train[['PassengerId','Pclass','Sex']].groupby(['Pclass','Sex']).count()\n",
    "gb.reset_index(inplace=True)\n",
    "ax = sns.barplot(x=\"Pclass\", y=\"PassengerId\", hue=\"Sex\", data=gb)\n",
    "# 3rd class has more males\n",
    "# Lower survival rate on men could be also related with the fact that they are concentrated on 3rd class"
   ]
  },
  {
   "cell_type": "code",
   "execution_count": 685,
   "id": "c3e1a7b2",
   "metadata": {},
   "outputs": [
    {
     "data": {
      "image/png": "[encoded data removed]",
      "text/plain": [
       "<Figure size 432x288 with 1 Axes>"
      ]
     },
     "metadata": {
      "needs_background": "light"
     },
     "output_type": "display_data"
    }
   ],
   "source": [
    "gb = df_train[['PassengerId','Survived','Embarked']].groupby(['Embarked','Survived']).count()\n",
    "gb.reset_index(inplace=True)\n",
    "ax = sns.barplot(x='Embarked', y= \"PassengerId\", hue=\"Survived\", data=gb)\n",
    "# The survival rate looks bad for passengers who embarqued in ports Q and S"
   ]
  },
  {
   "cell_type": "code",
   "execution_count": 686,
   "id": "60c25e13",
   "metadata": {},
   "outputs": [
    {
     "data": {
      "image/png": "[encoded data removed]",
      "text/plain": [
       "<Figure size 432x288 with 1 Axes>"
      ]
     },
     "metadata": {
      "needs_background": "light"
     },
     "output_type": "display_data"
    }
   ],
   "source": [
    "gb = df_train[['PassengerId','Pclass','Embarked']].groupby(['Embarked','Pclass']).count()\n",
    "gb.reset_index(inplace=True)\n",
    "ax = sns.barplot(x='Embarked', y= \"PassengerId\", hue=\"Pclass\", data=gb)\n",
    "# Port Q seems to have only 3rd class passengers and port S contains more than half of 3rd class passengers"
   ]
  },
  {
   "cell_type": "code",
   "execution_count": 722,
   "id": "5c86667b",
   "metadata": {},
   "outputs": [
    {
     "data": {
      "text/plain": [
       "<AxesSubplot:xlabel='Fare', ylabel='Count'>"
      ]
     },
     "execution_count": 722,
     "metadata": {},
     "output_type": "execute_result"
    },
    {
     "data": {
      "image/png": "[encoded data removed]",
      "text/plain": [
       "<Figure size 720x360 with 1 Axes>"
      ]
     },
     "metadata": {
      "needs_background": "light"
     },
     "output_type": "display_data"
    }
   ],
   "source": [
    "plt.figure(figsize=(10,5))\n",
    "sns.histplot(data=df_train, x='Fare', hue='Survived', bins=20)\n",
    "# It seems survival rate is positively correlated with ticket fare, which is also related with passenger classes\n"
   ]
  },
  {
   "cell_type": "code",
   "execution_count": 806,
   "id": "41b08e4b",
   "metadata": {},
   "outputs": [
    {
     "data": {
      "image/png": "[encoded data removed]",
      "text/plain": [
       "<Figure size 720x504 with 1 Axes>"
      ]
     },
     "metadata": {
      "needs_background": "light"
     },
     "output_type": "display_data"
    }
   ],
   "source": [
    "gb = df_train[['Cabin','PassengerId', 'Survived']].groupby(['Cabin', 'Survived']).count()\n",
    "gb.reset_index(inplace=True)\n",
    "gb.sort_values(by='PassengerId', ascending=False)\n",
    "plt.figure(figsize=(10,7))\n",
    "sns.set_palette('colorblind')\n",
    "ax = sns.barplot(x='Cabin',  y='PassengerId', \n",
    "                 hue='Survived', data=gb[gb['Cabin'] != 'not identified'])"
   ]
  },
  {
   "cell_type": "code",
   "execution_count": 735,
   "id": "e6b626ad",
   "metadata": {},
   "outputs": [
    {
     "data": {
      "image/png": "[encoded data removed]",
      "text/plain": [
       "<Figure size 720x504 with 1 Axes>"
      ]
     },
     "metadata": {
      "needs_background": "light"
     },
     "output_type": "display_data"
    }
   ],
   "source": [
    "# Most of the identified cabin passengers had survived. They also belonged mostly to 1st class.\n",
    "\n",
    "gb = df_train[['Cabin','PassengerId', 'Pclass']].groupby(['Cabin', 'Pclass']).count()\n",
    "gb.reset_index(inplace=True)\n",
    "gb.sort_values(by='PassengerId', ascending=False)\n",
    "plt.figure(figsize=(10,7))\n",
    "sns.set_palette('colorblind')\n",
    "ax = sns.barplot(x='Cabin',  y='PassengerId', \n",
    "                 hue='Pclass', data=gb[gb['Cabin'] != 'not identified'])\n",
    "\n"
   ]
  },
  {
   "cell_type": "code",
   "execution_count": 736,
   "id": "2d4d6463",
   "metadata": {},
   "outputs": [
    {
     "data": {
      "text/html": [
       "<div>\n",
       "<style scoped>\n",
       "    .dataframe tbody tr th:only-of-type {\n",
       "        vertical-align: middle;\n",
       "    }\n",
       "\n",
       "    .dataframe tbody tr th {\n",
       "        vertical-align: top;\n",
       "    }\n",
       "\n",
       "    .dataframe thead th {\n",
       "        text-align: right;\n",
       "    }\n",
       "</style>\n",
       "<table border=\"1\" class=\"dataframe\">\n",
       "  <thead>\n",
       "    <tr style=\"text-align: right;\">\n",
       "      <th></th>\n",
       "      <th>Pclass</th>\n",
       "      <th>PassengerId</th>\n",
       "    </tr>\n",
       "  </thead>\n",
       "  <tbody>\n",
       "    <tr>\n",
       "      <th>count</th>\n",
       "      <td>444.000000</td>\n",
       "      <td>444.000000</td>\n",
       "    </tr>\n",
       "    <tr>\n",
       "      <th>mean</th>\n",
       "      <td>2.000000</td>\n",
       "      <td>1.603604</td>\n",
       "    </tr>\n",
       "    <tr>\n",
       "      <th>std</th>\n",
       "      <td>0.817418</td>\n",
       "      <td>19.280760</td>\n",
       "    </tr>\n",
       "    <tr>\n",
       "      <th>min</th>\n",
       "      <td>1.000000</td>\n",
       "      <td>0.000000</td>\n",
       "    </tr>\n",
       "    <tr>\n",
       "      <th>25%</th>\n",
       "      <td>1.000000</td>\n",
       "      <td>0.000000</td>\n",
       "    </tr>\n",
       "    <tr>\n",
       "      <th>50%</th>\n",
       "      <td>2.000000</td>\n",
       "      <td>0.000000</td>\n",
       "    </tr>\n",
       "    <tr>\n",
       "      <th>75%</th>\n",
       "      <td>3.000000</td>\n",
       "      <td>1.000000</td>\n",
       "    </tr>\n",
       "    <tr>\n",
       "      <th>max</th>\n",
       "      <td>3.000000</td>\n",
       "      <td>385.000000</td>\n",
       "    </tr>\n",
       "  </tbody>\n",
       "</table>\n",
       "</div>"
      ],
      "text/plain": [
       "           Pclass  PassengerId\n",
       "count  444.000000   444.000000\n",
       "mean     2.000000     1.603604\n",
       "std      0.817418    19.280760\n",
       "min      1.000000     0.000000\n",
       "25%      1.000000     0.000000\n",
       "50%      2.000000     0.000000\n",
       "75%      3.000000     1.000000\n",
       "max      3.000000   385.000000"
      ]
     },
     "execution_count": 736,
     "metadata": {},
     "output_type": "execute_result"
    }
   ],
   "source": [
    "gb.describe()\n",
    "# At least 50% of the passengers in cabines belonged to 1st class. \n",
    "#Only 25% of the cabines had more than one passenger"
   ]
  },
  {
   "cell_type": "code",
   "execution_count": 6,
   "id": "cc15b49d",
   "metadata": {},
   "outputs": [
    {
     "data": {
      "text/html": [
       "<div>\n",
       "<style scoped>\n",
       "    .dataframe tbody tr th:only-of-type {\n",
       "        vertical-align: middle;\n",
       "    }\n",
       "\n",
       "    .dataframe tbody tr th {\n",
       "        vertical-align: top;\n",
       "    }\n",
       "\n",
       "    .dataframe thead th {\n",
       "        text-align: right;\n",
       "    }\n",
       "</style>\n",
       "<table border=\"1\" class=\"dataframe\">\n",
       "  <thead>\n",
       "    <tr style=\"text-align: right;\">\n",
       "      <th></th>\n",
       "      <th>Name</th>\n",
       "      <th>SibSp</th>\n",
       "      <th>Parch</th>\n",
       "      <th>Survived</th>\n",
       "      <th>Cabin</th>\n",
       "      <th>Pclass</th>\n",
       "      <th>Surname</th>\n",
       "      <th>FirstName</th>\n",
       "      <th>PrefixName</th>\n",
       "    </tr>\n",
       "    <tr>\n",
       "      <th>PassengerId</th>\n",
       "      <th></th>\n",
       "      <th></th>\n",
       "      <th></th>\n",
       "      <th></th>\n",
       "      <th></th>\n",
       "      <th></th>\n",
       "      <th></th>\n",
       "      <th></th>\n",
       "      <th></th>\n",
       "    </tr>\n",
       "  </thead>\n",
       "  <tbody>\n",
       "    <tr>\n",
       "      <th>200</th>\n",
       "      <td>Yrois, Miss. Henriette (\"Mrs Harbeck\")</td>\n",
       "      <td>0</td>\n",
       "      <td>0</td>\n",
       "      <td>0</td>\n",
       "      <td>not identified</td>\n",
       "      <td>2</td>\n",
       "      <td>Yrois</td>\n",
       "      <td>Henriette (\"Mrs Harbeck\")</td>\n",
       "      <td>Miss</td>\n",
       "    </tr>\n",
       "    <tr>\n",
       "      <th>241</th>\n",
       "      <td>Zabour, Miss. Thamine</td>\n",
       "      <td>1</td>\n",
       "      <td>0</td>\n",
       "      <td>0</td>\n",
       "      <td>not identified</td>\n",
       "      <td>3</td>\n",
       "      <td>Zabour</td>\n",
       "      <td>Thamine</td>\n",
       "      <td>Miss</td>\n",
       "    </tr>\n",
       "    <tr>\n",
       "      <th>112</th>\n",
       "      <td>Zabour, Miss. Hileni</td>\n",
       "      <td>1</td>\n",
       "      <td>0</td>\n",
       "      <td>0</td>\n",
       "      <td>not identified</td>\n",
       "      <td>3</td>\n",
       "      <td>Zabour</td>\n",
       "      <td>Hileni</td>\n",
       "      <td>Miss</td>\n",
       "    </tr>\n",
       "    <tr>\n",
       "      <th>423</th>\n",
       "      <td>Zimmerman, Mr. Leo</td>\n",
       "      <td>0</td>\n",
       "      <td>0</td>\n",
       "      <td>0</td>\n",
       "      <td>not identified</td>\n",
       "      <td>3</td>\n",
       "      <td>Zimmerman</td>\n",
       "      <td>Leo</td>\n",
       "      <td>Mr</td>\n",
       "    </tr>\n",
       "    <tr>\n",
       "      <th>560</th>\n",
       "      <td>de Messemaeker, Mrs. Guillaume Joseph (Emma)</td>\n",
       "      <td>1</td>\n",
       "      <td>0</td>\n",
       "      <td>1</td>\n",
       "      <td>not identified</td>\n",
       "      <td>3</td>\n",
       "      <td>de Messemaeker</td>\n",
       "      <td>Guillaume Joseph (Emma)</td>\n",
       "      <td>Mrs</td>\n",
       "    </tr>\n",
       "    <tr>\n",
       "      <th>287</th>\n",
       "      <td>de Mulder, Mr. Theodore</td>\n",
       "      <td>0</td>\n",
       "      <td>0</td>\n",
       "      <td>1</td>\n",
       "      <td>not identified</td>\n",
       "      <td>3</td>\n",
       "      <td>de Mulder</td>\n",
       "      <td>Theodore</td>\n",
       "      <td>Mr</td>\n",
       "    </tr>\n",
       "    <tr>\n",
       "      <th>283</th>\n",
       "      <td>de Pelsmaeker, Mr. Alfons</td>\n",
       "      <td>0</td>\n",
       "      <td>0</td>\n",
       "      <td>0</td>\n",
       "      <td>not identified</td>\n",
       "      <td>3</td>\n",
       "      <td>de Pelsmaeker</td>\n",
       "      <td>Alfons</td>\n",
       "      <td>Mr</td>\n",
       "    </tr>\n",
       "    <tr>\n",
       "      <th>362</th>\n",
       "      <td>del Carlo, Mr. Sebastiano</td>\n",
       "      <td>1</td>\n",
       "      <td>0</td>\n",
       "      <td>0</td>\n",
       "      <td>not identified</td>\n",
       "      <td>2</td>\n",
       "      <td>del Carlo</td>\n",
       "      <td>Sebastiano</td>\n",
       "      <td>Mr</td>\n",
       "    </tr>\n",
       "    <tr>\n",
       "      <th>154</th>\n",
       "      <td>van Billiard, Mr. Austin Blyler</td>\n",
       "      <td>0</td>\n",
       "      <td>2</td>\n",
       "      <td>0</td>\n",
       "      <td>not identified</td>\n",
       "      <td>3</td>\n",
       "      <td>van Billiard</td>\n",
       "      <td>Austin Blyler</td>\n",
       "      <td>Mr</td>\n",
       "    </tr>\n",
       "    <tr>\n",
       "      <th>869</th>\n",
       "      <td>van Melkebeke, Mr. Philemon</td>\n",
       "      <td>0</td>\n",
       "      <td>0</td>\n",
       "      <td>0</td>\n",
       "      <td>not identified</td>\n",
       "      <td>3</td>\n",
       "      <td>van Melkebeke</td>\n",
       "      <td>Philemon</td>\n",
       "      <td>Mr</td>\n",
       "    </tr>\n",
       "  </tbody>\n",
       "</table>\n",
       "</div>"
      ],
      "text/plain": [
       "                                                     Name  SibSp  Parch  \\\n",
       "PassengerId                                                               \n",
       "200                Yrois, Miss. Henriette (\"Mrs Harbeck\")      0      0   \n",
       "241                                 Zabour, Miss. Thamine      1      0   \n",
       "112                                  Zabour, Miss. Hileni      1      0   \n",
       "423                                    Zimmerman, Mr. Leo      0      0   \n",
       "560          de Messemaeker, Mrs. Guillaume Joseph (Emma)      1      0   \n",
       "287                               de Mulder, Mr. Theodore      0      0   \n",
       "283                             de Pelsmaeker, Mr. Alfons      0      0   \n",
       "362                             del Carlo, Mr. Sebastiano      1      0   \n",
       "154                       van Billiard, Mr. Austin Blyler      0      2   \n",
       "869                           van Melkebeke, Mr. Philemon      0      0   \n",
       "\n",
       "             Survived           Cabin  Pclass         Surname  \\\n",
       "PassengerId                                                     \n",
       "200                 0  not identified       2           Yrois   \n",
       "241                 0  not identified       3          Zabour   \n",
       "112                 0  not identified       3          Zabour   \n",
       "423                 0  not identified       3       Zimmerman   \n",
       "560                 1  not identified       3  de Messemaeker   \n",
       "287                 1  not identified       3       de Mulder   \n",
       "283                 0  not identified       3   de Pelsmaeker   \n",
       "362                 0  not identified       2       del Carlo   \n",
       "154                 0  not identified       3    van Billiard   \n",
       "869                 0  not identified       3   van Melkebeke   \n",
       "\n",
       "                              FirstName PrefixName  \n",
       "PassengerId                                         \n",
       "200           Henriette (\"Mrs Harbeck\")       Miss  \n",
       "241                             Thamine       Miss  \n",
       "112                              Hileni       Miss  \n",
       "423                                 Leo         Mr  \n",
       "560             Guillaume Joseph (Emma)        Mrs  \n",
       "287                            Theodore         Mr  \n",
       "283                              Alfons         Mr  \n",
       "362                          Sebastiano         Mr  \n",
       "154                       Austin Blyler         Mr  \n",
       "869                            Philemon         Mr  "
      ]
     },
     "execution_count": 6,
     "metadata": {},
     "output_type": "execute_result"
    }
   ],
   "source": [
    "# Family Characteristics(Sibsp,Parch)\n",
    "\n",
    "\n",
    "# Test data \n",
    "family = df_test[['PassengerId','Name', 'SibSp','Parch','Survived', 'Cabin','Pclass']]\n",
    "family.set_index('PassengerId',inplace=True)\n",
    "family['Surname'] = family['Name'].str.split(expand=True, n=2, pat=',')[0]\n",
    "family['FirstName'] = family['Name'].str.split(expand=True, n=2, pat=',')[1]\n",
    "family['PrefixName'] = family['FirstName'].str.split(expand=True, n=2, pat='.')[0]\n",
    "family['FirstName'] = family['FirstName'].str.split(expand=True, n=2, pat='.')[1]\n",
    "family.sort_values(by='Surname', inplace=True)\n",
    "df_test = df_test.merge(family)\n",
    "\n",
    "# Train data \n",
    "\n",
    "family = df_train[['PassengerId','Name', 'SibSp','Parch','Survived', 'Cabin','Pclass']]\n",
    "family.set_index('PassengerId',inplace=True)\n",
    "family['Surname'] = family['Name'].str.split(expand=True, n=2, pat=',')[0]\n",
    "family['FirstName'] = family['Name'].str.split(expand=True, n=2, pat=',')[1]\n",
    "family['PrefixName'] = family['FirstName'].str.split(expand=True, n=2, pat='.')[0]\n",
    "family['FirstName'] = family['FirstName'].str.split(expand=True, n=2, pat='.')[1]\n",
    "family.sort_values(by='Surname', inplace=True)\n",
    "df_train = df_train.merge(family)\n",
    "family.tail(10)\n"
   ]
  },
  {
   "cell_type": "code",
   "execution_count": 898,
   "id": "9a6b6c62",
   "metadata": {},
   "outputs": [
    {
     "data": {
      "text/plain": [
       "array([' Mr', ' Mrs', ' Miss', ' Don', ' Master', ' Dr', ' Rev', ' Mlle',\n",
       "       ' Ms', ' Capt', ' Lady', ' Sir', ' Mme', ' Jonkheer', ' Major'],\n",
       "      dtype=object)"
      ]
     },
     "execution_count": 898,
     "metadata": {},
     "output_type": "execute_result"
    }
   ],
   "source": [
    "df_train['PrefixName'].unique()"
   ]
  },
  {
   "cell_type": "code",
   "execution_count": 899,
   "id": "121a22f8",
   "metadata": {},
   "outputs": [
    {
     "data": {
      "text/plain": [
       "array([' Mr', ' Mrs', ' Dr', ' Miss', ' the Countess', ' Master', ' Col'],\n",
       "      dtype=object)"
      ]
     },
     "execution_count": 899,
     "metadata": {},
     "output_type": "execute_result"
    }
   ],
   "source": [
    "df_test['PrefixName'].unique()"
   ]
  },
  {
   "cell_type": "code",
   "execution_count": null,
   "id": "4a55fc28",
   "metadata": {},
   "outputs": [],
   "source": [
    "special_prefix = ['Don', 'Master', 'Dr', 'Rev', 'Mlle', 'Mme', 'Jonkheer']\n"
   ]
  },
  {
   "cell_type": "code",
   "execution_count": 901,
   "id": "cc437ea7",
   "metadata": {},
   "outputs": [
    {
     "data": {
      "image/png": "[encoded data removed]",
      "text/plain": [
       "<Figure size 720x360 with 1 Axes>"
      ]
     },
     "metadata": {
      "needs_background": "light"
     },
     "output_type": "display_data"
    }
   ],
   "source": [
    "gb = family[['Name','PrefixName','Survived']].groupby(['Survived']).count()\n",
    "gb.reset_index(inplace=True)\n",
    "plt.figure(figsize=(10,5))\n",
    "ax = sns.histplot(x='PrefixName', hue='Pclass'\n",
    "                 , data=df_train[df_train['Survived'] == 1])\n",
    "\n",
    "#Survival names: Major, Mme, Sir, Lady, Mlle, Dr, Countess"
   ]
  },
  {
   "cell_type": "code",
   "execution_count": 897,
   "id": "cf87fe84",
   "metadata": {},
   "outputs": [
    {
     "data": {
      "image/png": "[encoded data removed]",
      "text/plain": [
       "<Figure size 1440x720 with 1 Axes>"
      ]
     },
     "metadata": {
      "needs_background": "light"
     },
     "output_type": "display_data"
    }
   ],
   "source": [
    "plt.figure(figsize=(20,10))\n",
    "ax = sns.histplot(x='PrefixName', hue='Pclass'\n",
    "                 , data=df_train)"
   ]
  },
  {
   "cell_type": "code",
   "execution_count": 876,
   "id": "4c34717b",
   "metadata": {},
   "outputs": [
    {
     "data": {
      "text/html": [
       "<div>\n",
       "<style scoped>\n",
       "    .dataframe tbody tr th:only-of-type {\n",
       "        vertical-align: middle;\n",
       "    }\n",
       "\n",
       "    .dataframe tbody tr th {\n",
       "        vertical-align: top;\n",
       "    }\n",
       "\n",
       "    .dataframe thead th {\n",
       "        text-align: right;\n",
       "    }\n",
       "</style>\n",
       "<table border=\"1\" class=\"dataframe\">\n",
       "  <thead>\n",
       "    <tr style=\"text-align: right;\">\n",
       "      <th></th>\n",
       "      <th>Pclass</th>\n",
       "      <th>PrefixName</th>\n",
       "      <th>Survived</th>\n",
       "      <th>Name</th>\n",
       "    </tr>\n",
       "  </thead>\n",
       "  <tbody>\n",
       "    <tr>\n",
       "      <th>31</th>\n",
       "      <td>3</td>\n",
       "      <td>Miss</td>\n",
       "      <td>1</td>\n",
       "      <td>40</td>\n",
       "    </tr>\n",
       "    <tr>\n",
       "      <th>10</th>\n",
       "      <td>1</td>\n",
       "      <td>Miss</td>\n",
       "      <td>1</td>\n",
       "      <td>38</td>\n",
       "    </tr>\n",
       "    <tr>\n",
       "      <th>14</th>\n",
       "      <td>1</td>\n",
       "      <td>Mr</td>\n",
       "      <td>1</td>\n",
       "      <td>33</td>\n",
       "    </tr>\n",
       "    <tr>\n",
       "      <th>16</th>\n",
       "      <td>1</td>\n",
       "      <td>Mrs</td>\n",
       "      <td>1</td>\n",
       "      <td>32</td>\n",
       "    </tr>\n",
       "    <tr>\n",
       "      <th>25</th>\n",
       "      <td>2</td>\n",
       "      <td>Mrs</td>\n",
       "      <td>1</td>\n",
       "      <td>28</td>\n",
       "    </tr>\n",
       "    <tr>\n",
       "      <th>33</th>\n",
       "      <td>3</td>\n",
       "      <td>Mr</td>\n",
       "      <td>1</td>\n",
       "      <td>28</td>\n",
       "    </tr>\n",
       "    <tr>\n",
       "      <th>21</th>\n",
       "      <td>2</td>\n",
       "      <td>Miss</td>\n",
       "      <td>1</td>\n",
       "      <td>23</td>\n",
       "    </tr>\n",
       "    <tr>\n",
       "      <th>35</th>\n",
       "      <td>3</td>\n",
       "      <td>Mrs</td>\n",
       "      <td>1</td>\n",
       "      <td>16</td>\n",
       "    </tr>\n",
       "    <tr>\n",
       "      <th>23</th>\n",
       "      <td>2</td>\n",
       "      <td>Mr</td>\n",
       "      <td>1</td>\n",
       "      <td>7</td>\n",
       "    </tr>\n",
       "    <tr>\n",
       "      <th>29</th>\n",
       "      <td>3</td>\n",
       "      <td>Master</td>\n",
       "      <td>1</td>\n",
       "      <td>7</td>\n",
       "    </tr>\n",
       "    <tr>\n",
       "      <th>19</th>\n",
       "      <td>2</td>\n",
       "      <td>Master</td>\n",
       "      <td>1</td>\n",
       "      <td>6</td>\n",
       "    </tr>\n",
       "    <tr>\n",
       "      <th>8</th>\n",
       "      <td>1</td>\n",
       "      <td>Master</td>\n",
       "      <td>1</td>\n",
       "      <td>3</td>\n",
       "    </tr>\n",
       "    <tr>\n",
       "      <th>3</th>\n",
       "      <td>1</td>\n",
       "      <td>Dr</td>\n",
       "      <td>1</td>\n",
       "      <td>2</td>\n",
       "    </tr>\n",
       "    <tr>\n",
       "      <th>11</th>\n",
       "      <td>1</td>\n",
       "      <td>Mlle</td>\n",
       "      <td>1</td>\n",
       "      <td>2</td>\n",
       "    </tr>\n",
       "    <tr>\n",
       "      <th>5</th>\n",
       "      <td>1</td>\n",
       "      <td>Lady</td>\n",
       "      <td>1</td>\n",
       "      <td>1</td>\n",
       "    </tr>\n",
       "  </tbody>\n",
       "</table>\n",
       "</div>"
      ],
      "text/plain": [
       "    Pclass PrefixName  Survived  Name\n",
       "31       3       Miss         1    40\n",
       "10       1       Miss         1    38\n",
       "14       1         Mr         1    33\n",
       "16       1        Mrs         1    32\n",
       "25       2        Mrs         1    28\n",
       "33       3         Mr         1    28\n",
       "21       2       Miss         1    23\n",
       "35       3        Mrs         1    16\n",
       "23       2         Mr         1     7\n",
       "29       3     Master         1     7\n",
       "19       2     Master         1     6\n",
       "8        1     Master         1     3\n",
       "3        1         Dr         1     2\n",
       "11       1       Mlle         1     2\n",
       "5        1       Lady         1     1"
      ]
     },
     "execution_count": 876,
     "metadata": {},
     "output_type": "execute_result"
    }
   ],
   "source": [
    "gb.sort_values(by=['Survived', 'Name'], ascending=False).head(15)\n",
    "df_train['family_size_cat'] = df_train['family_size'].map(family_size_map)\n",
    "special_prefix \n",
    "# High probability of survival: Countess, Lady , Sir, Madame -- all prefixes connected to 1st class"
   ]
  },
  {
   "cell_type": "code",
   "execution_count": 811,
   "id": "bbecbb7c",
   "metadata": {},
   "outputs": [
    {
     "data": {
      "text/plain": [
       "<AxesSubplot:xlabel='Surname', ylabel='Name'>"
      ]
     },
     "execution_count": 811,
     "metadata": {},
     "output_type": "execute_result"
    },
    {
     "data": {
      "image/png": "[encoded data removed]",
      "text/plain": [
       "<Figure size 1440x360 with 1 Axes>"
      ]
     },
     "metadata": {
      "needs_background": "light"
     },
     "output_type": "display_data"
    }
   ],
   "source": [
    "gb = family[['Surname','Name', 'Survived', 'Pclass']].groupby(['Pclass','Surname', 'Survived']).count()\n",
    "gb.reset_index(inplace=True)\n",
    "gb.sort_values(by='Surname', ascending=False)\n",
    "plt.figure(figsize=(20,5))\n",
    "sns.barplot(x='Surname',y ='Name', hue = 'Survived', data = gb)\n",
    "# Families with more than 2 people on board tend to have higher mortality rate"
   ]
  },
  {
   "cell_type": "code",
   "execution_count": 812,
   "id": "88caef9f",
   "metadata": {},
   "outputs": [
    {
     "data": {
      "text/html": [
       "<div>\n",
       "<style scoped>\n",
       "    .dataframe tbody tr th:only-of-type {\n",
       "        vertical-align: middle;\n",
       "    }\n",
       "\n",
       "    .dataframe tbody tr th {\n",
       "        vertical-align: top;\n",
       "    }\n",
       "\n",
       "    .dataframe thead th {\n",
       "        text-align: right;\n",
       "    }\n",
       "</style>\n",
       "<table border=\"1\" class=\"dataframe\">\n",
       "  <thead>\n",
       "    <tr style=\"text-align: right;\">\n",
       "      <th></th>\n",
       "      <th>Pclass</th>\n",
       "      <th>Surname</th>\n",
       "      <th>Survived</th>\n",
       "      <th>Name</th>\n",
       "    </tr>\n",
       "  </thead>\n",
       "  <tbody>\n",
       "    <tr>\n",
       "      <th>544</th>\n",
       "      <td>3</td>\n",
       "      <td>Sage</td>\n",
       "      <td>0</td>\n",
       "      <td>7</td>\n",
       "    </tr>\n",
       "    <tr>\n",
       "      <th>297</th>\n",
       "      <td>3</td>\n",
       "      <td>Andersson</td>\n",
       "      <td>0</td>\n",
       "      <td>5</td>\n",
       "    </tr>\n",
       "    <tr>\n",
       "      <th>558</th>\n",
       "      <td>3</td>\n",
       "      <td>Skoog</td>\n",
       "      <td>0</td>\n",
       "      <td>5</td>\n",
       "    </tr>\n",
       "    <tr>\n",
       "      <th>372</th>\n",
       "      <td>3</td>\n",
       "      <td>Ford</td>\n",
       "      <td>0</td>\n",
       "      <td>4</td>\n",
       "    </tr>\n",
       "    <tr>\n",
       "      <th>517</th>\n",
       "      <td>3</td>\n",
       "      <td>Panula</td>\n",
       "      <td>0</td>\n",
       "      <td>4</td>\n",
       "    </tr>\n",
       "    <tr>\n",
       "      <th>537</th>\n",
       "      <td>3</td>\n",
       "      <td>Rice</td>\n",
       "      <td>0</td>\n",
       "      <td>4</td>\n",
       "    </tr>\n",
       "    <tr>\n",
       "      <th>390</th>\n",
       "      <td>3</td>\n",
       "      <td>Hansen</td>\n",
       "      <td>0</td>\n",
       "      <td>3</td>\n",
       "    </tr>\n",
       "    <tr>\n",
       "      <th>384</th>\n",
       "      <td>3</td>\n",
       "      <td>Gustafsson</td>\n",
       "      <td>0</td>\n",
       "      <td>3</td>\n",
       "    </tr>\n",
       "    <tr>\n",
       "      <th>381</th>\n",
       "      <td>3</td>\n",
       "      <td>Goodwin</td>\n",
       "      <td>0</td>\n",
       "      <td>3</td>\n",
       "    </tr>\n",
       "    <tr>\n",
       "      <th>442</th>\n",
       "      <td>3</td>\n",
       "      <td>Lefebre</td>\n",
       "      <td>0</td>\n",
       "      <td>3</td>\n",
       "    </tr>\n",
       "    <tr>\n",
       "      <th>584</th>\n",
       "      <td>3</td>\n",
       "      <td>Van Impe</td>\n",
       "      <td>0</td>\n",
       "      <td>3</td>\n",
       "    </tr>\n",
       "    <tr>\n",
       "      <th>511</th>\n",
       "      <td>3</td>\n",
       "      <td>Olsen</td>\n",
       "      <td>0</td>\n",
       "      <td>3</td>\n",
       "    </tr>\n",
       "    <tr>\n",
       "      <th>588</th>\n",
       "      <td>3</td>\n",
       "      <td>Vander Planke</td>\n",
       "      <td>0</td>\n",
       "      <td>3</td>\n",
       "    </tr>\n",
       "    <tr>\n",
       "      <th>319</th>\n",
       "      <td>3</td>\n",
       "      <td>Boulos</td>\n",
       "      <td>0</td>\n",
       "      <td>3</td>\n",
       "    </tr>\n",
       "    <tr>\n",
       "      <th>516</th>\n",
       "      <td>3</td>\n",
       "      <td>Palsson</td>\n",
       "      <td>0</td>\n",
       "      <td>3</td>\n",
       "    </tr>\n",
       "  </tbody>\n",
       "</table>\n",
       "</div>"
      ],
      "text/plain": [
       "     Pclass        Surname  Survived  Name\n",
       "544       3           Sage         0     7\n",
       "297       3      Andersson         0     5\n",
       "558       3          Skoog         0     5\n",
       "372       3           Ford         0     4\n",
       "517       3         Panula         0     4\n",
       "537       3           Rice         0     4\n",
       "390       3         Hansen         0     3\n",
       "384       3     Gustafsson         0     3\n",
       "381       3        Goodwin         0     3\n",
       "442       3        Lefebre         0     3\n",
       "584       3       Van Impe         0     3\n",
       "511       3          Olsen         0     3\n",
       "588       3  Vander Planke         0     3\n",
       "319       3         Boulos         0     3\n",
       "516       3        Palsson         0     3"
      ]
     },
     "execution_count": 812,
     "metadata": {},
     "output_type": "execute_result"
    }
   ],
   "source": [
    "\n",
    "gb[gb['Survived'] == 0].sort_values(by='Name', ascending=False).head(15)\n",
    "# High mortality rate on families with many people on board and belonging to the 3rd Class"
   ]
  },
  {
   "cell_type": "code",
   "execution_count": 813,
   "id": "4caafe67",
   "metadata": {},
   "outputs": [
    {
     "data": {
      "text/html": [
       "<div>\n",
       "<style scoped>\n",
       "    .dataframe tbody tr th:only-of-type {\n",
       "        vertical-align: middle;\n",
       "    }\n",
       "\n",
       "    .dataframe tbody tr th {\n",
       "        vertical-align: top;\n",
       "    }\n",
       "\n",
       "    .dataframe thead th {\n",
       "        text-align: right;\n",
       "    }\n",
       "</style>\n",
       "<table border=\"1\" class=\"dataframe\">\n",
       "  <thead>\n",
       "    <tr style=\"text-align: right;\">\n",
       "      <th></th>\n",
       "      <th>Pclass</th>\n",
       "      <th>Survived</th>\n",
       "      <th>Name</th>\n",
       "    </tr>\n",
       "  </thead>\n",
       "  <tbody>\n",
       "    <tr>\n",
       "      <th>count</th>\n",
       "      <td>368.000000</td>\n",
       "      <td>368.0</td>\n",
       "      <td>368.000000</td>\n",
       "    </tr>\n",
       "    <tr>\n",
       "      <th>mean</th>\n",
       "      <td>2.442935</td>\n",
       "      <td>0.0</td>\n",
       "      <td>1.184783</td>\n",
       "    </tr>\n",
       "    <tr>\n",
       "      <th>std</th>\n",
       "      <td>0.786122</td>\n",
       "      <td>0.0</td>\n",
       "      <td>0.638106</td>\n",
       "    </tr>\n",
       "    <tr>\n",
       "      <th>min</th>\n",
       "      <td>1.000000</td>\n",
       "      <td>0.0</td>\n",
       "      <td>1.000000</td>\n",
       "    </tr>\n",
       "    <tr>\n",
       "      <th>25%</th>\n",
       "      <td>2.000000</td>\n",
       "      <td>0.0</td>\n",
       "      <td>1.000000</td>\n",
       "    </tr>\n",
       "    <tr>\n",
       "      <th>50%</th>\n",
       "      <td>3.000000</td>\n",
       "      <td>0.0</td>\n",
       "      <td>1.000000</td>\n",
       "    </tr>\n",
       "    <tr>\n",
       "      <th>75%</th>\n",
       "      <td>3.000000</td>\n",
       "      <td>0.0</td>\n",
       "      <td>1.000000</td>\n",
       "    </tr>\n",
       "    <tr>\n",
       "      <th>max</th>\n",
       "      <td>3.000000</td>\n",
       "      <td>0.0</td>\n",
       "      <td>7.000000</td>\n",
       "    </tr>\n",
       "  </tbody>\n",
       "</table>\n",
       "</div>"
      ],
      "text/plain": [
       "           Pclass  Survived        Name\n",
       "count  368.000000     368.0  368.000000\n",
       "mean     2.442935       0.0    1.184783\n",
       "std      0.786122       0.0    0.638106\n",
       "min      1.000000       0.0    1.000000\n",
       "25%      2.000000       0.0    1.000000\n",
       "50%      3.000000       0.0    1.000000\n",
       "75%      3.000000       0.0    1.000000\n",
       "max      3.000000       0.0    7.000000"
      ]
     },
     "execution_count": 813,
     "metadata": {},
     "output_type": "execute_result"
    }
   ],
   "source": [
    "gb[gb['Survived'] == 0].describe()\n",
    "# 50% on non survivants were on 3rd class"
   ]
  },
  {
   "cell_type": "code",
   "execution_count": 814,
   "id": "66ff980c",
   "metadata": {},
   "outputs": [
    {
     "data": {
      "text/html": [
       "<div>\n",
       "<style scoped>\n",
       "    .dataframe tbody tr th:only-of-type {\n",
       "        vertical-align: middle;\n",
       "    }\n",
       "\n",
       "    .dataframe tbody tr th {\n",
       "        vertical-align: top;\n",
       "    }\n",
       "\n",
       "    .dataframe thead th {\n",
       "        text-align: right;\n",
       "    }\n",
       "</style>\n",
       "<table border=\"1\" class=\"dataframe\">\n",
       "  <thead>\n",
       "    <tr style=\"text-align: right;\">\n",
       "      <th></th>\n",
       "      <th>Pclass</th>\n",
       "      <th>Surname</th>\n",
       "      <th>Survived</th>\n",
       "      <th>Name</th>\n",
       "    </tr>\n",
       "  </thead>\n",
       "  <tbody>\n",
       "    <tr>\n",
       "      <th>309</th>\n",
       "      <td>3</td>\n",
       "      <td>Baclini</td>\n",
       "      <td>1</td>\n",
       "      <td>3</td>\n",
       "    </tr>\n",
       "    <tr>\n",
       "      <th>259</th>\n",
       "      <td>2</td>\n",
       "      <td>Richards</td>\n",
       "      <td>1</td>\n",
       "      <td>3</td>\n",
       "    </tr>\n",
       "    <tr>\n",
       "      <th>303</th>\n",
       "      <td>3</td>\n",
       "      <td>Asplund</td>\n",
       "      <td>1</td>\n",
       "      <td>3</td>\n",
       "    </tr>\n",
       "    <tr>\n",
       "      <th>32</th>\n",
       "      <td>1</td>\n",
       "      <td>Carter</td>\n",
       "      <td>1</td>\n",
       "      <td>3</td>\n",
       "    </tr>\n",
       "    <tr>\n",
       "      <th>255</th>\n",
       "      <td>2</td>\n",
       "      <td>Quick</td>\n",
       "      <td>1</td>\n",
       "      <td>2</td>\n",
       "    </tr>\n",
       "    <tr>\n",
       "      <th>204</th>\n",
       "      <td>2</td>\n",
       "      <td>Hart</td>\n",
       "      <td>1</td>\n",
       "      <td>2</td>\n",
       "    </tr>\n",
       "    <tr>\n",
       "      <th>44</th>\n",
       "      <td>1</td>\n",
       "      <td>Dick</td>\n",
       "      <td>1</td>\n",
       "      <td>2</td>\n",
       "    </tr>\n",
       "    <tr>\n",
       "      <th>189</th>\n",
       "      <td>2</td>\n",
       "      <td>Doling</td>\n",
       "      <td>1</td>\n",
       "      <td>2</td>\n",
       "    </tr>\n",
       "    <tr>\n",
       "      <th>491</th>\n",
       "      <td>3</td>\n",
       "      <td>Murphy</td>\n",
       "      <td>1</td>\n",
       "      <td>2</td>\n",
       "    </tr>\n",
       "    <tr>\n",
       "      <th>185</th>\n",
       "      <td>2</td>\n",
       "      <td>Collyer</td>\n",
       "      <td>1</td>\n",
       "      <td>2</td>\n",
       "    </tr>\n",
       "  </tbody>\n",
       "</table>\n",
       "</div>"
      ],
      "text/plain": [
       "     Pclass   Surname  Survived  Name\n",
       "309       3   Baclini         1     3\n",
       "259       2  Richards         1     3\n",
       "303       3   Asplund         1     3\n",
       "32        1    Carter         1     3\n",
       "255       2     Quick         1     2\n",
       "204       2      Hart         1     2\n",
       "44        1      Dick         1     2\n",
       "189       2    Doling         1     2\n",
       "491       3    Murphy         1     2\n",
       "185       2   Collyer         1     2"
      ]
     },
     "execution_count": 814,
     "metadata": {},
     "output_type": "execute_result"
    }
   ],
   "source": [
    "gb[gb['Survived'] == 1].sort_values(by='Name', ascending=False).head(10)"
   ]
  },
  {
   "cell_type": "code",
   "execution_count": 815,
   "id": "0942e59f",
   "metadata": {},
   "outputs": [
    {
     "data": {
      "text/html": [
       "<div>\n",
       "<style scoped>\n",
       "    .dataframe tbody tr th:only-of-type {\n",
       "        vertical-align: middle;\n",
       "    }\n",
       "\n",
       "    .dataframe tbody tr th {\n",
       "        vertical-align: top;\n",
       "    }\n",
       "\n",
       "    .dataframe thead th {\n",
       "        text-align: right;\n",
       "    }\n",
       "</style>\n",
       "<table border=\"1\" class=\"dataframe\">\n",
       "  <thead>\n",
       "    <tr style=\"text-align: right;\">\n",
       "      <th></th>\n",
       "      <th>Pclass</th>\n",
       "      <th>Survived</th>\n",
       "      <th>Name</th>\n",
       "    </tr>\n",
       "  </thead>\n",
       "  <tbody>\n",
       "    <tr>\n",
       "      <th>count</th>\n",
       "      <td>236.000000</td>\n",
       "      <td>236.0</td>\n",
       "      <td>236.000000</td>\n",
       "    </tr>\n",
       "    <tr>\n",
       "      <th>mean</th>\n",
       "      <td>1.991525</td>\n",
       "      <td>1.0</td>\n",
       "      <td>1.169492</td>\n",
       "    </tr>\n",
       "    <tr>\n",
       "      <th>std</th>\n",
       "      <td>0.875149</td>\n",
       "      <td>0.0</td>\n",
       "      <td>0.418815</td>\n",
       "    </tr>\n",
       "    <tr>\n",
       "      <th>min</th>\n",
       "      <td>1.000000</td>\n",
       "      <td>1.0</td>\n",
       "      <td>1.000000</td>\n",
       "    </tr>\n",
       "    <tr>\n",
       "      <th>25%</th>\n",
       "      <td>1.000000</td>\n",
       "      <td>1.0</td>\n",
       "      <td>1.000000</td>\n",
       "    </tr>\n",
       "    <tr>\n",
       "      <th>50%</th>\n",
       "      <td>2.000000</td>\n",
       "      <td>1.0</td>\n",
       "      <td>1.000000</td>\n",
       "    </tr>\n",
       "    <tr>\n",
       "      <th>75%</th>\n",
       "      <td>3.000000</td>\n",
       "      <td>1.0</td>\n",
       "      <td>1.000000</td>\n",
       "    </tr>\n",
       "    <tr>\n",
       "      <th>max</th>\n",
       "      <td>3.000000</td>\n",
       "      <td>1.0</td>\n",
       "      <td>3.000000</td>\n",
       "    </tr>\n",
       "  </tbody>\n",
       "</table>\n",
       "</div>"
      ],
      "text/plain": [
       "           Pclass  Survived        Name\n",
       "count  236.000000     236.0  236.000000\n",
       "mean     1.991525       1.0    1.169492\n",
       "std      0.875149       0.0    0.418815\n",
       "min      1.000000       1.0    1.000000\n",
       "25%      1.000000       1.0    1.000000\n",
       "50%      2.000000       1.0    1.000000\n",
       "75%      3.000000       1.0    1.000000\n",
       "max      3.000000       1.0    3.000000"
      ]
     },
     "execution_count": 815,
     "metadata": {},
     "output_type": "execute_result"
    }
   ],
   "source": [
    "gb[gb['Survived'] == 1].describe()\n",
    "# Mixed group of survivants "
   ]
  },
  {
   "cell_type": "code",
   "execution_count": 816,
   "id": "d3cdeb70",
   "metadata": {},
   "outputs": [
    {
     "data": {
      "text/html": [
       "<div>\n",
       "<style scoped>\n",
       "    .dataframe tbody tr th:only-of-type {\n",
       "        vertical-align: middle;\n",
       "    }\n",
       "\n",
       "    .dataframe tbody tr th {\n",
       "        vertical-align: top;\n",
       "    }\n",
       "\n",
       "    .dataframe thead th {\n",
       "        text-align: right;\n",
       "    }\n",
       "</style>\n",
       "<table border=\"1\" class=\"dataframe\">\n",
       "  <thead>\n",
       "    <tr style=\"text-align: right;\">\n",
       "      <th></th>\n",
       "      <th>Name</th>\n",
       "      <th>SibSp</th>\n",
       "      <th>Parch</th>\n",
       "      <th>Survived</th>\n",
       "      <th>Cabin</th>\n",
       "      <th>Pclass</th>\n",
       "      <th>Surname</th>\n",
       "      <th>FirstName</th>\n",
       "      <th>PrefixName</th>\n",
       "    </tr>\n",
       "    <tr>\n",
       "      <th>PassengerId</th>\n",
       "      <th></th>\n",
       "      <th></th>\n",
       "      <th></th>\n",
       "      <th></th>\n",
       "      <th></th>\n",
       "      <th></th>\n",
       "      <th></th>\n",
       "      <th></th>\n",
       "      <th></th>\n",
       "    </tr>\n",
       "  </thead>\n",
       "  <tbody>\n",
       "    <tr>\n",
       "      <th>851</th>\n",
       "      <td>Andersson, Master. Sigvard Harald Elias</td>\n",
       "      <td>4</td>\n",
       "      <td>2</td>\n",
       "      <td>0</td>\n",
       "      <td>not identified</td>\n",
       "      <td>3</td>\n",
       "      <td>Andersson</td>\n",
       "      <td>Sigvard Harald Elias</td>\n",
       "      <td>Master</td>\n",
       "    </tr>\n",
       "    <tr>\n",
       "      <th>814</th>\n",
       "      <td>Andersson, Miss. Ebba Iris Alfrida</td>\n",
       "      <td>4</td>\n",
       "      <td>2</td>\n",
       "      <td>0</td>\n",
       "      <td>not identified</td>\n",
       "      <td>3</td>\n",
       "      <td>Andersson</td>\n",
       "      <td>Ebba Iris Alfrida</td>\n",
       "      <td>Miss</td>\n",
       "    </tr>\n",
       "    <tr>\n",
       "      <th>14</th>\n",
       "      <td>Andersson, Mr. Anders Johan</td>\n",
       "      <td>1</td>\n",
       "      <td>5</td>\n",
       "      <td>0</td>\n",
       "      <td>not identified</td>\n",
       "      <td>3</td>\n",
       "      <td>Andersson</td>\n",
       "      <td>Anders Johan</td>\n",
       "      <td>Mr</td>\n",
       "    </tr>\n",
       "    <tr>\n",
       "      <th>611</th>\n",
       "      <td>Andersson, Mrs. Anders Johan (Alfrida Konstant...</td>\n",
       "      <td>1</td>\n",
       "      <td>5</td>\n",
       "      <td>0</td>\n",
       "      <td>not identified</td>\n",
       "      <td>3</td>\n",
       "      <td>Andersson</td>\n",
       "      <td>Anders Johan (Alfrida Konstantia Brogren)</td>\n",
       "      <td>Mrs</td>\n",
       "    </tr>\n",
       "    <tr>\n",
       "      <th>69</th>\n",
       "      <td>Andersson, Miss. Erna Alexandra</td>\n",
       "      <td>4</td>\n",
       "      <td>2</td>\n",
       "      <td>1</td>\n",
       "      <td>not identified</td>\n",
       "      <td>3</td>\n",
       "      <td>Andersson</td>\n",
       "      <td>Erna Alexandra</td>\n",
       "      <td>Miss</td>\n",
       "    </tr>\n",
       "    <tr>\n",
       "      <th>542</th>\n",
       "      <td>Andersson, Miss. Ingeborg Constanzia</td>\n",
       "      <td>4</td>\n",
       "      <td>2</td>\n",
       "      <td>0</td>\n",
       "      <td>not identified</td>\n",
       "      <td>3</td>\n",
       "      <td>Andersson</td>\n",
       "      <td>Ingeborg Constanzia</td>\n",
       "      <td>Miss</td>\n",
       "    </tr>\n",
       "  </tbody>\n",
       "</table>\n",
       "</div>"
      ],
      "text/plain": [
       "                                                          Name  SibSp  Parch  \\\n",
       "PassengerId                                                                    \n",
       "851                    Andersson, Master. Sigvard Harald Elias      4      2   \n",
       "814                         Andersson, Miss. Ebba Iris Alfrida      4      2   \n",
       "14                                 Andersson, Mr. Anders Johan      1      5   \n",
       "611          Andersson, Mrs. Anders Johan (Alfrida Konstant...      1      5   \n",
       "69                             Andersson, Miss. Erna Alexandra      4      2   \n",
       "542                       Andersson, Miss. Ingeborg Constanzia      4      2   \n",
       "\n",
       "             Survived           Cabin  Pclass    Surname  \\\n",
       "PassengerId                                                \n",
       "851                 0  not identified       3  Andersson   \n",
       "814                 0  not identified       3  Andersson   \n",
       "14                  0  not identified       3  Andersson   \n",
       "611                 0  not identified       3  Andersson   \n",
       "69                  1  not identified       3  Andersson   \n",
       "542                 0  not identified       3  Andersson   \n",
       "\n",
       "                                              FirstName PrefixName  \n",
       "PassengerId                                                         \n",
       "851                                Sigvard Harald Elias     Master  \n",
       "814                                   Ebba Iris Alfrida       Miss  \n",
       "14                                         Anders Johan         Mr  \n",
       "611           Anders Johan (Alfrida Konstantia Brogren)        Mrs  \n",
       "69                                       Erna Alexandra       Miss  \n",
       "542                                 Ingeborg Constanzia       Miss  "
      ]
     },
     "execution_count": 816,
     "metadata": {},
     "output_type": "execute_result"
    }
   ],
   "source": [
    "family[family['Surname']== 'Andersson']"
   ]
  },
  {
   "cell_type": "code",
   "execution_count": 817,
   "id": "b3d695e6",
   "metadata": {},
   "outputs": [
    {
     "data": {
      "image/png": "[encoded data removed]",
      "text/plain": [
       "<Figure size 720x504 with 1 Axes>"
      ]
     },
     "metadata": {
      "needs_background": "light"
     },
     "output_type": "display_data"
    }
   ],
   "source": [
    "gb = family[['SibSp','Name', 'Survived']].groupby(['SibSp','Survived']).count()\n",
    "gb.reset_index(inplace=True)\n",
    "gb.sort_values(by='SibSp', ascending=False)\n",
    "plt.figure(figsize=(10,7))\n",
    "ax = sns.barplot(x='SibSp', y='Name', hue='Survived'\n",
    "                 , data=gb)\n",
    "# Most passengers did not have a sibling or spouse on board. \n",
    "#The survival rates look better for people with 1 or 2 siblings/spouses"
   ]
  },
  {
   "cell_type": "code",
   "execution_count": 818,
   "id": "d9d6cfd4",
   "metadata": {},
   "outputs": [
    {
     "data": {
      "image/png": "[encoded data removed]",
      "text/plain": [
       "<Figure size 720x504 with 1 Axes>"
      ]
     },
     "metadata": {
      "needs_background": "light"
     },
     "output_type": "display_data"
    }
   ],
   "source": [
    "gb = family[['Parch','Name', 'Survived']].groupby(['Parch','Survived']).count()\n",
    "gb.reset_index(inplace=True)\n",
    "gb.sort_values(by='Parch', ascending=False)\n",
    "plt.figure(figsize=(10,7))\n",
    "ax = sns.barplot(x='Parch', y='Name', hue='Survived'\n",
    "                 , data=gb)\n",
    "# Most passengers traveled alone. Survival rate is improved for 1 or 2 children/parents "
   ]
  },
  {
   "cell_type": "code",
   "execution_count": 7,
   "id": "b5b1db84",
   "metadata": {},
   "outputs": [
    {
     "data": {
      "image/png": "[encoded data removed]",
      "text/plain": [
       "<Figure size 720x576 with 1 Axes>"
      ]
     },
     "metadata": {
      "needs_background": "light"
     },
     "output_type": "display_data"
    }
   ],
   "source": [
    "# create family size feature \n",
    "\n",
    "#Train Data \n",
    "df_train['family_size'] = df_train['Parch']+df_train['SibSp']+1 \n",
    "df_train['family_size'].value_counts().sort_index()\n",
    "family_size_map = {1: 'alone', 2: 'small', 3: 'small', 4: 'small', 5: 'medium', 6: 'medium', 7: 'large', \n",
    "                   8: 'large', 11: 'large'}\n",
    "df_train['family_size_cat'] = df_train['family_size'].map(family_size_map)\n",
    "\n",
    "#Test data \n",
    "df_test['family_size'] = df_test['Parch']+df_test['SibSp']+1 \n",
    "df_test['family_size'].value_counts().sort_index()\n",
    "family_size_map = {1: 'alone', 2: 'small', 3: 'small', 4: 'small', 5: 'medium', 6: 'medium', 7: 'large', \n",
    "                   8: 'large', 11: 'large'}\n",
    "df_test['family_size_cat'] = df_test['family_size'].map(family_size_map)\n",
    "\n",
    "# Plot df_train on family size\n",
    "fig, ax = plt.subplots(figsize=(10,8))\n",
    "ax = sns.countplot(x='Survived', hue='family_size_cat', data=df_train)\n",
    "plt.show()\n"
   ]
  },
  {
   "cell_type": "code",
   "execution_count": 63,
   "id": "1eba2e13",
   "metadata": {},
   "outputs": [
    {
     "data": {
      "text/plain": [
       "((28872, 1), (28872,))"
      ]
     },
     "execution_count": 63,
     "metadata": {},
     "output_type": "execute_result"
    }
   ],
   "source": [
    "#Step 5: Baseline model + Evaluation metrics - Logistic Regression, Random Forest\n",
    "\n",
    "# Let's use only Pclass, the strongest predictor of Survival classification\n",
    "\n",
    "Xtrain = df_train[['Pclass']] \n",
    "Xtest = df_test[['Pclass']]\n",
    "\n",
    "ytrain = df_train['Survived'] \n",
    "ytest = df_test['Survived']\n",
    "\n",
    "Xtrain.shape, ytrain.shape\n"
   ]
  },
  {
   "cell_type": "code",
   "execution_count": 343,
   "id": "dab9c5b5",
   "metadata": {},
   "outputs": [
    {
     "data": {
      "image/png": "[encoded data removed]",
      "text/plain": [
       "<Figure size 720x504 with 1 Axes>"
      ]
     },
     "metadata": {
      "needs_background": "light"
     },
     "output_type": "display_data"
    }
   ],
   "source": [
    "# Select treshold and create baseline model with just Pclass\n",
    "\n",
    "gb = df_train[['PassengerId','Pclass', 'Survived']].groupby(['Pclass','Survived']).count()\n",
    "gb.reset_index(inplace=True)\n",
    "plt.figure(figsize=(10,7))\n",
    "ax = sns.barplot(x='Pclass', y='PassengerId', hue='Survived'\n",
    "                 , data=gb)\n",
    "#If pclass = 1 => passenger survived\n",
    "#If pclass = 2 => passenger survived but with 60% probability (uncertain)\n",
    "#If pclass = 3 => passenger not survived"
   ]
  },
  {
   "cell_type": "code",
   "execution_count": 347,
   "id": "99aa3343",
   "metadata": {},
   "outputs": [
    {
     "name": "stdout",
     "output_type": "stream",
     "text": [
      "              precision    recall  f1-score   support\n",
      "\n",
      "           0       0.76      0.67      0.71       444\n",
      "           1       0.55      0.65      0.59       268\n",
      "\n",
      "    accuracy                           0.66       712\n",
      "   macro avg       0.65      0.66      0.65       712\n",
      "weighted avg       0.68      0.66      0.67       712\n",
      "\n"
     ]
    }
   ],
   "source": [
    "threshold = 3\n",
    "\n",
    "def predict(x):\n",
    "    if x < threshold:\n",
    "        return 1 # Survived\n",
    "    else:\n",
    "        return 0 #'Non Survived'\n",
    "\n",
    "ypred = Xtrain['Pclass'].apply(predict)  # runs a function over all values\n",
    "\n",
    "acc = round(accuracy_score(ypred,ytrain),3)\n",
    "prec = round(precision_score(ytrain, ypred), 2)\n",
    "rec = round(recall_score(ytrain, ypred),2)\n",
    "f1_score = round(f1_score(ytrain, ypred),2)\n",
    "\n",
    "print(classification_report(ytrain, ypred))\n"
   ]
  },
  {
   "cell_type": "code",
   "execution_count": 348,
   "id": "fd8cd65e",
   "metadata": {},
   "outputs": [
    {
     "data": {
      "text/plain": [
       "<sklearn.metrics._plot.confusion_matrix.ConfusionMatrixDisplay at 0x7f26f4cc6b20>"
      ]
     },
     "execution_count": 348,
     "metadata": {},
     "output_type": "execute_result"
    },
    {
     "data": {
      "image/png": "[encoded data removed]",
      "text/plain": [
       "<Figure size 432x288 with 2 Axes>"
      ]
     },
     "metadata": {
      "needs_background": "light"
     },
     "output_type": "display_data"
    }
   ],
   "source": [
    "cm = confusion_matrix(ytrain, ypred)\n",
    "disp = ConfusionMatrixDisplay(confusion_matrix=cm)\n",
    "disp.plot() \n",
    "\n",
    "#Comments: the baseline predicts the true values better on the non survived group, but overall model is not very good\n",
    "#Accuracy (how precise the model is): the accuracy is not good for survived group (a lot of false positives)\n",
    "# Recall (how many positives the model capture): not very high in neither of the passenger groups"
   ]
  },
  {
   "cell_type": "code",
   "execution_count": 64,
   "id": "1d63da9a",
   "metadata": {},
   "outputs": [
    {
     "name": "stdout",
     "output_type": "stream",
     "text": [
      "              precision    recall  f1-score   support\n",
      "\n",
      "           0       0.72      0.87      0.79     19124\n",
      "           1       0.56      0.32      0.41      9748\n",
      "\n",
      "    accuracy                           0.69     28872\n",
      "   macro avg       0.64      0.60      0.60     28872\n",
      "weighted avg       0.66      0.69      0.66     28872\n",
      "\n",
      "crossvalidatin for DecisionTree is [0.69142857 0.71324675 0.65968133 0.63612747 0.73051611]\n",
      "\n",
      "Comparison with test data\n",
      "training DecTree accuracy =  0.69\n",
      "validation DecTree accuracy =  0.71\n"
     ]
    }
   ],
   "source": [
    "# Baseline Decision Tree Classifier \n",
    "\n",
    "def train_decision_tree(Xtrain,ytrain,Xtest, ytest,tree_depth):\n",
    "    m_tree = DecisionTreeClassifier(max_depth=tree_depth)  \n",
    "    m_tree.fit(Xtrain.values, ytrain.values)\n",
    "\n",
    "    ypred_tree = m_tree.predict(Xtrain.values)\n",
    "    print(classification_report(ytrain.values, ypred_tree))\n",
    "    print(f'crossvalidatin for DecisionTree is {cross_val_score(m_tree, Xtrain, ytrain)}')\n",
    "    print('')\n",
    "    print('Comparison with test data')\n",
    "    print(\"training DecTree accuracy = \",   round(m_tree.score(Xtrain.values, ytrain.values),2))\n",
    "    print(\"validation DecTree accuracy = \", round(m_tree.score(Xtest.values, ytest.values), 2))\n",
    "    \n",
    "train_decision_tree(Xtrain,ytrain,Xtest, ytest,3)"
   ]
  },
  {
   "cell_type": "code",
   "execution_count": 65,
   "id": "78d2e476",
   "metadata": {},
   "outputs": [
    {
     "name": "stdout",
     "output_type": "stream",
     "text": [
      "              precision    recall  f1-score   support\n",
      "\n",
      "           0       0.74      0.77      0.75     19124\n",
      "           1       0.51      0.47      0.49      9748\n",
      "\n",
      "    accuracy                           0.67     28872\n",
      "   macro avg       0.63      0.62      0.62     28872\n",
      "weighted avg       0.66      0.67      0.67     28872\n",
      "\n",
      "crossvalidatin for LogReg is [0.62822511 0.68883117 0.65968133 0.69587807 0.66868722]\n",
      "\n",
      "Comparison with test data\n",
      "training LogReg accuracy =  0.67\n",
      "validation LogReg accuracy =  0.7\n"
     ]
    }
   ],
   "source": [
    "#Baseline Logistic Regression\n",
    "def train_logistic_regression(Xtrain,ytrain,Xtest, ytest):\n",
    "    m = LogisticRegression(class_weight='balanced', multi_class='multinomial', solver='lbfgs')\n",
    "    m.fit(Xtrain.values, ytrain.values)\n",
    "    ypred_log = m.predict(Xtrain.values)\n",
    "    print(classification_report(ytrain.values, ypred_log))\n",
    "    print(f'crossvalidatin for LogReg is {cross_val_score(m, Xtrain, ytrain)}')\n",
    "    print('')\n",
    "    print('Comparison with test data')\n",
    "    print(\"training LogReg accuracy = \",   round(m.score(Xtrain.values, ytrain.values),2))\n",
    "    print(\"validation LogReg accuracy = \", round(m.score(Xtest.values, ytest.values), 2))\n",
    "    \n",
    "train_logistic_regression(Xtrain,ytrain,Xtest, ytest)"
   ]
  },
  {
   "cell_type": "code",
   "execution_count": 851,
   "id": "ce3793e8",
   "metadata": {},
   "outputs": [
    {
     "name": "stdout",
     "output_type": "stream",
     "text": [
      "prediction for [[1]] class is    1.000\n",
      "probability for Non Survived(0) is  0.243\n",
      "probability for Survived(1) is      0.757\n"
     ]
    },
    {
     "data": {
      "text/plain": [
       "<matplotlib.collections.PathCollection at 0x7f26f27fa0a0>"
      ]
     },
     "execution_count": 851,
     "metadata": {},
     "output_type": "execute_result"
    },
    {
     "data": {
      "image/png": "[encoded data removed]",
      "text/plain": [
       "<Figure size 432x288 with 1 Axes>"
      ]
     },
     "metadata": {
      "needs_background": "light"
     },
     "output_type": "display_data"
    }
   ],
   "source": [
    "# Predictions and probabilities - Logistic Regression\n",
    "tux = [[1]] \n",
    "d = m.predict(tux)\n",
    "p = m.predict_proba(tux) \n",
    "print(f'prediction for {tux} class is   {d[0]:6.3f}')\n",
    "print(f'probability for Non Survived(0) is {p[0][0]:6.3f}')\n",
    "print(f'probability for Survived(1) is     {p[0][1]:6.3f}')\n",
    "plt.scatter(x = Xtrain.values, y=m.predict_proba(Xtrain.values)[:,1])"
   ]
  },
  {
   "cell_type": "code",
   "execution_count": 10,
   "id": "40b08e2b",
   "metadata": {},
   "outputs": [
    {
     "name": "stdout",
     "output_type": "stream",
     "text": [
      "              precision    recall  f1-score   support\n",
      "\n",
      "           0       0.69      0.86      0.77       434\n",
      "           1       0.65      0.40      0.49       278\n",
      "\n",
      "    accuracy                           0.68       712\n",
      "   macro avg       0.67      0.63      0.63       712\n",
      "weighted avg       0.67      0.68      0.66       712\n",
      "\n",
      "crossvalidatin for RF is [0.65034965 0.63636364 0.66901408 0.6971831  0.68309859]\n",
      "\n",
      "Comparison with test data:\n",
      "training RF accuracy =  0.68\n",
      "validation RF accuracy =  0.67\n"
     ]
    }
   ],
   "source": [
    "#Baseline Random Forest\n",
    "def train_randomforest(Xtrain,ytrain,Xtest, ytest):\n",
    "    r = RandomForestClassifier()\n",
    "    r.fit(Xtrain.values, ytrain.values)\n",
    "    ypred_rf = r.predict(Xtrain.values)\n",
    "    print(classification_report(ytrain.values, ypred_rf))\n",
    "    print(f'crossvalidatin for RF is {cross_val_score(r, Xtrain, ytrain)}')\n",
    "    print('')\n",
    "    print('Comparison with test data:')\n",
    "    print(\"training RF accuracy = \",       round(r.score(Xtrain.values, ytrain.values),2))\n",
    "    print(\"validation RF accuracy = \",     round(r.score(Xtest.values, ytest.values),2))\n",
    "\n",
    "train_randomforest(Xtrain,ytrain,Xtest, ytest)"
   ]
  },
  {
   "cell_type": "code",
   "execution_count": 959,
   "id": "96116bdf",
   "metadata": {},
   "outputs": [
    {
     "name": "stdout",
     "output_type": "stream",
     "text": [
      "<class 'pandas.core.frame.DataFrame'>\n",
      "Int64Index: 712 entries, 0 to 711\n",
      "Data columns (total 17 columns):\n",
      " #   Column           Non-Null Count  Dtype   \n",
      "---  ------           --------------  -----   \n",
      " 0   PassengerId      712 non-null    category\n",
      " 1   Survived         712 non-null    int64   \n",
      " 2   Pclass           712 non-null    int64   \n",
      " 3   Name             712 non-null    category\n",
      " 4   Sex              712 non-null    category\n",
      " 5   Age              712 non-null    float64 \n",
      " 6   SibSp            712 non-null    int64   \n",
      " 7   Parch            712 non-null    int64   \n",
      " 8   Ticket           712 non-null    category\n",
      " 9   Fare             712 non-null    float64 \n",
      " 10  Cabin            712 non-null    category\n",
      " 11  Embarked         711 non-null    category\n",
      " 12  Surname          712 non-null    object  \n",
      " 13  FirstName        712 non-null    object  \n",
      " 14  PrefixName       712 non-null    object  \n",
      " 15  family_size      712 non-null    int64   \n",
      " 16  family_size_cat  712 non-null    object  \n",
      "dtypes: category(6), float64(2), int64(5), object(4)\n",
      "memory usage: 195.3+ KB\n"
     ]
    }
   ],
   "source": [
    "#Step 6: Feature Engineering \n",
    "df_train.info()"
   ]
  },
  {
   "cell_type": "code",
   "execution_count": 8,
   "id": "101a915b",
   "metadata": {},
   "outputs": [],
   "source": [
    "#Drop unecessary variables \n",
    "df_train.drop(['PassengerId', 'Name', 'Ticket', 'Cabin', 'FirstName'], inplace=True, axis=1)\n",
    "df_test.drop(['PassengerId', 'Name', 'Ticket', 'Cabin', 'FirstName'], inplace=True, axis=1)"
   ]
  },
  {
   "cell_type": "code",
   "execution_count": 9,
   "id": "65a787a7",
   "metadata": {},
   "outputs": [],
   "source": [
    "# Age: bin it in groups \n",
    "\n",
    "#Train data \n",
    "kbins = KBinsDiscretizer(n_bins=5, encode='onehot-dense', strategy='quantile')\n",
    "columns = df_train[['Age']]\n",
    "kbins.fit(columns)\n",
    "t = kbins.transform(columns)\n",
    "\n",
    "edges = kbins.bin_edges_[0].round(1)\n",
    "labels = []\n",
    "for i in range(len(edges)-1):\n",
    "    edge1 = edges[i]\n",
    "    edge2 = edges[i+1]\n",
    "    labels.append(f\"{edge1}_to_{edge2}\")\n",
    "\n",
    "df_bins = pd.DataFrame(t, columns=labels)\n",
    "df_bins['Age'] = df_train['Age']\n",
    "df_train = df_train.merge(df_bins)\n",
    "\n",
    "\n",
    "#Test data \n",
    "kbins = KBinsDiscretizer(n_bins=7, encode='onehot-dense', strategy='quantile')\n",
    "tcolumns = df_test[['Age']]\n",
    "kbins.fit(tcolumns)\n",
    "tt = kbins.transform(tcolumns)\n",
    "\n",
    "edges = kbins.bin_edges_[0].round(1)\n",
    "labels = []\n",
    "for i in range(len(edges)-1):\n",
    "    edge1 = edges[i]\n",
    "    edge2 = edges[i+1]\n",
    "    labels.append(f\"{edge1}_to_{edge2}\")\n",
    "\n",
    "df_bins = pd.DataFrame(tt, columns=labels)\n",
    "df_bins['Age'] = df_test['Age']\n",
    "df_test = df_test.merge(df_bins)\n"
   ]
  },
  {
   "cell_type": "code",
   "execution_count": null,
   "id": "00df29fa",
   "metadata": {},
   "outputs": [],
   "source": [
    "df_train.info()"
   ]
  },
  {
   "cell_type": "code",
   "execution_count": 10,
   "id": "8140df88",
   "metadata": {},
   "outputs": [],
   "source": [
    "# Fare: Normalize values\n",
    "\n",
    "# Train data \n",
    "scaler = StandardScaler()\n",
    "cols = df_train[['Fare']]\n",
    "scaler.fit(cols)   \n",
    "s = scaler.transform(cols) \n",
    "cols_scaled = pd.DataFrame(s, columns=cols.columns)\n",
    "df_train['Fare_scaled'] = cols_scaled\n",
    "\n",
    "# Test Data \n",
    "scaler = StandardScaler()\n",
    "cols = df_test[['Fare']]\n",
    "scaler.fit(cols)   \n",
    "s = scaler.transform(cols) \n",
    "cols_scaled = pd.DataFrame(s, columns=cols.columns)\n",
    "df_test['Fare_scaled'] = cols_scaled\n"
   ]
  },
  {
   "cell_type": "code",
   "execution_count": 69,
   "id": "fa13c8ca",
   "metadata": {},
   "outputs": [
    {
     "data": {
      "text/plain": [
       "Index(['Survived', 'Pclass', 'Sex', 'Age', 'SibSp', 'Parch', 'Fare',\n",
       "       'Embarked', 'Surname', 'PrefixName', 'family_size', 'family_size_cat',\n",
       "       '0.4_to_21.0', '21.0_to_28.2', '28.2_to_29.7', '29.7_to_38.0',\n",
       "       '38.0_to_80.0', 'Fare_scaled'],\n",
       "      dtype='object')"
      ]
     },
     "execution_count": 69,
     "metadata": {},
     "output_type": "execute_result"
    }
   ],
   "source": [
    "df_train.columns"
   ]
  },
  {
   "cell_type": "code",
   "execution_count": 47,
   "id": "b1cf5559",
   "metadata": {},
   "outputs": [],
   "source": [
    "# Pipeline with make_pipeline and make_column_transformer \n",
    "\n",
    "categorical_pipe = make_pipeline(OneHotEncoder())\n",
    "\n",
    "numeric_pipe = make_pipeline(StandardScaler())\n",
    "\n",
    "feature_transform = make_column_transformer(\n",
    "    \n",
    "                    (categorical_pipe, ['Sex','Embarked', 'family_size_cat']),\n",
    "    \n",
    "                    (numeric_pipe, ['Pclass', 'Age', 'SibSp', 'Parch', 'Fare', 'family_size']) )\n",
    "\n",
    "pipeline = make_pipeline(feature_transform, LogisticRegression())\n",
    "\n",
    "# X and y datasets \n",
    "\n",
    "Xtrain = df_train[['Pclass', 'Sex', 'Age', 'SibSp', 'Parch', 'Fare', 'Embarked', 'family_size', 'family_size_cat']]  \n",
    "Xtest = df_test[['Pclass', 'Sex', 'Age', 'SibSp', 'Parch', 'Fare','Embarked', 'family_size', 'family_size_cat']]  \n",
    "\n",
    "ytrain = df_train['Survived']\n",
    "ytest = df_test['Survived']\n",
    "\n",
    "\n",
    "\n",
    "## get pipeline feature names\n",
    "\n",
    "pipeline.fit(Xtrain, ytrain)\n",
    "pipeline[:-1].get_feature_names_out()\n",
    "\n",
    "\n",
    "## specify feature names as your columns\n",
    "Xtrain_transformed = pd.DataFrame(pipeline[:-1].transform(Xtrain),\n",
    "                     columns=pipeline[:-1].get_feature_names_out(),\n",
    "                     index=Xtrain.index)\n",
    "\n"
   ]
  },
  {
   "cell_type": "code",
   "execution_count": 49,
   "id": "da04a73e",
   "metadata": {},
   "outputs": [
    {
     "ename": "AttributeError",
     "evalue": "'RandomForestClassifier' object has no attribute 'get_feature_names_out'",
     "output_type": "error",
     "traceback": [
      "\u001b[0;31m---------------------------------------------------------------------------\u001b[0m",
      "\u001b[0;31mAttributeError\u001b[0m                            Traceback (most recent call last)",
      "\u001b[0;32m/tmp/ipykernel_554003/2477317738.py\u001b[0m in \u001b[0;36m<module>\u001b[0;34m\u001b[0m\n\u001b[1;32m     20\u001b[0m \u001b[0;34m\u001b[0m\u001b[0m\n\u001b[1;32m     21\u001b[0m \u001b[0mpipeline_rf\u001b[0m\u001b[0;34m.\u001b[0m\u001b[0mfit\u001b[0m\u001b[0;34m(\u001b[0m\u001b[0mXtrain\u001b[0m\u001b[0;34m,\u001b[0m \u001b[0mytrain\u001b[0m\u001b[0;34m)\u001b[0m\u001b[0;34m\u001b[0m\u001b[0;34m\u001b[0m\u001b[0m\n\u001b[0;32m---> 22\u001b[0;31m \u001b[0mpipeline_rf\u001b[0m\u001b[0;34m[\u001b[0m\u001b[0;34m-\u001b[0m\u001b[0;36m1\u001b[0m\u001b[0;34m]\u001b[0m\u001b[0;34m.\u001b[0m\u001b[0mget_feature_names_out\u001b[0m\u001b[0;34m(\u001b[0m\u001b[0;34m)\u001b[0m\u001b[0;34m\u001b[0m\u001b[0;34m\u001b[0m\u001b[0m\n\u001b[0m\u001b[1;32m     23\u001b[0m \u001b[0;34m\u001b[0m\u001b[0m\n\u001b[1;32m     24\u001b[0m \u001b[0;34m\u001b[0m\u001b[0m\n",
      "\u001b[0;31mAttributeError\u001b[0m: 'RandomForestClassifier' object has no attribute 'get_feature_names_out'"
     ]
    }
   ],
   "source": [
    "# Random Forest \n",
    "\n",
    "\n",
    "def train_randomforest(Xtrain,ytrain,Xtest, ytest):\n",
    "    r = RandomForestClassifier()\n",
    "    r.fit(Xtrain, ytrain)\n",
    "    ypred_rf = r.predict(Xtrain)\n",
    "    print(classification_report(ytrain.values, ypred_rf))\n",
    "    print(f'crossvalidatin for RF is {cross_val_score(r, Xtrain, ytrain)}')\n",
    "    print('')\n",
    "    print('Comparison with test data:')\n",
    "    print(\"training RF accuracy = \",       round(r.score(Xtrain, ytrain),2))\n",
    "    print(\"validation RF accuracy = \",     round(r.score(Xtest, ytest),2))\n",
    "\n",
    "\n",
    "pipeline_rf = make_pipeline(feature_transform, RandomForestClassifier())\n",
    "\n",
    "\n",
    "## get pipeline feature names\n",
    "\n",
    "pipeline_rf.fit(Xtrain, ytrain)\n",
    "pipeline_rf[-1].get_feature_names_out()\n"
   ]
  },
  {
   "cell_type": "code",
   "execution_count": null,
   "id": "1c3a2d90",
   "metadata": {},
   "outputs": [],
   "source": [
    "## specify feature names as your columns\n",
    "Xtrain_transformed_RF = pd.DataFrame(pipeline_rf[-1].transform(Xtrain),\n",
    "                     columns=pipeline_rf[:-1].get_feature_names_out(),\n",
    "                     index=Xtrain.index)"
   ]
  },
  {
   "cell_type": "code",
   "execution_count": 38,
   "id": "1cf5a700",
   "metadata": {},
   "outputs": [
    {
     "name": "stdout",
     "output_type": "stream",
     "text": [
      "              precision    recall  f1-score   support\n",
      "\n",
      "           0       0.89      0.97      0.93     17815\n",
      "           1       0.94      0.77      0.84      9473\n",
      "\n",
      "    accuracy                           0.90     27288\n",
      "   macro avg       0.91      0.87      0.89     27288\n",
      "weighted avg       0.90      0.90      0.90     27288\n",
      "\n",
      "crossvalidatin for DecisionTree is [0.81476731 0.94833272 0.76749725 0.80538758 0.66721642]\n",
      "\n",
      "Comparison with test data\n",
      "training DecTree accuracy =  0.9\n",
      "validation DecTree accuracy =  0.86\n"
     ]
    },
    {
     "name": "stderr",
     "output_type": "stream",
     "text": [
      "/home/rita/.local/lib/python3.8/site-packages/sklearn/base.py:445: UserWarning: X does not have valid feature names, but DecisionTreeClassifier was fitted with feature names\n",
      "  warnings.warn(\n"
     ]
    }
   ],
   "source": [
    "\n",
    "def train_decision_tree(Xtrain,ytrain,Xtest, ytest,tree_depth):\n",
    "    \n",
    "    m_tree = DecisionTreeClassifier(max_depth=tree_depth)  \n",
    "    \n",
    "    m_tree.fit(Xtrain, ytrain)\n",
    "\n",
    "    ypred_tree = m_tree.predict(Xtrain)\n",
    "    print(classification_report(ytrain, ypred_tree))\n",
    "    print(f'crossvalidatin for DecisionTree is {cross_val_score(m_tree, Xtrain, ytrain)}')\n",
    "    print('')\n",
    "    print('Comparison with test data')\n",
    "    print(\"training DecTree accuracy = \",   round(m_tree.score(Xtrain, ytrain),2))\n",
    "    print(\"validation DecTree accuracy = \", round(m_tree.score(Xtest, ytest), 2))\n",
    "    \n",
    "train_decision_tree(Xtrain_transformed,ytrain,Xtest_transformed, ytest,6)\n"
   ]
  },
  {
   "cell_type": "code",
   "execution_count": 39,
   "id": "22403cc1",
   "metadata": {},
   "outputs": [
    {
     "name": "stdout",
     "output_type": "stream",
     "text": [
      "              precision    recall  f1-score   support\n",
      "\n",
      "           0       0.85      0.85      0.85     17815\n",
      "           1       0.71      0.71      0.71      9473\n",
      "\n",
      "    accuracy                           0.80     27288\n",
      "   macro avg       0.78      0.78      0.78     27288\n",
      "weighted avg       0.80      0.80      0.80     27288\n",
      "\n",
      "crossvalidatin for LogReg is [0.83418835 0.79076585 0.79333089 0.74876306 0.7694704 ]\n",
      "\n",
      "Comparison with test data\n",
      "training LogReg accuracy =  0.8\n",
      "validation LogReg accuracy =  0.87\n"
     ]
    },
    {
     "name": "stderr",
     "output_type": "stream",
     "text": [
      "/home/rita/.local/lib/python3.8/site-packages/sklearn/base.py:445: UserWarning: X does not have valid feature names, but LogisticRegression was fitted with feature names\n",
      "  warnings.warn(\n"
     ]
    }
   ],
   "source": [
    "def train_logistic_regression(Xtrain,ytrain,Xtest, ytest):\n",
    "    m = LogisticRegression(class_weight='balanced', multi_class='multinomial', solver='newton-cg')\n",
    "    m.fit(Xtrain, ytrain)\n",
    "    ypred_log = m.predict(Xtrain)\n",
    "    print(classification_report(ytrain, ypred_log))\n",
    "    print(f'crossvalidatin for LogReg is {cross_val_score(m, Xtrain, ytrain)}')\n",
    "    print('')\n",
    "    print('Comparison with test data')\n",
    "    print(\"training LogReg accuracy = \",   round(m.score(Xtrain, ytrain),2))\n",
    "    print(\"validation LogReg accuracy = \", round(m.score(Xtest, ytest), 2))\n",
    "    \n",
    "train_logistic_regression(Xtrain_transformed,ytrain,Xtest_transformed, ytest)"
   ]
  },
  {
   "cell_type": "code",
   "execution_count": 40,
   "id": "c363206f",
   "metadata": {},
   "outputs": [
    {
     "name": "stdout",
     "output_type": "stream",
     "text": [
      "              precision    recall  f1-score   support\n",
      "\n",
      "           0       0.96      0.98      0.97     17815\n",
      "           1       0.97      0.93      0.95      9473\n",
      "\n",
      "    accuracy                           0.96     27288\n",
      "   macro avg       0.97      0.96      0.96     27288\n",
      "weighted avg       0.96      0.96      0.96     27288\n",
      "\n",
      "crossvalidatin for RF is [0.90161231 0.84499817 0.76749725 0.78138171 0.62048745]\n",
      "\n",
      "Comparison with test data:\n",
      "training RF accuracy =  0.96\n",
      "validation RF accuracy =  0.89\n"
     ]
    },
    {
     "name": "stderr",
     "output_type": "stream",
     "text": [
      "/home/rita/.local/lib/python3.8/site-packages/sklearn/base.py:445: UserWarning: X does not have valid feature names, but RandomForestClassifier was fitted with feature names\n",
      "  warnings.warn(\n"
     ]
    }
   ],
   "source": [
    "def train_randomforest(Xtrain,ytrain,Xtest, ytest):\n",
    "    r = RandomForestClassifier()\n",
    "    r.fit(Xtrain, ytrain)\n",
    "    ypred_rf = r.predict(Xtrain)\n",
    "    print(classification_report(ytrain.values, ypred_rf))\n",
    "    print(f'crossvalidatin for RF is {cross_val_score(r, Xtrain, ytrain)}')\n",
    "    print('')\n",
    "    print('Comparison with test data:')\n",
    "    print(\"training RF accuracy = \",       round(r.score(Xtrain, ytrain),2))\n",
    "    print(\"validation RF accuracy = \",     round(r.score(Xtest, ytest),2))\n",
    "\n",
    "\n",
    "train_randomforest(Xtrain_transformed,ytrain,Xtest_transformed, ytest)\n"
   ]
  },
  {
   "cell_type": "code",
   "execution_count": null,
   "id": "e364cbb3",
   "metadata": {},
   "outputs": [],
   "source": [
    "# Decision Tree and Random Forest have the highest precision and accuracy, RF better recall, but both highly overfitted\n",
    "# Logistic Regression has the lowest precison and accuracy, but the results on test data are on par with the training data \n",
    "\n",
    "#Are we picking the right variables?\n",
    "#Are we including too many variables?\n",
    "#Are we defining the right relationships btwe target and predictors? "
   ]
  },
  {
   "cell_type": "code",
   "execution_count": 41,
   "id": "5c344600",
   "metadata": {},
   "outputs": [
    {
     "data": {
      "text/html": [
       "<div>\n",
       "<style scoped>\n",
       "    .dataframe tbody tr th:only-of-type {\n",
       "        vertical-align: middle;\n",
       "    }\n",
       "\n",
       "    .dataframe tbody tr th {\n",
       "        vertical-align: top;\n",
       "    }\n",
       "\n",
       "    .dataframe thead th {\n",
       "        text-align: right;\n",
       "    }\n",
       "</style>\n",
       "<table border=\"1\" class=\"dataframe\">\n",
       "  <thead>\n",
       "    <tr style=\"text-align: right;\">\n",
       "      <th></th>\n",
       "      <th>pipeline-1__Sex_female</th>\n",
       "      <th>pipeline-1__Sex_male</th>\n",
       "      <th>pipeline-1__Embarked_C</th>\n",
       "      <th>pipeline-1__Embarked_Q</th>\n",
       "      <th>pipeline-1__Embarked_S</th>\n",
       "      <th>pipeline-1__Embarked_nan</th>\n",
       "      <th>pipeline-1__family_size_cat_alone</th>\n",
       "      <th>pipeline-1__family_size_cat_large</th>\n",
       "      <th>pipeline-1__family_size_cat_medium</th>\n",
       "      <th>pipeline-1__family_size_cat_small</th>\n",
       "      <th>pipeline-2__Pclass</th>\n",
       "      <th>pipeline-2__Age</th>\n",
       "      <th>pipeline-2__SibSp</th>\n",
       "      <th>pipeline-2__Parch</th>\n",
       "      <th>pipeline-2__Fare</th>\n",
       "      <th>pipeline-2__family_size</th>\n",
       "    </tr>\n",
       "  </thead>\n",
       "  <tbody>\n",
       "    <tr>\n",
       "      <th>0</th>\n",
       "      <td>0.0</td>\n",
       "      <td>1.0</td>\n",
       "      <td>0.0</td>\n",
       "      <td>0.0</td>\n",
       "      <td>1.0</td>\n",
       "      <td>0.0</td>\n",
       "      <td>0.0</td>\n",
       "      <td>0.0</td>\n",
       "      <td>0.0</td>\n",
       "      <td>1.0</td>\n",
       "      <td>-1.814431</td>\n",
       "      <td>-4.699998</td>\n",
       "      <td>-0.348675</td>\n",
       "      <td>2.859333</td>\n",
       "      <td>1.418929</td>\n",
       "      <td>0.714320</td>\n",
       "    </tr>\n",
       "    <tr>\n",
       "      <th>1</th>\n",
       "      <td>0.0</td>\n",
       "      <td>1.0</td>\n",
       "      <td>0.0</td>\n",
       "      <td>0.0</td>\n",
       "      <td>1.0</td>\n",
       "      <td>0.0</td>\n",
       "      <td>0.0</td>\n",
       "      <td>0.0</td>\n",
       "      <td>0.0</td>\n",
       "      <td>1.0</td>\n",
       "      <td>-1.814431</td>\n",
       "      <td>-4.699998</td>\n",
       "      <td>-0.348675</td>\n",
       "      <td>2.859333</td>\n",
       "      <td>1.418929</td>\n",
       "      <td>0.714320</td>\n",
       "    </tr>\n",
       "    <tr>\n",
       "      <th>2</th>\n",
       "      <td>0.0</td>\n",
       "      <td>1.0</td>\n",
       "      <td>0.0</td>\n",
       "      <td>0.0</td>\n",
       "      <td>1.0</td>\n",
       "      <td>0.0</td>\n",
       "      <td>0.0</td>\n",
       "      <td>0.0</td>\n",
       "      <td>0.0</td>\n",
       "      <td>1.0</td>\n",
       "      <td>-1.814431</td>\n",
       "      <td>-4.699998</td>\n",
       "      <td>-0.348675</td>\n",
       "      <td>2.859333</td>\n",
       "      <td>1.418929</td>\n",
       "      <td>0.714320</td>\n",
       "    </tr>\n",
       "    <tr>\n",
       "      <th>3</th>\n",
       "      <td>0.0</td>\n",
       "      <td>1.0</td>\n",
       "      <td>0.0</td>\n",
       "      <td>0.0</td>\n",
       "      <td>1.0</td>\n",
       "      <td>0.0</td>\n",
       "      <td>0.0</td>\n",
       "      <td>0.0</td>\n",
       "      <td>0.0</td>\n",
       "      <td>1.0</td>\n",
       "      <td>-1.814431</td>\n",
       "      <td>-4.699998</td>\n",
       "      <td>-0.348675</td>\n",
       "      <td>2.859333</td>\n",
       "      <td>1.418929</td>\n",
       "      <td>0.714320</td>\n",
       "    </tr>\n",
       "    <tr>\n",
       "      <th>4</th>\n",
       "      <td>0.0</td>\n",
       "      <td>1.0</td>\n",
       "      <td>0.0</td>\n",
       "      <td>0.0</td>\n",
       "      <td>1.0</td>\n",
       "      <td>0.0</td>\n",
       "      <td>0.0</td>\n",
       "      <td>0.0</td>\n",
       "      <td>0.0</td>\n",
       "      <td>1.0</td>\n",
       "      <td>-1.814431</td>\n",
       "      <td>-4.699998</td>\n",
       "      <td>-0.348675</td>\n",
       "      <td>2.859333</td>\n",
       "      <td>1.418929</td>\n",
       "      <td>0.714320</td>\n",
       "    </tr>\n",
       "    <tr>\n",
       "      <th>...</th>\n",
       "      <td>...</td>\n",
       "      <td>...</td>\n",
       "      <td>...</td>\n",
       "      <td>...</td>\n",
       "      <td>...</td>\n",
       "      <td>...</td>\n",
       "      <td>...</td>\n",
       "      <td>...</td>\n",
       "      <td>...</td>\n",
       "      <td>...</td>\n",
       "      <td>...</td>\n",
       "      <td>...</td>\n",
       "      <td>...</td>\n",
       "      <td>...</td>\n",
       "      <td>...</td>\n",
       "      <td>...</td>\n",
       "    </tr>\n",
       "    <tr>\n",
       "      <th>27283</th>\n",
       "      <td>1.0</td>\n",
       "      <td>0.0</td>\n",
       "      <td>0.0</td>\n",
       "      <td>0.0</td>\n",
       "      <td>1.0</td>\n",
       "      <td>0.0</td>\n",
       "      <td>0.0</td>\n",
       "      <td>0.0</td>\n",
       "      <td>0.0</td>\n",
       "      <td>1.0</td>\n",
       "      <td>-1.814431</td>\n",
       "      <td>6.324994</td>\n",
       "      <td>0.373225</td>\n",
       "      <td>-0.368662</td>\n",
       "      <td>1.320985</td>\n",
       "      <td>0.159977</td>\n",
       "    </tr>\n",
       "    <tr>\n",
       "      <th>27284</th>\n",
       "      <td>1.0</td>\n",
       "      <td>0.0</td>\n",
       "      <td>0.0</td>\n",
       "      <td>0.0</td>\n",
       "      <td>1.0</td>\n",
       "      <td>0.0</td>\n",
       "      <td>0.0</td>\n",
       "      <td>0.0</td>\n",
       "      <td>0.0</td>\n",
       "      <td>1.0</td>\n",
       "      <td>-1.814431</td>\n",
       "      <td>6.324994</td>\n",
       "      <td>0.373225</td>\n",
       "      <td>-0.368662</td>\n",
       "      <td>1.320985</td>\n",
       "      <td>0.159977</td>\n",
       "    </tr>\n",
       "    <tr>\n",
       "      <th>27285</th>\n",
       "      <td>1.0</td>\n",
       "      <td>0.0</td>\n",
       "      <td>0.0</td>\n",
       "      <td>0.0</td>\n",
       "      <td>1.0</td>\n",
       "      <td>0.0</td>\n",
       "      <td>1.0</td>\n",
       "      <td>0.0</td>\n",
       "      <td>0.0</td>\n",
       "      <td>0.0</td>\n",
       "      <td>0.654759</td>\n",
       "      <td>6.324994</td>\n",
       "      <td>-0.348675</td>\n",
       "      <td>-0.368662</td>\n",
       "      <td>-0.396076</td>\n",
       "      <td>-0.394366</td>\n",
       "    </tr>\n",
       "    <tr>\n",
       "      <th>27286</th>\n",
       "      <td>1.0</td>\n",
       "      <td>0.0</td>\n",
       "      <td>0.0</td>\n",
       "      <td>0.0</td>\n",
       "      <td>1.0</td>\n",
       "      <td>0.0</td>\n",
       "      <td>1.0</td>\n",
       "      <td>0.0</td>\n",
       "      <td>0.0</td>\n",
       "      <td>0.0</td>\n",
       "      <td>0.654759</td>\n",
       "      <td>6.324994</td>\n",
       "      <td>-0.348675</td>\n",
       "      <td>-0.368662</td>\n",
       "      <td>-0.396076</td>\n",
       "      <td>-0.394366</td>\n",
       "    </tr>\n",
       "    <tr>\n",
       "      <th>27287</th>\n",
       "      <td>0.0</td>\n",
       "      <td>1.0</td>\n",
       "      <td>0.0</td>\n",
       "      <td>0.0</td>\n",
       "      <td>1.0</td>\n",
       "      <td>0.0</td>\n",
       "      <td>1.0</td>\n",
       "      <td>0.0</td>\n",
       "      <td>0.0</td>\n",
       "      <td>0.0</td>\n",
       "      <td>0.654759</td>\n",
       "      <td>-1.616737</td>\n",
       "      <td>-0.348675</td>\n",
       "      <td>-0.368662</td>\n",
       "      <td>-0.454780</td>\n",
       "      <td>-0.394366</td>\n",
       "    </tr>\n",
       "  </tbody>\n",
       "</table>\n",
       "<p>27288 rows × 16 columns</p>\n",
       "</div>"
      ],
      "text/plain": [
       "       pipeline-1__Sex_female  pipeline-1__Sex_male  pipeline-1__Embarked_C  \\\n",
       "0                         0.0                   1.0                     0.0   \n",
       "1                         0.0                   1.0                     0.0   \n",
       "2                         0.0                   1.0                     0.0   \n",
       "3                         0.0                   1.0                     0.0   \n",
       "4                         0.0                   1.0                     0.0   \n",
       "...                       ...                   ...                     ...   \n",
       "27283                     1.0                   0.0                     0.0   \n",
       "27284                     1.0                   0.0                     0.0   \n",
       "27285                     1.0                   0.0                     0.0   \n",
       "27286                     1.0                   0.0                     0.0   \n",
       "27287                     0.0                   1.0                     0.0   \n",
       "\n",
       "       pipeline-1__Embarked_Q  pipeline-1__Embarked_S  \\\n",
       "0                         0.0                     1.0   \n",
       "1                         0.0                     1.0   \n",
       "2                         0.0                     1.0   \n",
       "3                         0.0                     1.0   \n",
       "4                         0.0                     1.0   \n",
       "...                       ...                     ...   \n",
       "27283                     0.0                     1.0   \n",
       "27284                     0.0                     1.0   \n",
       "27285                     0.0                     1.0   \n",
       "27286                     0.0                     1.0   \n",
       "27287                     0.0                     1.0   \n",
       "\n",
       "       pipeline-1__Embarked_nan  pipeline-1__family_size_cat_alone  \\\n",
       "0                           0.0                                0.0   \n",
       "1                           0.0                                0.0   \n",
       "2                           0.0                                0.0   \n",
       "3                           0.0                                0.0   \n",
       "4                           0.0                                0.0   \n",
       "...                         ...                                ...   \n",
       "27283                       0.0                                0.0   \n",
       "27284                       0.0                                0.0   \n",
       "27285                       0.0                                1.0   \n",
       "27286                       0.0                                1.0   \n",
       "27287                       0.0                                1.0   \n",
       "\n",
       "       pipeline-1__family_size_cat_large  pipeline-1__family_size_cat_medium  \\\n",
       "0                                    0.0                                 0.0   \n",
       "1                                    0.0                                 0.0   \n",
       "2                                    0.0                                 0.0   \n",
       "3                                    0.0                                 0.0   \n",
       "4                                    0.0                                 0.0   \n",
       "...                                  ...                                 ...   \n",
       "27283                                0.0                                 0.0   \n",
       "27284                                0.0                                 0.0   \n",
       "27285                                0.0                                 0.0   \n",
       "27286                                0.0                                 0.0   \n",
       "27287                                0.0                                 0.0   \n",
       "\n",
       "       pipeline-1__family_size_cat_small  pipeline-2__Pclass  pipeline-2__Age  \\\n",
       "0                                    1.0           -1.814431        -4.699998   \n",
       "1                                    1.0           -1.814431        -4.699998   \n",
       "2                                    1.0           -1.814431        -4.699998   \n",
       "3                                    1.0           -1.814431        -4.699998   \n",
       "4                                    1.0           -1.814431        -4.699998   \n",
       "...                                  ...                 ...              ...   \n",
       "27283                                1.0           -1.814431         6.324994   \n",
       "27284                                1.0           -1.814431         6.324994   \n",
       "27285                                0.0            0.654759         6.324994   \n",
       "27286                                0.0            0.654759         6.324994   \n",
       "27287                                0.0            0.654759        -1.616737   \n",
       "\n",
       "       pipeline-2__SibSp  pipeline-2__Parch  pipeline-2__Fare  \\\n",
       "0              -0.348675           2.859333          1.418929   \n",
       "1              -0.348675           2.859333          1.418929   \n",
       "2              -0.348675           2.859333          1.418929   \n",
       "3              -0.348675           2.859333          1.418929   \n",
       "4              -0.348675           2.859333          1.418929   \n",
       "...                  ...                ...               ...   \n",
       "27283           0.373225          -0.368662          1.320985   \n",
       "27284           0.373225          -0.368662          1.320985   \n",
       "27285          -0.348675          -0.368662         -0.396076   \n",
       "27286          -0.348675          -0.368662         -0.396076   \n",
       "27287          -0.348675          -0.368662         -0.454780   \n",
       "\n",
       "       pipeline-2__family_size  \n",
       "0                     0.714320  \n",
       "1                     0.714320  \n",
       "2                     0.714320  \n",
       "3                     0.714320  \n",
       "4                     0.714320  \n",
       "...                        ...  \n",
       "27283                 0.159977  \n",
       "27284                 0.159977  \n",
       "27285                -0.394366  \n",
       "27286                -0.394366  \n",
       "27287                -0.394366  \n",
       "\n",
       "[27288 rows x 16 columns]"
      ]
     },
     "execution_count": 41,
     "metadata": {},
     "output_type": "execute_result"
    }
   ],
   "source": [
    "Xtrain_transformed"
   ]
  },
  {
   "cell_type": "code",
   "execution_count": 43,
   "id": "0babcde3",
   "metadata": {},
   "outputs": [
    {
     "name": "stdout",
     "output_type": "stream",
     "text": [
      "Optimization terminated successfully.\n",
      "         Current function value: 0.608977\n",
      "         Iterations 6\n",
      "                           Logit Regression Results                           \n",
      "==============================================================================\n",
      "Dep. Variable:               Survived   No. Observations:                27288\n",
      "Model:                          Logit   Df Residuals:                    27282\n",
      "Method:                           MLE   Df Model:                            5\n",
      "Date:                Sat, 27 Nov 2021   Pseudo R-squ.:                 0.05682\n",
      "Time:                        18:03:25   Log-Likelihood:                -16618.\n",
      "converged:                       True   LL-Null:                       -17619.\n",
      "Covariance Type:            nonrobust   LLR p-value:                     0.000\n",
      "==============================================================================\n",
      "                 coef    std err          z      P>|z|      [0.025      0.975]\n",
      "------------------------------------------------------------------------------\n",
      "const          0.1949      0.096      2.022      0.043       0.006       0.384\n",
      "Pclass        -0.2519      0.020    -12.392      0.000      -0.292      -0.212\n",
      "Age           -0.0158      0.002     -6.431      0.000      -0.021      -0.011\n",
      "Fare           0.0124      0.001     20.474      0.000       0.011       0.014\n",
      "SibSp         -0.2332      0.014    -16.908      0.000      -0.260      -0.206\n",
      "Parch          0.1830      0.025      7.346      0.000       0.134       0.232\n",
      "==============================================================================\n"
     ]
    }
   ],
   "source": [
    "# Feature Selection\n",
    "# Coeficients analysis with Logistic Regression using statsmodels package \n",
    "# Before transformations \n",
    "\n",
    "ytrain = df_train['Survived']\n",
    "\n",
    "Xtrain = df_train[['Pclass', 'Age', 'Fare', 'SibSp', 'Parch']]\n",
    "\n",
    "np.seterr(divide = 'ignore') \n",
    "                   \n",
    "log_reg = sm.Logit(ytrain, sm.add_constant(Xtrain)).fit()\n",
    "\n",
    "print(log_reg.summary())\n"
   ]
  },
  {
   "cell_type": "code",
   "execution_count": null,
   "id": "391faa3f",
   "metadata": {},
   "outputs": [],
   "source": [
    "\n",
    "#Feature Expansion\n",
    "#Survived non linear relationships with regressors: \n",
    "# Interactions\n",
    "pt = PolynomialFeatures(interaction_only=True)\n",
    "p_features = pt.fit_transform(X)\n",
    "pd.DataFrame(p_features, columns=pt.get_feature_names())\n",
    "\n",
    "# Polynoms \n",
    "p = PolynomialFeatures(degree=4, , include_bias=False)\n",
    "X = p.fit_transform(X)\n",
    "X = pd.DataFrame(X, columns=p.get_feature_names())\n",
    "Xpoly = p.transform(X[['x']])\n",
    "df_poly = pd.DataFrame(Xpoly, columns = p.get_feature_names())\n",
    "m.fit(X, y)\n",
    "ypred_p2 = m.predict(X)\n"
   ]
  },
  {
   "cell_type": "code",
   "execution_count": 44,
   "id": "3a46ab4a",
   "metadata": {},
   "outputs": [
    {
     "ename": "AttributeError",
     "evalue": "'LogisticRegression' object has no attribute 'support_'",
     "output_type": "error",
     "traceback": [
      "\u001b[0;31m---------------------------------------------------------------------------\u001b[0m",
      "\u001b[0;31mAttributeError\u001b[0m                            Traceback (most recent call last)",
      "\u001b[0;32m/tmp/ipykernel_554003/684681215.py\u001b[0m in \u001b[0;36m<module>\u001b[0;34m\u001b[0m\n\u001b[1;32m      7\u001b[0m \u001b[0mm\u001b[0m\u001b[0;34m.\u001b[0m\u001b[0mfit\u001b[0m\u001b[0;34m(\u001b[0m\u001b[0mXtrain_transformed_df\u001b[0m\u001b[0;34m,\u001b[0m \u001b[0mytrain\u001b[0m\u001b[0;34m)\u001b[0m\u001b[0;34m\u001b[0m\u001b[0;34m\u001b[0m\u001b[0m\n\u001b[1;32m      8\u001b[0m \u001b[0;34m\u001b[0m\u001b[0m\n\u001b[0;32m----> 9\u001b[0;31m \u001b[0mprint\u001b[0m\u001b[0;34m(\u001b[0m\u001b[0mlist\u001b[0m\u001b[0;34m(\u001b[0m\u001b[0mzip\u001b[0m\u001b[0;34m(\u001b[0m\u001b[0mXtrain_transformed_df\u001b[0m\u001b[0;34m.\u001b[0m\u001b[0mcolumns\u001b[0m\u001b[0;34m,\u001b[0m\u001b[0mm\u001b[0m\u001b[0;34m.\u001b[0m\u001b[0msupport_\u001b[0m\u001b[0;34m,\u001b[0m \u001b[0mm\u001b[0m\u001b[0;34m.\u001b[0m\u001b[0mranking_\u001b[0m\u001b[0;34m)\u001b[0m\u001b[0;34m)\u001b[0m\u001b[0;34m)\u001b[0m\u001b[0;34m\u001b[0m\u001b[0;34m\u001b[0m\u001b[0m\n\u001b[0m\u001b[1;32m     10\u001b[0m \u001b[0;34m\u001b[0m\u001b[0m\n\u001b[1;32m     11\u001b[0m \u001b[0mprint\u001b[0m\u001b[0;34m(\u001b[0m\u001b[0mmodel\u001b[0m\u001b[0;34m.\u001b[0m\u001b[0mscore\u001b[0m\u001b[0;34m(\u001b[0m\u001b[0mXtrain_transformed_df\u001b[0m\u001b[0;34m,\u001b[0m \u001b[0my_train\u001b[0m\u001b[0;34m)\u001b[0m\u001b[0;34m)\u001b[0m\u001b[0;34m\u001b[0m\u001b[0;34m\u001b[0m\u001b[0m\n",
      "\u001b[0;31mAttributeError\u001b[0m: 'LogisticRegression' object has no attribute 'support_'"
     ]
    }
   ],
   "source": [
    "#Recursive Feature Elimination / Logistic Regression \n",
    "\n",
    "#def get_recursive_feature_elimination(model,X_train, y_train):\n",
    "\n",
    "m = LogisticRegression(class_weight='balanced', multi_class='multinomial', solver='newton-cg')\n",
    "\n",
    "m.fit(Xtrain_transformed_df, ytrain) \n",
    "\n",
    "print(list(zip(Xtrain_transformed_df.columns,m.support_, m.ranking_)))\n",
    "\n",
    "print(model.score(Xtrain_transformed_df, y_train))\n"
   ]
  },
  {
   "cell_type": "code",
   "execution_count": 146,
   "id": "69f12ea8",
   "metadata": {},
   "outputs": [
    {
     "data": {
      "text/html": [
       "<div>\n",
       "<style scoped>\n",
       "    .dataframe tbody tr th:only-of-type {\n",
       "        vertical-align: middle;\n",
       "    }\n",
       "\n",
       "    .dataframe tbody tr th {\n",
       "        vertical-align: top;\n",
       "    }\n",
       "\n",
       "    .dataframe thead th {\n",
       "        text-align: right;\n",
       "    }\n",
       "</style>\n",
       "<table border=\"1\" class=\"dataframe\">\n",
       "  <thead>\n",
       "    <tr style=\"text-align: right;\">\n",
       "      <th></th>\n",
       "      <th>importance</th>\n",
       "      <th>feature</th>\n",
       "    </tr>\n",
       "  </thead>\n",
       "  <tbody>\n",
       "    <tr>\n",
       "      <th>1</th>\n",
       "      <td>0.195160</td>\n",
       "      <td>1</td>\n",
       "    </tr>\n",
       "    <tr>\n",
       "      <th>17</th>\n",
       "      <td>0.161532</td>\n",
       "      <td>17</td>\n",
       "    </tr>\n",
       "    <tr>\n",
       "      <th>0</th>\n",
       "      <td>0.146094</td>\n",
       "      <td>0</td>\n",
       "    </tr>\n",
       "    <tr>\n",
       "      <th>27</th>\n",
       "      <td>0.087229</td>\n",
       "      <td>27</td>\n",
       "    </tr>\n",
       "    <tr>\n",
       "      <th>14</th>\n",
       "      <td>0.060425</td>\n",
       "      <td>14</td>\n",
       "    </tr>\n",
       "    <tr>\n",
       "      <th>18</th>\n",
       "      <td>0.057976</td>\n",
       "      <td>18</td>\n",
       "    </tr>\n",
       "    <tr>\n",
       "      <th>28</th>\n",
       "      <td>0.054505</td>\n",
       "      <td>28</td>\n",
       "    </tr>\n",
       "    <tr>\n",
       "      <th>32</th>\n",
       "      <td>0.046183</td>\n",
       "      <td>32</td>\n",
       "    </tr>\n",
       "    <tr>\n",
       "      <th>4</th>\n",
       "      <td>0.042680</td>\n",
       "      <td>4</td>\n",
       "    </tr>\n",
       "    <tr>\n",
       "      <th>30</th>\n",
       "      <td>0.033590</td>\n",
       "      <td>30</td>\n",
       "    </tr>\n",
       "    <tr>\n",
       "      <th>26</th>\n",
       "      <td>0.026066</td>\n",
       "      <td>26</td>\n",
       "    </tr>\n",
       "    <tr>\n",
       "      <th>3</th>\n",
       "      <td>0.023214</td>\n",
       "      <td>3</td>\n",
       "    </tr>\n",
       "    <tr>\n",
       "      <th>31</th>\n",
       "      <td>0.015545</td>\n",
       "      <td>31</td>\n",
       "    </tr>\n",
       "    <tr>\n",
       "      <th>29</th>\n",
       "      <td>0.011168</td>\n",
       "      <td>29</td>\n",
       "    </tr>\n",
       "    <tr>\n",
       "      <th>23</th>\n",
       "      <td>0.008917</td>\n",
       "      <td>23</td>\n",
       "    </tr>\n",
       "    <tr>\n",
       "      <th>24</th>\n",
       "      <td>0.008102</td>\n",
       "      <td>24</td>\n",
       "    </tr>\n",
       "    <tr>\n",
       "      <th>2</th>\n",
       "      <td>0.006841</td>\n",
       "      <td>2</td>\n",
       "    </tr>\n",
       "    <tr>\n",
       "      <th>25</th>\n",
       "      <td>0.006093</td>\n",
       "      <td>25</td>\n",
       "    </tr>\n",
       "    <tr>\n",
       "      <th>13</th>\n",
       "      <td>0.005926</td>\n",
       "      <td>13</td>\n",
       "    </tr>\n",
       "    <tr>\n",
       "      <th>9</th>\n",
       "      <td>0.001716</td>\n",
       "      <td>9</td>\n",
       "    </tr>\n",
       "    <tr>\n",
       "      <th>15</th>\n",
       "      <td>0.000634</td>\n",
       "      <td>15</td>\n",
       "    </tr>\n",
       "    <tr>\n",
       "      <th>19</th>\n",
       "      <td>0.000135</td>\n",
       "      <td>19</td>\n",
       "    </tr>\n",
       "    <tr>\n",
       "      <th>16</th>\n",
       "      <td>0.000066</td>\n",
       "      <td>16</td>\n",
       "    </tr>\n",
       "    <tr>\n",
       "      <th>20</th>\n",
       "      <td>0.000049</td>\n",
       "      <td>20</td>\n",
       "    </tr>\n",
       "    <tr>\n",
       "      <th>21</th>\n",
       "      <td>0.000047</td>\n",
       "      <td>21</td>\n",
       "    </tr>\n",
       "    <tr>\n",
       "      <th>8</th>\n",
       "      <td>0.000034</td>\n",
       "      <td>8</td>\n",
       "    </tr>\n",
       "    <tr>\n",
       "      <th>6</th>\n",
       "      <td>0.000022</td>\n",
       "      <td>6</td>\n",
       "    </tr>\n",
       "    <tr>\n",
       "      <th>10</th>\n",
       "      <td>0.000021</td>\n",
       "      <td>10</td>\n",
       "    </tr>\n",
       "    <tr>\n",
       "      <th>22</th>\n",
       "      <td>0.000014</td>\n",
       "      <td>22</td>\n",
       "    </tr>\n",
       "    <tr>\n",
       "      <th>5</th>\n",
       "      <td>0.000007</td>\n",
       "      <td>5</td>\n",
       "    </tr>\n",
       "    <tr>\n",
       "      <th>7</th>\n",
       "      <td>0.000004</td>\n",
       "      <td>7</td>\n",
       "    </tr>\n",
       "    <tr>\n",
       "      <th>11</th>\n",
       "      <td>0.000003</td>\n",
       "      <td>11</td>\n",
       "    </tr>\n",
       "    <tr>\n",
       "      <th>12</th>\n",
       "      <td>0.000002</td>\n",
       "      <td>12</td>\n",
       "    </tr>\n",
       "  </tbody>\n",
       "</table>\n",
       "</div>"
      ],
      "text/plain": [
       "    importance  feature\n",
       "1     0.195160        1\n",
       "17    0.161532       17\n",
       "0     0.146094        0\n",
       "27    0.087229       27\n",
       "14    0.060425       14\n",
       "18    0.057976       18\n",
       "28    0.054505       28\n",
       "32    0.046183       32\n",
       "4     0.042680        4\n",
       "30    0.033590       30\n",
       "26    0.026066       26\n",
       "3     0.023214        3\n",
       "31    0.015545       31\n",
       "29    0.011168       29\n",
       "23    0.008917       23\n",
       "24    0.008102       24\n",
       "2     0.006841        2\n",
       "25    0.006093       25\n",
       "13    0.005926       13\n",
       "9     0.001716        9\n",
       "15    0.000634       15\n",
       "19    0.000135       19\n",
       "16    0.000066       16\n",
       "20    0.000049       20\n",
       "21    0.000047       21\n",
       "8     0.000034        8\n",
       "6     0.000022        6\n",
       "10    0.000021       10\n",
       "22    0.000014       22\n",
       "5     0.000007        5\n",
       "7     0.000004        7\n",
       "11    0.000003       11\n",
       "12    0.000002       12"
      ]
     },
     "execution_count": 146,
     "metadata": {},
     "output_type": "execute_result"
    }
   ],
   "source": [
    "# RandomForest Feature Importance\n",
    "def get_rf_feature_importance(rf, X_train):\n",
    "    pd.DataFrame({'importance': rf.feature_importances_, 'feature': X_train.columns}).\\\n",
    "    df.sort_values('importance', ascending=False)\n",
    "    print(df)\n",
    "    \n",
    "\n",
    "rf = RandomForestClassifier(max_depth=5,random_state=0)\n",
    "rf.fit(Xtrain_transformed, ytrain)\n",
    "\n",
    "pd.DataFrame({'importance': rf.feature_importances_, 'feature': Xtrain_transformed_df.columns}).\\\n",
    "sort_values('importance', ascending=False)   #feature_importance- use for RF model\n"
   ]
  },
  {
   "cell_type": "code",
   "execution_count": 478,
   "id": "58eab3e8",
   "metadata": {},
   "outputs": [],
   "source": [
    "###Step 7: Iterate the transformed models. Optimize hyperparameters \n",
    "\n",
    "Xtrain = df_train[['Pclass', 'Age']]  \n",
    "Xtest = df_test[['Pclass', 'Age']]\n",
    "\n",
    "ytrain = df_train['Survived'] \n",
    "ytest = df_test['Survived']\n",
    "\n",
    "train_decision_tree(Xtrain,ytrain,Xtest, ytest,3)\n",
    "train_logistic_regression(Xtrain,ytrain,Xtest, ytest)\n",
    "train_randomforest(Xtrain,ytrain,Xtest, ytest)"
   ]
  },
  {
   "cell_type": "code",
   "execution_count": 597,
   "id": "34d41e03",
   "metadata": {},
   "outputs": [],
   "source": [
    "###Step 8: Make predictions for Titanic Kaggle challenge and submit results \n",
    "\n",
    "# Get test data \n",
    "test = pd.read_csv('test.csv')\n",
    "\n",
    "# Pre-Process it \n",
    "test['Age'].fillna('999', inplace=True)\n",
    "test['Age'] = pd.to_numeric(test_input['Age'])\n",
    "test['Age'].fillna(test['Age'].mean(), inplace=True)\n",
    "test_input = test[['Pclass', 'Age']]\n",
    "\n",
    "# Generate CSV with predictions for the 418 passengers of test.csv \n",
    "# This file should have 2 columns only: PassengerId and Survived \n",
    "titanic_pred = pd.DataFrame(rf2.predict(test_input), columns=['Survived'])\n",
    "titanic_pred['PassengerId'] = test['PassengerId']\n",
    "titanic_pred = titanic_pred[['PassengerId', 'Survived']]\n",
    "path = '/home/rita/Documents/GitHub/git_colab/week02/titanic_pred'\n",
    "titanic_pred.to_csv(path)\n"
   ]
  }
 ],
 "metadata": {
  "kernelspec": {
   "display_name": "Python 3 (ipykernel)",
   "language": "python",
   "name": "python3"
  },
  "language_info": {
   "codemirror_mode": {
    "name": "ipython",
    "version": 3
   },
   "file_extension": ".py",
   "mimetype": "text/x-python",
   "name": "python",
   "nbconvert_exporter": "python",
   "pygments_lexer": "ipython3",
   "version": "3.8.10"
  }
 },
 "nbformat": 4,
 "nbformat_minor": 5
}
