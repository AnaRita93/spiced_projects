{
 "cells": [
  {
   "cell_type": "code",
   "execution_count": null,
   "id": "cf6202c6",
   "metadata": {},
   "outputs": [],
   "source": [
    "### CRUD method with lists "
   ]
  },
  {
   "cell_type": "code",
   "execution_count": 9,
   "id": "c4786d3e",
   "metadata": {},
   "outputs": [
    {
     "data": {
      "text/plain": [
       "['coffee', 'water', 'apples', 'fish', 'cheese']"
      ]
     },
     "execution_count": 9,
     "metadata": {},
     "output_type": "execute_result"
    }
   ],
   "source": [
    "#Create a new list\n",
    "\n",
    "SM= ['coffee', 'water', 'apples', 'fish', 'cheese']\n",
    "SM"
   ]
  },
  {
   "cell_type": "code",
   "execution_count": 7,
   "id": "ddc77447",
   "metadata": {},
   "outputs": [
    {
     "data": {
      "text/plain": [
       "[10, 11, 12, 13, 14, 15, 16, 17, 18, 19]"
      ]
     },
     "execution_count": 7,
     "metadata": {},
     "output_type": "execute_result"
    }
   ],
   "source": [
    "list(range(10,20))"
   ]
  },
  {
   "cell_type": "code",
   "execution_count": 8,
   "id": "61100700",
   "metadata": {},
   "outputs": [
    {
     "data": {
      "text/plain": [
       "[0, 1, 4, 9, 16, 25, 36, 49, 64, 81]"
      ]
     },
     "execution_count": 8,
     "metadata": {},
     "output_type": "execute_result"
    }
   ],
   "source": [
    "[x** 2 for x in range(10)]"
   ]
  },
  {
   "cell_type": "code",
   "execution_count": 10,
   "id": "1ea14045",
   "metadata": {},
   "outputs": [
    {
     "name": "stdout",
     "output_type": "stream",
     "text": [
      "a e\n",
      "b f\n",
      "c g\n",
      "d h\n"
     ]
    }
   ],
   "source": [
    "a = 'abcd'\n",
    "b = 'efgh'\n",
    "for c1,c2 in zip(a,b): \n",
    "    print(c1,c2)"
   ]
  },
  {
   "cell_type": "code",
   "execution_count": 11,
   "id": "ff9ec9e9",
   "metadata": {},
   "outputs": [
    {
     "name": "stdout",
     "output_type": "stream",
     "text": [
      "a e\n",
      "b f\n",
      "c g\n",
      "d h\n"
     ]
    }
   ],
   "source": [
    "data = []\n",
    "for c1,c2 in zip(a,b):\n",
    "    print(c1,c2)\n",
    "    data.append(c1)\n",
    "    data.append(c2)"
   ]
  },
  {
   "cell_type": "code",
   "execution_count": 14,
   "id": "f8e18f6c",
   "metadata": {},
   "outputs": [
    {
     "data": {
      "text/plain": [
       "['coffee', 'water']"
      ]
     },
     "execution_count": 14,
     "metadata": {},
     "output_type": "execute_result"
    }
   ],
   "source": [
    "#Read (select) items from a list\n",
    "SM[0:2] "
   ]
  },
  {
   "cell_type": "code",
   "execution_count": 13,
   "id": "b558d217",
   "metadata": {},
   "outputs": [
    {
     "data": {
      "text/plain": [
       "'coffee'"
      ]
     },
     "execution_count": 13,
     "metadata": {},
     "output_type": "execute_result"
    }
   ],
   "source": [
    "SM[0]"
   ]
  },
  {
   "cell_type": "code",
   "execution_count": 16,
   "id": "d0a43406",
   "metadata": {},
   "outputs": [
    {
     "name": "stdout",
     "output_type": "stream",
     "text": [
      "Apple\n"
     ]
    }
   ],
   "source": [
    "if 'apples' in SM: print('Apple')"
   ]
  },
  {
   "cell_type": "code",
   "execution_count": 17,
   "id": "32ff5edc",
   "metadata": {},
   "outputs": [
    {
     "data": {
      "text/plain": [
       "['bread', 'coffee', 'water', 'apples', 'fish', 'cheese']"
      ]
     },
     "execution_count": 17,
     "metadata": {},
     "output_type": "execute_result"
    }
   ],
   "source": [
    "#Update the list with new data\n",
    "SM.insert( 0, 'bread')\n",
    "SM"
   ]
  },
  {
   "cell_type": "code",
   "execution_count": 19,
   "id": "db5fed1a",
   "metadata": {},
   "outputs": [
    {
     "data": {
      "text/plain": [
       "['bread', 'coffee', 'water', 'pears', 'fish', 'cheese']"
      ]
     },
     "execution_count": 19,
     "metadata": {},
     "output_type": "execute_result"
    }
   ],
   "source": [
    "SM[3]='pears'\n",
    "SM"
   ]
  },
  {
   "cell_type": "code",
   "execution_count": 21,
   "id": "04c656a1",
   "metadata": {},
   "outputs": [
    {
     "data": {
      "text/plain": [
       "['bread', 'cheese', 'coffee', 'fish', 'pears', 'water']"
      ]
     },
     "execution_count": 21,
     "metadata": {},
     "output_type": "execute_result"
    }
   ],
   "source": [
    "SM.sort()\n",
    "SM"
   ]
  },
  {
   "cell_type": "code",
   "execution_count": 23,
   "id": "8ec1e9f6",
   "metadata": {},
   "outputs": [
    {
     "data": {
      "text/plain": [
       "['cheese', 'coffee', 'fish', 'pears']"
      ]
     },
     "execution_count": 23,
     "metadata": {},
     "output_type": "execute_result"
    }
   ],
   "source": [
    "#Delete an item from a list\n",
    "SM.remove('bread')\n",
    "SM"
   ]
  },
  {
   "cell_type": "code",
   "execution_count": 24,
   "id": "3ebf23ec",
   "metadata": {},
   "outputs": [
    {
     "data": {
      "text/plain": [
       "['cheese', 'coffee', 'fish']"
      ]
     },
     "execution_count": 24,
     "metadata": {},
     "output_type": "execute_result"
    }
   ],
   "source": [
    "SM.pop()\n",
    "SM"
   ]
  },
  {
   "cell_type": "code",
   "execution_count": 25,
   "id": "355b20cc",
   "metadata": {},
   "outputs": [
    {
     "data": {
      "text/plain": [
       "[['cheese', 'coffee', 'fish'], ['banana', 'banana', 'banana']]"
      ]
     },
     "execution_count": 25,
     "metadata": {},
     "output_type": "execute_result"
    }
   ],
   "source": [
    "shopping = []\n",
    "shopping.append(SM)\n",
    "shopping.append(['banana','banana','banana'])\n",
    "shopping"
   ]
  },
  {
   "cell_type": "code",
   "execution_count": 26,
   "id": "0a22d303",
   "metadata": {},
   "outputs": [
    {
     "data": {
      "text/plain": [
       "['cheese', 'fish']"
      ]
     },
     "execution_count": 26,
     "metadata": {},
     "output_type": "execute_result"
    }
   ],
   "source": [
    "SM.remove('coffee')\n",
    "SM"
   ]
  },
  {
   "cell_type": "code",
   "execution_count": 27,
   "id": "be6c274e",
   "metadata": {},
   "outputs": [
    {
     "data": {
      "text/plain": [
       "[['cheese', 'fish'], ['banana', 'banana', 'banana']]"
      ]
     },
     "execution_count": 27,
     "metadata": {},
     "output_type": "execute_result"
    }
   ],
   "source": [
    "shopping"
   ]
  },
  {
   "cell_type": "code",
   "execution_count": null,
   "id": "eac45eb8",
   "metadata": {},
   "outputs": [],
   "source": [
    "# lists: sorting, slicing, do something in each element\n",
    "# dictionaries: looking up things quickly, replacing elements, mapping elements to others, counting stuff"
   ]
  },
  {
   "cell_type": "code",
   "execution_count": 28,
   "id": "71131431",
   "metadata": {},
   "outputs": [],
   "source": [
    "### CRUD method with dictionaries\n",
    "\n",
    "#Create \n",
    "d = {'fox':'Fuchs', 'dog':'Hund'}\n"
   ]
  },
  {
   "cell_type": "code",
   "execution_count": 41,
   "id": "6202be30",
   "metadata": {},
   "outputs": [
    {
     "ename": "SyntaxError",
     "evalue": "invalid syntax (<ipython-input-41-9656dfa9c04e>, line 4)",
     "output_type": "error",
     "traceback": [
      "\u001b[0;36m  File \u001b[0;32m\"<ipython-input-41-9656dfa9c04e>\"\u001b[0;36m, line \u001b[0;32m4\u001b[0m\n\u001b[0;31m    dict([('a':1),('b':3)])\u001b[0m\n\u001b[0m              ^\u001b[0m\n\u001b[0;31mSyntaxError\u001b[0m\u001b[0;31m:\u001b[0m invalid syntax\n"
     ]
    }
   ],
   "source": [
    "#option2:df.to_dict()\n",
    "#option3:read a JSON file\n",
    "#option4\n",
    "dict([('a':1),('b':3)])"
   ]
  },
  {
   "cell_type": "code",
   "execution_count": null,
   "id": "9a238c6a",
   "metadata": {},
   "outputs": [],
   "source": [
    "# Read "
   ]
  },
  {
   "cell_type": "code",
   "execution_count": 31,
   "id": "53d774de",
   "metadata": {},
   "outputs": [
    {
     "data": {
      "text/plain": [
       "dict_values(['Fuchs', 'Hund', 'Katze'])"
      ]
     },
     "execution_count": 31,
     "metadata": {},
     "output_type": "execute_result"
    }
   ],
   "source": [
    "d.values()"
   ]
  },
  {
   "cell_type": "code",
   "execution_count": 32,
   "id": "76c8c11d",
   "metadata": {},
   "outputs": [
    {
     "data": {
      "text/plain": [
       "dict_keys(['fox', 'dog', 'cat'])"
      ]
     },
     "execution_count": 32,
     "metadata": {},
     "output_type": "execute_result"
    }
   ],
   "source": [
    "d.keys()"
   ]
  },
  {
   "cell_type": "code",
   "execution_count": 36,
   "id": "31c32777",
   "metadata": {},
   "outputs": [
    {
     "data": {
      "text/plain": [
       "'Hund'"
      ]
     },
     "execution_count": 36,
     "metadata": {},
     "output_type": "execute_result"
    }
   ],
   "source": [
    "d.get('dog')"
   ]
  },
  {
   "cell_type": "code",
   "execution_count": 30,
   "id": "40154b38",
   "metadata": {},
   "outputs": [
    {
     "data": {
      "text/plain": [
       "{'fox': 'Fuchs', 'dog': 'Hund', 'cat': 'Katze'}"
      ]
     },
     "execution_count": 30,
     "metadata": {},
     "output_type": "execute_result"
    }
   ],
   "source": [
    "# Update \n",
    "d['cat'] = 'Katze'\n",
    "d"
   ]
  },
  {
   "cell_type": "code",
   "execution_count": 33,
   "id": "093a100b",
   "metadata": {},
   "outputs": [
    {
     "data": {
      "text/plain": [
       "True"
      ]
     },
     "execution_count": 33,
     "metadata": {},
     "output_type": "execute_result"
    }
   ],
   "source": [
    "'fox' in d"
   ]
  },
  {
   "cell_type": "code",
   "execution_count": 35,
   "id": "564fe2b8",
   "metadata": {},
   "outputs": [
    {
     "data": {
      "text/plain": [
       "{'fox': 'Fuchs', 'dog': 'Hund', 'cat': 'Katze', 'fish': 0}"
      ]
     },
     "execution_count": 35,
     "metadata": {},
     "output_type": "execute_result"
    }
   ],
   "source": [
    "d.setdefault('fish',0)\n",
    "d"
   ]
  },
  {
   "cell_type": "code",
   "execution_count": 37,
   "id": "7ae9ecf6",
   "metadata": {},
   "outputs": [
    {
     "data": {
      "text/plain": [
       "4"
      ]
     },
     "execution_count": 37,
     "metadata": {},
     "output_type": "execute_result"
    }
   ],
   "source": [
    "len(d)"
   ]
  },
  {
   "cell_type": "code",
   "execution_count": 40,
   "id": "a4425431",
   "metadata": {},
   "outputs": [
    {
     "ename": "KeyError",
     "evalue": "'Katze'",
     "output_type": "error",
     "traceback": [
      "\u001b[0;31m---------------------------------------------------------------------------\u001b[0m",
      "\u001b[0;31mKeyError\u001b[0m                                  Traceback (most recent call last)",
      "\u001b[0;32m<ipython-input-40-7f909307ae37>\u001b[0m in \u001b[0;36m<module>\u001b[0;34m\u001b[0m\n\u001b[0;32m----> 1\u001b[0;31m \u001b[0md\u001b[0m\u001b[0;34m[\u001b[0m\u001b[0;34m'Katze'\u001b[0m\u001b[0;34m]\u001b[0m\u001b[0;34m\u001b[0m\u001b[0;34m\u001b[0m\u001b[0m\n\u001b[0m",
      "\u001b[0;31mKeyError\u001b[0m: 'Katze'"
     ]
    }
   ],
   "source": [
    "d['Katze']"
   ]
  },
  {
   "cell_type": "code",
   "execution_count": null,
   "id": "82ad422a",
   "metadata": {},
   "outputs": [],
   "source": []
  }
 ],
 "metadata": {
  "kernelspec": {
   "display_name": "Python 3 (ipykernel)",
   "language": "python",
   "name": "python3"
  },
  "language_info": {
   "codemirror_mode": {
    "name": "ipython",
    "version": 3
   },
   "file_extension": ".py",
   "mimetype": "text/x-python",
   "name": "python",
   "nbconvert_exporter": "python",
   "pygments_lexer": "ipython3",
   "version": "3.7.11"
  }
 },
 "nbformat": 4,
 "nbformat_minor": 5
}
