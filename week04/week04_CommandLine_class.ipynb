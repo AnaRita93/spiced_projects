{
 "cells": [
  {
   "cell_type": "code",
   "execution_count": null,
   "id": "7f305bab",
   "metadata": {},
   "outputs": [],
   "source": [
    "import sys\n",
    "artist = input('Please enter artist name:')\n",
    "n_songs= int(input('Please enter number of songs:'))\n",
    "print(\"Artist name is {} and has {} songs.\".format(artist, n_songs))"
   ]
  }
 ],
 "metadata": {
  "kernelspec": {
   "display_name": "Python 3 (ipykernel)",
   "language": "python",
   "name": "python3"
  },
  "language_info": {
   "codemirror_mode": {
    "name": "ipython",
    "version": 3
   },
   "file_extension": ".py",
   "mimetype": "text/x-python",
   "name": "python",
   "nbconvert_exporter": "python",
   "pygments_lexer": "ipython3",
   "version": "3.7.11"
  }
 },
 "nbformat": 4,
 "nbformat_minor": 5
}
