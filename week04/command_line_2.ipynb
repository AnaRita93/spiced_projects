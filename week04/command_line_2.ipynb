{
 "cells": [
  {
   "cell_type": "code",
   "execution_count": null,
   "id": "d656aaba",
   "metadata": {},
   "outputs": [],
   "source": [
    "import argparse\n",
    "parser = argparse.ArgumentParser()\n",
    "parser.add_argument(\"artist\", \n",
    "                    help=\"artist name\",\n",
    "                    type=str \n",
    "                    )\n",
    "parser.add_argument(\"--n_songs\", \n",
    "                    help=\"number of songs to scrape\",\n",
    "                    type=int\n",
    "                    )\n",
    "args = parser.parse_args()\n",
    "\n",
    "print(\"Artist name is {} and has {} songs.\".format(args.artist, args.n_songs))\n"
   ]
  }
 ],
 "metadata": {
  "kernelspec": {
   "display_name": "Python 3 (ipykernel)",
   "language": "python",
   "name": "python3"
  },
  "language_info": {
   "codemirror_mode": {
    "name": "ipython",
    "version": 3
   },
   "file_extension": ".py",
   "mimetype": "text/x-python",
   "name": "python",
   "nbconvert_exporter": "python",
   "pygments_lexer": "ipython3",
   "version": "3.7.11"
  }
 },
 "nbformat": 4,
 "nbformat_minor": 5
}
